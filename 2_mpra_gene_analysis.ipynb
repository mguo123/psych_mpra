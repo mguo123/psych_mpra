{
 "cells": [
  {
   "cell_type": "code",
   "execution_count": 8,
   "metadata": {},
   "outputs": [
    {
     "data": {
      "text/html": [
       "0.000158415841584158"
      ],
      "text/latex": [
       "0.000158415841584158"
      ],
      "text/markdown": [
       "0.000158415841584158"
      ],
      "text/plain": [
       "[1] 0.0001584158"
      ]
     },
     "metadata": {},
     "output_type": "display_data"
    }
   ],
   "source": [
    "08/25/2020\n"
   ]
  },
  {
   "cell_type": "code",
   "execution_count": 37,
   "metadata": {},
   "outputs": [],
   "source": [
    "library(tidyverse)\n",
    "library(reshape2)\n",
    "library(pheatmap)"
   ]
  },
  {
   "cell_type": "code",
   "execution_count": 7,
   "metadata": {},
   "outputs": [
    {
     "data": {
      "text/html": [
       "<table>\n",
       "<caption>A data.frame: 6 × 141</caption>\n",
       "<thead>\n",
       "\t<tr><th></th><th scope=col>X.1</th><th scope=col>name</th><th scope=col>X</th><th scope=col>Linked_SNP</th><th scope=col>Chr</th><th scope=col>Position</th><th scope=col>Index_SNP</th><th scope=col>Disease</th><th scope=col>DHS_tissue</th><th scope=col>eGene</th><th scope=col>⋯</th><th scope=col>dbscSNV.ada_score</th><th scope=col>dbscSNV.rf_score</th><th scope=col>RawScore</th><th scope=col>PHRED</th><th scope=col>num_disease</th><th scope=col>disease_interest</th><th scope=col>pass_thres_low</th><th scope=col>pass_thres</th><th scope=col>CADD_score_bool</th><th scope=col>name_abbr</th></tr>\n",
       "\t<tr><th></th><th scope=col>&lt;int&gt;</th><th scope=col>&lt;fct&gt;</th><th scope=col>&lt;int&gt;</th><th scope=col>&lt;fct&gt;</th><th scope=col>&lt;fct&gt;</th><th scope=col>&lt;int&gt;</th><th scope=col>&lt;fct&gt;</th><th scope=col>&lt;fct&gt;</th><th scope=col>&lt;fct&gt;</th><th scope=col>&lt;fct&gt;</th><th scope=col>⋯</th><th scope=col>&lt;dbl&gt;</th><th scope=col>&lt;dbl&gt;</th><th scope=col>&lt;dbl&gt;</th><th scope=col>&lt;dbl&gt;</th><th scope=col>&lt;int&gt;</th><th scope=col>&lt;lgl&gt;</th><th scope=col>&lt;lgl&gt;</th><th scope=col>&lt;lgl&gt;</th><th scope=col>&lt;lgl&gt;</th><th scope=col>&lt;chr&gt;</th></tr>\n",
       "</thead>\n",
       "<tbody>\n",
       "\t<tr><th scope=row>1</th><td>1</td><td>chr1.111243375.all_alt.G</td><td>75004</td><td>rs12085135</td><td>chr1</td><td>111243375</td><td>rs12061304 </td><td>panic disorder                               </td><td>t-helper_17_cell            </td><td>  </td><td>⋯</td><td>NA</td><td>NA</td><td>-0.197208</td><td>0.728</td><td>1</td><td> TRUE</td><td>TRUE</td><td>FALSE</td><td>NA</td><td>chr1_111243375</td></tr>\n",
       "\t<tr><th scope=row>2</th><td>2</td><td>chr1.111243375.Ref.C    </td><td>75004</td><td>rs12085135</td><td>chr1</td><td>111243375</td><td>rs12061304 </td><td>panic disorder                               </td><td>t-helper_17_cell            </td><td>  </td><td>⋯</td><td>NA</td><td>NA</td><td>-0.197208</td><td>0.728</td><td>1</td><td> TRUE</td><td>TRUE</td><td>FALSE</td><td>NA</td><td>chr1_111243375</td></tr>\n",
       "\t<tr><th scope=row>3</th><td>3</td><td>chr1.113938499.all_alt.C</td><td> 1977</td><td>rs74395031</td><td>chr1</td><td>113938499</td><td>rs115870915</td><td>type 2 diabetes,Obsessive Compulsive Disorder</td><td>astrocyte_of_the_spinal_cord</td><td>NA</td><td>⋯</td><td>NA</td><td>NA</td><td> 0.309426</td><td>7.336</td><td>1</td><td> TRUE</td><td>TRUE</td><td> TRUE</td><td>NA</td><td>chr1_113938499</td></tr>\n",
       "\t<tr><th scope=row>4</th><td>4</td><td>chr1.113938499.Ref.T    </td><td> 1977</td><td>rs74395031</td><td>chr1</td><td>113938499</td><td>rs115870915</td><td>type 2 diabetes,Obsessive Compulsive Disorder</td><td>astrocyte_of_the_spinal_cord</td><td>NA</td><td>⋯</td><td>NA</td><td>NA</td><td> 0.309426</td><td>7.336</td><td>1</td><td> TRUE</td><td>TRUE</td><td> TRUE</td><td>NA</td><td>chr1_113938499</td></tr>\n",
       "\t<tr><th scope=row>5</th><td>5</td><td>chr1.11712109.all_alt.T </td><td>  569</td><td>rs2103665 </td><td>chr1</td><td> 11712109</td><td>rs115049252</td><td>schizo                                       </td><td>spleen                      </td><td>NA</td><td>⋯</td><td>NA</td><td>NA</td><td> 0.193843</td><td>5.751</td><td>1</td><td>FALSE</td><td>TRUE</td><td> TRUE</td><td>NA</td><td>chr1_11712109 </td></tr>\n",
       "\t<tr><th scope=row>6</th><td>6</td><td>chr1.11712109.Ref.C     </td><td>  569</td><td>rs2103665 </td><td>chr1</td><td> 11712109</td><td>rs115049252</td><td>schizo                                       </td><td>spleen                      </td><td>NA</td><td>⋯</td><td>NA</td><td>NA</td><td> 0.193843</td><td>5.751</td><td>1</td><td>FALSE</td><td>TRUE</td><td> TRUE</td><td>NA</td><td>chr1_11712109 </td></tr>\n",
       "</tbody>\n",
       "</table>\n"
      ],
      "text/latex": [
       "A data.frame: 6 × 141\n",
       "\\begin{tabular}{r|lllllllllllllllllllll}\n",
       "  & X.1 & name & X & Linked\\_SNP & Chr & Position & Index\\_SNP & Disease & DHS\\_tissue & eGene & ⋯ & dbscSNV.ada\\_score & dbscSNV.rf\\_score & RawScore & PHRED & num\\_disease & disease\\_interest & pass\\_thres\\_low & pass\\_thres & CADD\\_score\\_bool & name\\_abbr\\\\\n",
       "  & <int> & <fct> & <int> & <fct> & <fct> & <int> & <fct> & <fct> & <fct> & <fct> & ⋯ & <dbl> & <dbl> & <dbl> & <dbl> & <int> & <lgl> & <lgl> & <lgl> & <lgl> & <chr>\\\\\n",
       "\\hline\n",
       "\t1 & 1 & chr1.111243375.all\\_alt.G & 75004 & rs12085135 & chr1 & 111243375 & rs12061304  & panic disorder                                & t-helper\\_17\\_cell             &    & ⋯ & NA & NA & -0.197208 & 0.728 & 1 &  TRUE & TRUE & FALSE & NA & chr1\\_111243375\\\\\n",
       "\t2 & 2 & chr1.111243375.Ref.C     & 75004 & rs12085135 & chr1 & 111243375 & rs12061304  & panic disorder                                & t-helper\\_17\\_cell             &    & ⋯ & NA & NA & -0.197208 & 0.728 & 1 &  TRUE & TRUE & FALSE & NA & chr1\\_111243375\\\\\n",
       "\t3 & 3 & chr1.113938499.all\\_alt.C &  1977 & rs74395031 & chr1 & 113938499 & rs115870915 & type 2 diabetes,Obsessive Compulsive Disorder & astrocyte\\_of\\_the\\_spinal\\_cord & NA & ⋯ & NA & NA &  0.309426 & 7.336 & 1 &  TRUE & TRUE &  TRUE & NA & chr1\\_113938499\\\\\n",
       "\t4 & 4 & chr1.113938499.Ref.T     &  1977 & rs74395031 & chr1 & 113938499 & rs115870915 & type 2 diabetes,Obsessive Compulsive Disorder & astrocyte\\_of\\_the\\_spinal\\_cord & NA & ⋯ & NA & NA &  0.309426 & 7.336 & 1 &  TRUE & TRUE &  TRUE & NA & chr1\\_113938499\\\\\n",
       "\t5 & 5 & chr1.11712109.all\\_alt.T  &   569 & rs2103665  & chr1 &  11712109 & rs115049252 & schizo                                        & spleen                       & NA & ⋯ & NA & NA &  0.193843 & 5.751 & 1 & FALSE & TRUE &  TRUE & NA & chr1\\_11712109 \\\\\n",
       "\t6 & 6 & chr1.11712109.Ref.C      &   569 & rs2103665  & chr1 &  11712109 & rs115049252 & schizo                                        & spleen                       & NA & ⋯ & NA & NA &  0.193843 & 5.751 & 1 & FALSE & TRUE &  TRUE & NA & chr1\\_11712109 \\\\\n",
       "\\end{tabular}\n"
      ],
      "text/markdown": [
       "\n",
       "A data.frame: 6 × 141\n",
       "\n",
       "| <!--/--> | X.1 &lt;int&gt; | name &lt;fct&gt; | X &lt;int&gt; | Linked_SNP &lt;fct&gt; | Chr &lt;fct&gt; | Position &lt;int&gt; | Index_SNP &lt;fct&gt; | Disease &lt;fct&gt; | DHS_tissue &lt;fct&gt; | eGene &lt;fct&gt; | ⋯ ⋯ | dbscSNV.ada_score &lt;dbl&gt; | dbscSNV.rf_score &lt;dbl&gt; | RawScore &lt;dbl&gt; | PHRED &lt;dbl&gt; | num_disease &lt;int&gt; | disease_interest &lt;lgl&gt; | pass_thres_low &lt;lgl&gt; | pass_thres &lt;lgl&gt; | CADD_score_bool &lt;lgl&gt; | name_abbr &lt;chr&gt; |\n",
       "|---|---|---|---|---|---|---|---|---|---|---|---|---|---|---|---|---|---|---|---|---|---|\n",
       "| 1 | 1 | chr1.111243375.all_alt.G | 75004 | rs12085135 | chr1 | 111243375 | rs12061304  | panic disorder                                | t-helper_17_cell             | <!----> | ⋯ | NA | NA | -0.197208 | 0.728 | 1 |  TRUE | TRUE | FALSE | NA | chr1_111243375 |\n",
       "| 2 | 2 | chr1.111243375.Ref.C     | 75004 | rs12085135 | chr1 | 111243375 | rs12061304  | panic disorder                                | t-helper_17_cell             | <!----> | ⋯ | NA | NA | -0.197208 | 0.728 | 1 |  TRUE | TRUE | FALSE | NA | chr1_111243375 |\n",
       "| 3 | 3 | chr1.113938499.all_alt.C |  1977 | rs74395031 | chr1 | 113938499 | rs115870915 | type 2 diabetes,Obsessive Compulsive Disorder | astrocyte_of_the_spinal_cord | NA | ⋯ | NA | NA |  0.309426 | 7.336 | 1 |  TRUE | TRUE |  TRUE | NA | chr1_113938499 |\n",
       "| 4 | 4 | chr1.113938499.Ref.T     |  1977 | rs74395031 | chr1 | 113938499 | rs115870915 | type 2 diabetes,Obsessive Compulsive Disorder | astrocyte_of_the_spinal_cord | NA | ⋯ | NA | NA |  0.309426 | 7.336 | 1 |  TRUE | TRUE |  TRUE | NA | chr1_113938499 |\n",
       "| 5 | 5 | chr1.11712109.all_alt.T  |   569 | rs2103665  | chr1 |  11712109 | rs115049252 | schizo                                        | spleen                       | NA | ⋯ | NA | NA |  0.193843 | 5.751 | 1 | FALSE | TRUE |  TRUE | NA | chr1_11712109  |\n",
       "| 6 | 6 | chr1.11712109.Ref.C      |   569 | rs2103665  | chr1 |  11712109 | rs115049252 | schizo                                        | spleen                       | NA | ⋯ | NA | NA |  0.193843 | 5.751 | 1 | FALSE | TRUE |  TRUE | NA | chr1_11712109  |\n",
       "\n"
      ],
      "text/plain": [
       "  X.1 name                     X     Linked_SNP Chr  Position  Index_SNP  \n",
       "1 1   chr1.111243375.all_alt.G 75004 rs12085135 chr1 111243375 rs12061304 \n",
       "2 2   chr1.111243375.Ref.C     75004 rs12085135 chr1 111243375 rs12061304 \n",
       "3 3   chr1.113938499.all_alt.C  1977 rs74395031 chr1 113938499 rs115870915\n",
       "4 4   chr1.113938499.Ref.T      1977 rs74395031 chr1 113938499 rs115870915\n",
       "5 5   chr1.11712109.all_alt.T    569 rs2103665  chr1  11712109 rs115049252\n",
       "6 6   chr1.11712109.Ref.C        569 rs2103665  chr1  11712109 rs115049252\n",
       "  Disease                                       DHS_tissue                  \n",
       "1 panic disorder                                t-helper_17_cell            \n",
       "2 panic disorder                                t-helper_17_cell            \n",
       "3 type 2 diabetes,Obsessive Compulsive Disorder astrocyte_of_the_spinal_cord\n",
       "4 type 2 diabetes,Obsessive Compulsive Disorder astrocyte_of_the_spinal_cord\n",
       "5 schizo                                        spleen                      \n",
       "6 schizo                                        spleen                      \n",
       "  eGene ⋯ dbscSNV.ada_score dbscSNV.rf_score RawScore  PHRED num_disease\n",
       "1       ⋯ NA                NA               -0.197208 0.728 1          \n",
       "2       ⋯ NA                NA               -0.197208 0.728 1          \n",
       "3 NA    ⋯ NA                NA                0.309426 7.336 1          \n",
       "4 NA    ⋯ NA                NA                0.309426 7.336 1          \n",
       "5 NA    ⋯ NA                NA                0.193843 5.751 1          \n",
       "6 NA    ⋯ NA                NA                0.193843 5.751 1          \n",
       "  disease_interest pass_thres_low pass_thres CADD_score_bool name_abbr     \n",
       "1  TRUE            TRUE           FALSE      NA              chr1_111243375\n",
       "2  TRUE            TRUE           FALSE      NA              chr1_111243375\n",
       "3  TRUE            TRUE            TRUE      NA              chr1_113938499\n",
       "4  TRUE            TRUE            TRUE      NA              chr1_113938499\n",
       "5 FALSE            TRUE            TRUE      NA              chr1_11712109 \n",
       "6 FALSE            TRUE            TRUE      NA              chr1_11712109 "
      ]
     },
     "metadata": {},
     "output_type": "display_data"
    }
   ],
   "source": [
    "lib_csv = '../../psych_lib_info.csv'\n",
    "lib_df = read.csv(lib_csv)\n",
    "lib_df = mutate(lib_df, name_abbr = str_c(Chr, Position, sep='_'))\n",
    "head(lib_df)"
   ]
  },
  {
   "cell_type": "code",
   "execution_count": 78,
   "metadata": {},
   "outputs": [],
   "source": [
    "D0 = read.csv('mpraanalyze_H9D0_comp_filt.csv')\n",
    "\n",
    "D2 = read.csv('mpraanalyze_H9D2_comp_filt.csv')\n",
    "\n",
    "D4 = read.csv('mpraanalyze_H9D4_comp_filt.csv')\n",
    "\n",
    "D10 =read.csv( 'mpraanalyze_H9D10_comp_filt.csv')\n",
    "\n",
    "SL = read.csv( 'mpraanalyze_SL_comp_filt.csv')\n",
    "SLC = read.csv( 'mpraanalyze_SLC_comp_filt.csv')\n",
    "\n",
    "AST1 = read.csv( 'mpraanalyze_AST1_comp_filt.csv')\n"
   ]
  },
  {
   "cell_type": "code",
   "execution_count": 80,
   "metadata": {},
   "outputs": [
    {
     "data": {
      "text/html": [
       "<ol class=list-inline>\n",
       "\t<li>atopic dermatitis,schizophrenia</li>\n",
       "\t<li>atopic dermatitis,schizophrenia</li>\n",
       "\t<li>parkinson,schizophrenia</li>\n",
       "\t<li>parkinson,schizophrenia</li>\n",
       "\t<li>schizo</li>\n",
       "\t<li>schizo</li>\n",
       "\t<li>schizo</li>\n",
       "\t<li>schizo</li>\n",
       "\t<li>schizo</li>\n",
       "\t<li>schizophrenia</li>\n",
       "\t<li>schizophrenia</li>\n",
       "\t<li>depression</li>\n",
       "\t<li>depression</li>\n",
       "\t<li>attention deficit hyperactivity disorder,schizophrenia,hypertension</li>\n",
       "\t<li>attention deficit hyperactivity disorder,schizophrenia,hypertension</li>\n",
       "\t<li>anxiety</li>\n",
       "\t<li>anxiety</li>\n",
       "\t<li>anxiety</li>\n",
       "\t<li>anxiety</li>\n",
       "\t<li>schizo</li>\n",
       "\t<li>schizo</li>\n",
       "\t<li>Panic Disorder</li>\n",
       "\t<li>Panic Disorder</li>\n",
       "\t<li>schizophrenia</li>\n",
       "\t<li>schizophrenia</li>\n",
       "\t<li>borderline personality disorder</li>\n",
       "\t<li>borderline personality disorder</li>\n",
       "\t<li>schizophrenia,brca,lung</li>\n",
       "\t<li>schizophrenia,brca,lung</li>\n",
       "\t<li>bipolar</li>\n",
       "\t<li>bipolar</li>\n",
       "\t<li>anxiety</li>\n",
       "\t<li>anxiety</li>\n",
       "\t<li>autism</li>\n",
       "\t<li>autism</li>\n",
       "\t<li>bipolar</li>\n",
       "\t<li>bipolar</li>\n",
       "\t<li>vitiligo,schizophrenia</li>\n",
       "\t<li>vitiligo,schizophrenia</li>\n",
       "\t<li>schizophrenia</li>\n",
       "\t<li>schizophrenia</li>\n",
       "\t<li>asthma,depression</li>\n",
       "\t<li>asthma,depression</li>\n",
       "\t<li>schizophrenia,bipolar,schizophrenia</li>\n",
       "\t<li>schizophrenia,bipolar,schizophrenia</li>\n",
       "\t<li>anxiety</li>\n",
       "\t<li>anxiety</li>\n",
       "</ol>\n",
       "\n",
       "<details>\n",
       "\t<summary style=display:list-item;cursor:pointer>\n",
       "\t\t<strong>Levels</strong>:\n",
       "\t</summary>\n",
       "\t<ol class=list-inline>\n",
       "\t\t<li>'anxiety'</li>\n",
       "\t\t<li>'asthma,depression'</li>\n",
       "\t\t<li>'atopic dermatitis,schizophrenia'</li>\n",
       "\t\t<li>'attention deficit hyperactivity disorder,schizophrenia,hypertension'</li>\n",
       "\t\t<li>'autism'</li>\n",
       "\t\t<li>'bipolar'</li>\n",
       "\t\t<li>'borderline personality disorder'</li>\n",
       "\t\t<li>'depression'</li>\n",
       "\t\t<li>'Panic Disorder'</li>\n",
       "\t\t<li>'parkinson,schizophrenia'</li>\n",
       "\t\t<li>'schizo'</li>\n",
       "\t\t<li>'schizophrenia'</li>\n",
       "\t\t<li>'schizophrenia,bipolar,schizophrenia'</li>\n",
       "\t\t<li>'schizophrenia,brca,lung'</li>\n",
       "\t\t<li>'vitiligo,schizophrenia'</li>\n",
       "\t</ol>\n",
       "</details>"
      ],
      "text/latex": [
       "\\begin{enumerate*}\n",
       "\\item atopic dermatitis,schizophrenia\n",
       "\\item atopic dermatitis,schizophrenia\n",
       "\\item parkinson,schizophrenia\n",
       "\\item parkinson,schizophrenia\n",
       "\\item schizo\n",
       "\\item schizo\n",
       "\\item schizo\n",
       "\\item schizo\n",
       "\\item schizo\n",
       "\\item schizophrenia\n",
       "\\item schizophrenia\n",
       "\\item depression\n",
       "\\item depression\n",
       "\\item attention deficit hyperactivity disorder,schizophrenia,hypertension\n",
       "\\item attention deficit hyperactivity disorder,schizophrenia,hypertension\n",
       "\\item anxiety\n",
       "\\item anxiety\n",
       "\\item anxiety\n",
       "\\item anxiety\n",
       "\\item schizo\n",
       "\\item schizo\n",
       "\\item Panic Disorder\n",
       "\\item Panic Disorder\n",
       "\\item schizophrenia\n",
       "\\item schizophrenia\n",
       "\\item borderline personality disorder\n",
       "\\item borderline personality disorder\n",
       "\\item schizophrenia,brca,lung\n",
       "\\item schizophrenia,brca,lung\n",
       "\\item bipolar\n",
       "\\item bipolar\n",
       "\\item anxiety\n",
       "\\item anxiety\n",
       "\\item autism\n",
       "\\item autism\n",
       "\\item bipolar\n",
       "\\item bipolar\n",
       "\\item vitiligo,schizophrenia\n",
       "\\item vitiligo,schizophrenia\n",
       "\\item schizophrenia\n",
       "\\item schizophrenia\n",
       "\\item asthma,depression\n",
       "\\item asthma,depression\n",
       "\\item schizophrenia,bipolar,schizophrenia\n",
       "\\item schizophrenia,bipolar,schizophrenia\n",
       "\\item anxiety\n",
       "\\item anxiety\n",
       "\\end{enumerate*}\n",
       "\n",
       "\\emph{Levels}: \\begin{enumerate*}\n",
       "\\item 'anxiety'\n",
       "\\item 'asthma,depression'\n",
       "\\item 'atopic dermatitis,schizophrenia'\n",
       "\\item 'attention deficit hyperactivity disorder,schizophrenia,hypertension'\n",
       "\\item 'autism'\n",
       "\\item 'bipolar'\n",
       "\\item 'borderline personality disorder'\n",
       "\\item 'depression'\n",
       "\\item 'Panic Disorder'\n",
       "\\item 'parkinson,schizophrenia'\n",
       "\\item 'schizo'\n",
       "\\item 'schizophrenia'\n",
       "\\item 'schizophrenia,bipolar,schizophrenia'\n",
       "\\item 'schizophrenia,brca,lung'\n",
       "\\item 'vitiligo,schizophrenia'\n",
       "\\end{enumerate*}\n"
      ],
      "text/markdown": [
       "1. atopic dermatitis,schizophrenia\n",
       "2. atopic dermatitis,schizophrenia\n",
       "3. parkinson,schizophrenia\n",
       "4. parkinson,schizophrenia\n",
       "5. schizo\n",
       "6. schizo\n",
       "7. schizo\n",
       "8. schizo\n",
       "9. schizo\n",
       "10. schizophrenia\n",
       "11. schizophrenia\n",
       "12. depression\n",
       "13. depression\n",
       "14. attention deficit hyperactivity disorder,schizophrenia,hypertension\n",
       "15. attention deficit hyperactivity disorder,schizophrenia,hypertension\n",
       "16. anxiety\n",
       "17. anxiety\n",
       "18. anxiety\n",
       "19. anxiety\n",
       "20. schizo\n",
       "21. schizo\n",
       "22. Panic Disorder\n",
       "23. Panic Disorder\n",
       "24. schizophrenia\n",
       "25. schizophrenia\n",
       "26. borderline personality disorder\n",
       "27. borderline personality disorder\n",
       "28. schizophrenia,brca,lung\n",
       "29. schizophrenia,brca,lung\n",
       "30. bipolar\n",
       "31. bipolar\n",
       "32. anxiety\n",
       "33. anxiety\n",
       "34. autism\n",
       "35. autism\n",
       "36. bipolar\n",
       "37. bipolar\n",
       "38. vitiligo,schizophrenia\n",
       "39. vitiligo,schizophrenia\n",
       "40. schizophrenia\n",
       "41. schizophrenia\n",
       "42. asthma,depression\n",
       "43. asthma,depression\n",
       "44. schizophrenia,bipolar,schizophrenia\n",
       "45. schizophrenia,bipolar,schizophrenia\n",
       "46. anxiety\n",
       "47. anxiety\n",
       "\n",
       "\n",
       "\n",
       "**Levels**: 1. 'anxiety'\n",
       "2. 'asthma,depression'\n",
       "3. 'atopic dermatitis,schizophrenia'\n",
       "4. 'attention deficit hyperactivity disorder,schizophrenia,hypertension'\n",
       "5. 'autism'\n",
       "6. 'bipolar'\n",
       "7. 'borderline personality disorder'\n",
       "8. 'depression'\n",
       "9. 'Panic Disorder'\n",
       "10. 'parkinson,schizophrenia'\n",
       "11. 'schizo'\n",
       "12. 'schizophrenia'\n",
       "13. 'schizophrenia,bipolar,schizophrenia'\n",
       "14. 'schizophrenia,brca,lung'\n",
       "15. 'vitiligo,schizophrenia'\n",
       "\n",
       "\n"
      ],
      "text/plain": [
       " [1] atopic dermatitis,schizophrenia                                    \n",
       " [2] atopic dermatitis,schizophrenia                                    \n",
       " [3] parkinson,schizophrenia                                            \n",
       " [4] parkinson,schizophrenia                                            \n",
       " [5] schizo                                                             \n",
       " [6] schizo                                                             \n",
       " [7] schizo                                                             \n",
       " [8] schizo                                                             \n",
       " [9] schizo                                                             \n",
       "[10] schizophrenia                                                      \n",
       "[11] schizophrenia                                                      \n",
       "[12] depression                                                         \n",
       "[13] depression                                                         \n",
       "[14] attention deficit hyperactivity disorder,schizophrenia,hypertension\n",
       "[15] attention deficit hyperactivity disorder,schizophrenia,hypertension\n",
       "[16] anxiety                                                            \n",
       "[17] anxiety                                                            \n",
       "[18] anxiety                                                            \n",
       "[19] anxiety                                                            \n",
       "[20] schizo                                                             \n",
       "[21] schizo                                                             \n",
       "[22] Panic Disorder                                                     \n",
       "[23] Panic Disorder                                                     \n",
       "[24] schizophrenia                                                      \n",
       "[25] schizophrenia                                                      \n",
       "[26] borderline personality disorder                                    \n",
       "[27] borderline personality disorder                                    \n",
       "[28] schizophrenia,brca,lung                                            \n",
       "[29] schizophrenia,brca,lung                                            \n",
       "[30] bipolar                                                            \n",
       "[31] bipolar                                                            \n",
       "[32] anxiety                                                            \n",
       "[33] anxiety                                                            \n",
       "[34] autism                                                             \n",
       "[35] autism                                                             \n",
       "[36] bipolar                                                            \n",
       "[37] bipolar                                                            \n",
       "[38] vitiligo,schizophrenia                                             \n",
       "[39] vitiligo,schizophrenia                                             \n",
       "[40] schizophrenia                                                      \n",
       "[41] schizophrenia                                                      \n",
       "[42] asthma,depression                                                  \n",
       "[43] asthma,depression                                                  \n",
       "[44] schizophrenia,bipolar,schizophrenia                                \n",
       "[45] schizophrenia,bipolar,schizophrenia                                \n",
       "[46] anxiety                                                            \n",
       "[47] anxiety                                                            \n",
       "15 Levels: anxiety asthma,depression ... vitiligo,schizophrenia"
      ]
     },
     "metadata": {},
     "output_type": "display_data"
    }
   ],
   "source": [
    "D0$Disease"
   ]
  },
  {
   "cell_type": "code",
   "execution_count": 76,
   "metadata": {},
   "outputs": [
    {
     "data": {
      "text/html": [
       "88"
      ],
      "text/latex": [
       "88"
      ],
      "text/markdown": [
       "88"
      ],
      "text/plain": [
       "[1] 88"
      ]
     },
     "metadata": {},
     "output_type": "display_data"
    },
    {
     "data": {
      "text/html": [
       "76"
      ],
      "text/latex": [
       "76"
      ],
      "text/markdown": [
       "76"
      ],
      "text/plain": [
       "[1] 76"
      ]
     },
     "metadata": {},
     "output_type": "display_data"
    },
    {
     "data": {
      "text/html": [
       "73"
      ],
      "text/latex": [
       "73"
      ],
      "text/markdown": [
       "73"
      ],
      "text/plain": [
       "[1] 73"
      ]
     },
     "metadata": {},
     "output_type": "display_data"
    },
    {
     "data": {
      "text/html": [
       "104"
      ],
      "text/latex": [
       "104"
      ],
      "text/markdown": [
       "104"
      ],
      "text/plain": [
       "[1] 104"
      ]
     },
     "metadata": {},
     "output_type": "display_data"
    },
    {
     "data": {
      "text/html": [
       "42"
      ],
      "text/latex": [
       "42"
      ],
      "text/markdown": [
       "42"
      ],
      "text/plain": [
       "[1] 42"
      ]
     },
     "metadata": {},
     "output_type": "display_data"
    },
    {
     "data": {
      "text/html": [
       "113"
      ],
      "text/latex": [
       "113"
      ],
      "text/markdown": [
       "113"
      ],
      "text/plain": [
       "[1] 113"
      ]
     },
     "metadata": {},
     "output_type": "display_data"
    },
    {
     "data": {
      "text/html": [
       "78"
      ],
      "text/latex": [
       "78"
      ],
      "text/markdown": [
       "78"
      ],
      "text/plain": [
       "[1] 78"
      ]
     },
     "metadata": {},
     "output_type": "display_data"
    }
   ],
   "source": [
    "length(unique(D0$rowname))\n",
    "length(unique(D2$rowname))\n",
    "length(unique(D4$rowname))\n",
    "length(unique(D10$rowname))\n",
    "length(unique(SL$rowname))\n",
    "length(unique(SLC$rowname))\n",
    "length(unique(AST1$rowname))\n"
   ]
  },
  {
   "cell_type": "code",
   "execution_count": 77,
   "metadata": {},
   "outputs": [
    {
     "data": {
      "text/html": [
       "165"
      ],
      "text/latex": [
       "165"
      ],
      "text/markdown": [
       "165"
      ],
      "text/plain": [
       "[1] 165"
      ]
     },
     "metadata": {},
     "output_type": "display_data"
    }
   ],
   "source": [
    "length(unique(D0$rowname, D2$rowname, D4$rowname,D10$rowname, AST1$rowname, SL$rowname, SLC$rowname))"
   ]
  },
  {
   "cell_type": "code",
   "execution_count": 9,
   "metadata": {},
   "outputs": [
    {
     "name": "stderr",
     "output_type": "stream",
     "text": [
      "Warning message:\n",
      "“Column `rowname`/`name_abbr` joining factor and character vector, coercing into character vector”\n",
      "Warning message:\n",
      "“Column `rowname`/`name_abbr` joining factor and character vector, coercing into character vector”\n",
      "Warning message:\n",
      "“Column `rowname`/`name_abbr` joining factor and character vector, coercing into character vector”\n",
      "Warning message:\n",
      "“Column `rowname`/`name_abbr` joining factor and character vector, coercing into character vector”\n"
     ]
    }
   ],
   "source": [
    "D0 = read.csv('mpraanalyze_H9D0_comp.csv')\n",
    "D0 = D0 %>%\n",
    "    left_join(lib_df, by=c('rowname'='name_abbr'))\n",
    "D2 = read.csv('mpraanalyze_H9D2_comp.csv')\n",
    "D2 = D2 %>%\n",
    "    left_join(lib_df, by=c('rowname'='name_abbr'))\n",
    "D4 = read.csv('mpraanalyze_H9D4_comp.csv')\n",
    "D4 = D4 %>%\n",
    "    left_join(lib_df, by=c('rowname'='name_abbr'))\n",
    "D10 =read.csv( 'mpraanalyze_H9D10_comp.csv')\n",
    "D10 = D10 %>%\n",
    "    left_join(lib_df, by=c('rowname'='name_abbr'))"
   ]
  },
  {
   "cell_type": "code",
   "execution_count": 11,
   "metadata": {
    "collapsed": true,
    "jupyter": {
     "outputs_hidden": true
    }
   },
   "outputs": [
    {
     "data": {
      "text/html": [
       "<ol class=list-inline>\n",
       "\t<li>'X.x'</li>\n",
       "\t<li>'rowname'</li>\n",
       "\t<li>'statistic'</li>\n",
       "\t<li>'pval'</li>\n",
       "\t<li>'fdr'</li>\n",
       "\t<li>'df.test'</li>\n",
       "\t<li>'df.dna'</li>\n",
       "\t<li>'df.rna.full'</li>\n",
       "\t<li>'df.rna.red'</li>\n",
       "\t<li>'logFC'</li>\n",
       "\t<li>'neglog10_p'</li>\n",
       "\t<li>'neglog10_p_x_logFC'</li>\n",
       "\t<li>'X.1'</li>\n",
       "\t<li>'name'</li>\n",
       "\t<li>'X.y'</li>\n",
       "\t<li>'Linked_SNP'</li>\n",
       "\t<li>'Chr'</li>\n",
       "\t<li>'Position'</li>\n",
       "\t<li>'Index_SNP'</li>\n",
       "\t<li>'Disease'</li>\n",
       "\t<li>'DHS_tissue'</li>\n",
       "\t<li>'eGene'</li>\n",
       "\t<li>'eQTL_tissue'</li>\n",
       "\t<li>'Pval'</li>\n",
       "\t<li>'source'</li>\n",
       "\t<li>'RS'</li>\n",
       "\t<li>'pos'</li>\n",
       "\t<li>'info'</li>\n",
       "\t<li>'allele_type'</li>\n",
       "\t<li>'allele'</li>\n",
       "\t<li>'seq150_new'</li>\n",
       "\t<li>'seq21_new'</li>\n",
       "\t<li>'schizo'</li>\n",
       "\t<li>'depress'</li>\n",
       "\t<li>'bipolar'</li>\n",
       "\t<li>'anxiety'</li>\n",
       "\t<li>'attent'</li>\n",
       "\t<li>'personality'</li>\n",
       "\t<li>'panic'</li>\n",
       "\t<li>'traum'</li>\n",
       "\t<li>'autism'</li>\n",
       "\t<li>'ocd'</li>\n",
       "\t<li>'Ref'</li>\n",
       "\t<li>'Alt'</li>\n",
       "\t<li>'Type'</li>\n",
       "\t<li>'Length'</li>\n",
       "\t<li>'AnnoType'</li>\n",
       "\t<li>'Consequence'</li>\n",
       "\t<li>'ConsScore'</li>\n",
       "\t<li>'ConsDetail'</li>\n",
       "\t<li>'GC'</li>\n",
       "\t<li>'CpG'</li>\n",
       "\t<li>'motifECount'</li>\n",
       "\t<li>'motifEName'</li>\n",
       "\t<li>'motifEHIPos'</li>\n",
       "\t<li>'motifEScoreChng'</li>\n",
       "\t<li>'oAA'</li>\n",
       "\t<li>'nAA'</li>\n",
       "\t<li>'GeneID'</li>\n",
       "\t<li>'FeatureID'</li>\n",
       "\t<li>'GeneName'</li>\n",
       "\t<li>'CCDS'</li>\n",
       "\t<li>'Intron'</li>\n",
       "\t<li>'Exon'</li>\n",
       "\t<li>'cDNApos'</li>\n",
       "\t<li>'relcDNApos'</li>\n",
       "\t<li>'CDSpos'</li>\n",
       "\t<li>'relCDSpos'</li>\n",
       "\t<li>'protPos'</li>\n",
       "\t<li>'relProtPos'</li>\n",
       "\t<li>'Domain'</li>\n",
       "\t<li>'Dst2Splice'</li>\n",
       "\t<li>'Dst2SplType'</li>\n",
       "\t<li>'minDistTSS'</li>\n",
       "\t<li>'minDistTSE'</li>\n",
       "\t<li>'SIFTcat'</li>\n",
       "\t<li>'SIFTval'</li>\n",
       "\t<li>'PolyPhenCat'</li>\n",
       "\t<li>'PolyPhenVal'</li>\n",
       "\t<li>'priPhCons'</li>\n",
       "\t<li>'mamPhCons'</li>\n",
       "\t<li>'verPhCons'</li>\n",
       "\t<li>'priPhyloP'</li>\n",
       "\t<li>'mamPhyloP'</li>\n",
       "\t<li>'verPhyloP'</li>\n",
       "\t<li>'bStatistic'</li>\n",
       "\t<li>'targetScan'</li>\n",
       "\t<li>'mirSVR.Score'</li>\n",
       "\t<li>'mirSVR.E'</li>\n",
       "\t<li>'mirSVR.Aln'</li>\n",
       "\t<li>'cHmmTssA'</li>\n",
       "\t<li>'cHmmTssAFlnk'</li>\n",
       "\t<li>'cHmmTxFlnk'</li>\n",
       "\t<li>'cHmmTx'</li>\n",
       "\t<li>'cHmmTxWk'</li>\n",
       "\t<li>'cHmmEnhG'</li>\n",
       "\t<li>'cHmmEnh'</li>\n",
       "\t<li>'cHmmZnfRpts'</li>\n",
       "\t<li>'cHmmHet'</li>\n",
       "\t<li>'cHmmTssBiv'</li>\n",
       "\t<li>'cHmmBivFlnk'</li>\n",
       "\t<li>'cHmmEnhBiv'</li>\n",
       "\t<li>'cHmmReprPC'</li>\n",
       "\t<li>'cHmmReprPCWk'</li>\n",
       "\t<li>'cHmmQuies'</li>\n",
       "\t<li>'GerpRS'</li>\n",
       "\t<li>'GerpRSpval'</li>\n",
       "\t<li>'GerpN'</li>\n",
       "\t<li>'GerpS'</li>\n",
       "\t<li>'TFBS'</li>\n",
       "\t<li>'TFBSPeaks'</li>\n",
       "\t<li>'TFBSPeaksMax'</li>\n",
       "\t<li>'tOverlapMotifs'</li>\n",
       "\t<li>'motifDist'</li>\n",
       "\t<li>'Segway'</li>\n",
       "\t<li>'EncH3K27Ac'</li>\n",
       "\t<li>'EncH3K4Me1'</li>\n",
       "\t<li>'EncH3K4Me3'</li>\n",
       "\t<li>'EncExp'</li>\n",
       "\t<li>'EncNucleo'</li>\n",
       "\t<li>'EncOCC'</li>\n",
       "\t<li>'EncOCCombPVal'</li>\n",
       "\t<li>'EncOCDNasePVal'</li>\n",
       "\t<li>'EncOCFairePVal'</li>\n",
       "\t<li>'EncOCpolIIPVal'</li>\n",
       "\t<li>'EncOCctcfPVal'</li>\n",
       "\t<li>'EncOCmycPVal'</li>\n",
       "\t<li>'EncOCDNaseSig'</li>\n",
       "\t<li>'EncOCFaireSig'</li>\n",
       "\t<li>'EncOCpolIISig'</li>\n",
       "\t<li>'EncOCctcfSig'</li>\n",
       "\t<li>'EncOCmycSig'</li>\n",
       "\t<li>'Grantham'</li>\n",
       "\t<li>'Dist2Mutation'</li>\n",
       "\t<li>'Freq100bp'</li>\n",
       "\t<li>'Rare100bp'</li>\n",
       "\t<li>'Sngl100bp'</li>\n",
       "\t<li>'Freq1000bp'</li>\n",
       "\t<li>'Rare1000bp'</li>\n",
       "\t<li>'Sngl1000bp'</li>\n",
       "\t<li>'Freq10000bp'</li>\n",
       "\t<li>'Rare10000bp'</li>\n",
       "\t<li>'Sngl10000bp'</li>\n",
       "\t<li>'dbscSNV.ada_score'</li>\n",
       "\t<li>'dbscSNV.rf_score'</li>\n",
       "\t<li>'RawScore'</li>\n",
       "\t<li>'PHRED'</li>\n",
       "\t<li>'num_disease'</li>\n",
       "\t<li>'disease_interest'</li>\n",
       "\t<li>'pass_thres_low'</li>\n",
       "\t<li>'pass_thres'</li>\n",
       "\t<li>'CADD_score_bool'</li>\n",
       "</ol>\n"
      ],
      "text/latex": [
       "\\begin{enumerate*}\n",
       "\\item 'X.x'\n",
       "\\item 'rowname'\n",
       "\\item 'statistic'\n",
       "\\item 'pval'\n",
       "\\item 'fdr'\n",
       "\\item 'df.test'\n",
       "\\item 'df.dna'\n",
       "\\item 'df.rna.full'\n",
       "\\item 'df.rna.red'\n",
       "\\item 'logFC'\n",
       "\\item 'neglog10\\_p'\n",
       "\\item 'neglog10\\_p\\_x\\_logFC'\n",
       "\\item 'X.1'\n",
       "\\item 'name'\n",
       "\\item 'X.y'\n",
       "\\item 'Linked\\_SNP'\n",
       "\\item 'Chr'\n",
       "\\item 'Position'\n",
       "\\item 'Index\\_SNP'\n",
       "\\item 'Disease'\n",
       "\\item 'DHS\\_tissue'\n",
       "\\item 'eGene'\n",
       "\\item 'eQTL\\_tissue'\n",
       "\\item 'Pval'\n",
       "\\item 'source'\n",
       "\\item 'RS'\n",
       "\\item 'pos'\n",
       "\\item 'info'\n",
       "\\item 'allele\\_type'\n",
       "\\item 'allele'\n",
       "\\item 'seq150\\_new'\n",
       "\\item 'seq21\\_new'\n",
       "\\item 'schizo'\n",
       "\\item 'depress'\n",
       "\\item 'bipolar'\n",
       "\\item 'anxiety'\n",
       "\\item 'attent'\n",
       "\\item 'personality'\n",
       "\\item 'panic'\n",
       "\\item 'traum'\n",
       "\\item 'autism'\n",
       "\\item 'ocd'\n",
       "\\item 'Ref'\n",
       "\\item 'Alt'\n",
       "\\item 'Type'\n",
       "\\item 'Length'\n",
       "\\item 'AnnoType'\n",
       "\\item 'Consequence'\n",
       "\\item 'ConsScore'\n",
       "\\item 'ConsDetail'\n",
       "\\item 'GC'\n",
       "\\item 'CpG'\n",
       "\\item 'motifECount'\n",
       "\\item 'motifEName'\n",
       "\\item 'motifEHIPos'\n",
       "\\item 'motifEScoreChng'\n",
       "\\item 'oAA'\n",
       "\\item 'nAA'\n",
       "\\item 'GeneID'\n",
       "\\item 'FeatureID'\n",
       "\\item 'GeneName'\n",
       "\\item 'CCDS'\n",
       "\\item 'Intron'\n",
       "\\item 'Exon'\n",
       "\\item 'cDNApos'\n",
       "\\item 'relcDNApos'\n",
       "\\item 'CDSpos'\n",
       "\\item 'relCDSpos'\n",
       "\\item 'protPos'\n",
       "\\item 'relProtPos'\n",
       "\\item 'Domain'\n",
       "\\item 'Dst2Splice'\n",
       "\\item 'Dst2SplType'\n",
       "\\item 'minDistTSS'\n",
       "\\item 'minDistTSE'\n",
       "\\item 'SIFTcat'\n",
       "\\item 'SIFTval'\n",
       "\\item 'PolyPhenCat'\n",
       "\\item 'PolyPhenVal'\n",
       "\\item 'priPhCons'\n",
       "\\item 'mamPhCons'\n",
       "\\item 'verPhCons'\n",
       "\\item 'priPhyloP'\n",
       "\\item 'mamPhyloP'\n",
       "\\item 'verPhyloP'\n",
       "\\item 'bStatistic'\n",
       "\\item 'targetScan'\n",
       "\\item 'mirSVR.Score'\n",
       "\\item 'mirSVR.E'\n",
       "\\item 'mirSVR.Aln'\n",
       "\\item 'cHmmTssA'\n",
       "\\item 'cHmmTssAFlnk'\n",
       "\\item 'cHmmTxFlnk'\n",
       "\\item 'cHmmTx'\n",
       "\\item 'cHmmTxWk'\n",
       "\\item 'cHmmEnhG'\n",
       "\\item 'cHmmEnh'\n",
       "\\item 'cHmmZnfRpts'\n",
       "\\item 'cHmmHet'\n",
       "\\item 'cHmmTssBiv'\n",
       "\\item 'cHmmBivFlnk'\n",
       "\\item 'cHmmEnhBiv'\n",
       "\\item 'cHmmReprPC'\n",
       "\\item 'cHmmReprPCWk'\n",
       "\\item 'cHmmQuies'\n",
       "\\item 'GerpRS'\n",
       "\\item 'GerpRSpval'\n",
       "\\item 'GerpN'\n",
       "\\item 'GerpS'\n",
       "\\item 'TFBS'\n",
       "\\item 'TFBSPeaks'\n",
       "\\item 'TFBSPeaksMax'\n",
       "\\item 'tOverlapMotifs'\n",
       "\\item 'motifDist'\n",
       "\\item 'Segway'\n",
       "\\item 'EncH3K27Ac'\n",
       "\\item 'EncH3K4Me1'\n",
       "\\item 'EncH3K4Me3'\n",
       "\\item 'EncExp'\n",
       "\\item 'EncNucleo'\n",
       "\\item 'EncOCC'\n",
       "\\item 'EncOCCombPVal'\n",
       "\\item 'EncOCDNasePVal'\n",
       "\\item 'EncOCFairePVal'\n",
       "\\item 'EncOCpolIIPVal'\n",
       "\\item 'EncOCctcfPVal'\n",
       "\\item 'EncOCmycPVal'\n",
       "\\item 'EncOCDNaseSig'\n",
       "\\item 'EncOCFaireSig'\n",
       "\\item 'EncOCpolIISig'\n",
       "\\item 'EncOCctcfSig'\n",
       "\\item 'EncOCmycSig'\n",
       "\\item 'Grantham'\n",
       "\\item 'Dist2Mutation'\n",
       "\\item 'Freq100bp'\n",
       "\\item 'Rare100bp'\n",
       "\\item 'Sngl100bp'\n",
       "\\item 'Freq1000bp'\n",
       "\\item 'Rare1000bp'\n",
       "\\item 'Sngl1000bp'\n",
       "\\item 'Freq10000bp'\n",
       "\\item 'Rare10000bp'\n",
       "\\item 'Sngl10000bp'\n",
       "\\item 'dbscSNV.ada\\_score'\n",
       "\\item 'dbscSNV.rf\\_score'\n",
       "\\item 'RawScore'\n",
       "\\item 'PHRED'\n",
       "\\item 'num\\_disease'\n",
       "\\item 'disease\\_interest'\n",
       "\\item 'pass\\_thres\\_low'\n",
       "\\item 'pass\\_thres'\n",
       "\\item 'CADD\\_score\\_bool'\n",
       "\\end{enumerate*}\n"
      ],
      "text/markdown": [
       "1. 'X.x'\n",
       "2. 'rowname'\n",
       "3. 'statistic'\n",
       "4. 'pval'\n",
       "5. 'fdr'\n",
       "6. 'df.test'\n",
       "7. 'df.dna'\n",
       "8. 'df.rna.full'\n",
       "9. 'df.rna.red'\n",
       "10. 'logFC'\n",
       "11. 'neglog10_p'\n",
       "12. 'neglog10_p_x_logFC'\n",
       "13. 'X.1'\n",
       "14. 'name'\n",
       "15. 'X.y'\n",
       "16. 'Linked_SNP'\n",
       "17. 'Chr'\n",
       "18. 'Position'\n",
       "19. 'Index_SNP'\n",
       "20. 'Disease'\n",
       "21. 'DHS_tissue'\n",
       "22. 'eGene'\n",
       "23. 'eQTL_tissue'\n",
       "24. 'Pval'\n",
       "25. 'source'\n",
       "26. 'RS'\n",
       "27. 'pos'\n",
       "28. 'info'\n",
       "29. 'allele_type'\n",
       "30. 'allele'\n",
       "31. 'seq150_new'\n",
       "32. 'seq21_new'\n",
       "33. 'schizo'\n",
       "34. 'depress'\n",
       "35. 'bipolar'\n",
       "36. 'anxiety'\n",
       "37. 'attent'\n",
       "38. 'personality'\n",
       "39. 'panic'\n",
       "40. 'traum'\n",
       "41. 'autism'\n",
       "42. 'ocd'\n",
       "43. 'Ref'\n",
       "44. 'Alt'\n",
       "45. 'Type'\n",
       "46. 'Length'\n",
       "47. 'AnnoType'\n",
       "48. 'Consequence'\n",
       "49. 'ConsScore'\n",
       "50. 'ConsDetail'\n",
       "51. 'GC'\n",
       "52. 'CpG'\n",
       "53. 'motifECount'\n",
       "54. 'motifEName'\n",
       "55. 'motifEHIPos'\n",
       "56. 'motifEScoreChng'\n",
       "57. 'oAA'\n",
       "58. 'nAA'\n",
       "59. 'GeneID'\n",
       "60. 'FeatureID'\n",
       "61. 'GeneName'\n",
       "62. 'CCDS'\n",
       "63. 'Intron'\n",
       "64. 'Exon'\n",
       "65. 'cDNApos'\n",
       "66. 'relcDNApos'\n",
       "67. 'CDSpos'\n",
       "68. 'relCDSpos'\n",
       "69. 'protPos'\n",
       "70. 'relProtPos'\n",
       "71. 'Domain'\n",
       "72. 'Dst2Splice'\n",
       "73. 'Dst2SplType'\n",
       "74. 'minDistTSS'\n",
       "75. 'minDistTSE'\n",
       "76. 'SIFTcat'\n",
       "77. 'SIFTval'\n",
       "78. 'PolyPhenCat'\n",
       "79. 'PolyPhenVal'\n",
       "80. 'priPhCons'\n",
       "81. 'mamPhCons'\n",
       "82. 'verPhCons'\n",
       "83. 'priPhyloP'\n",
       "84. 'mamPhyloP'\n",
       "85. 'verPhyloP'\n",
       "86. 'bStatistic'\n",
       "87. 'targetScan'\n",
       "88. 'mirSVR.Score'\n",
       "89. 'mirSVR.E'\n",
       "90. 'mirSVR.Aln'\n",
       "91. 'cHmmTssA'\n",
       "92. 'cHmmTssAFlnk'\n",
       "93. 'cHmmTxFlnk'\n",
       "94. 'cHmmTx'\n",
       "95. 'cHmmTxWk'\n",
       "96. 'cHmmEnhG'\n",
       "97. 'cHmmEnh'\n",
       "98. 'cHmmZnfRpts'\n",
       "99. 'cHmmHet'\n",
       "100. 'cHmmTssBiv'\n",
       "101. 'cHmmBivFlnk'\n",
       "102. 'cHmmEnhBiv'\n",
       "103. 'cHmmReprPC'\n",
       "104. 'cHmmReprPCWk'\n",
       "105. 'cHmmQuies'\n",
       "106. 'GerpRS'\n",
       "107. 'GerpRSpval'\n",
       "108. 'GerpN'\n",
       "109. 'GerpS'\n",
       "110. 'TFBS'\n",
       "111. 'TFBSPeaks'\n",
       "112. 'TFBSPeaksMax'\n",
       "113. 'tOverlapMotifs'\n",
       "114. 'motifDist'\n",
       "115. 'Segway'\n",
       "116. 'EncH3K27Ac'\n",
       "117. 'EncH3K4Me1'\n",
       "118. 'EncH3K4Me3'\n",
       "119. 'EncExp'\n",
       "120. 'EncNucleo'\n",
       "121. 'EncOCC'\n",
       "122. 'EncOCCombPVal'\n",
       "123. 'EncOCDNasePVal'\n",
       "124. 'EncOCFairePVal'\n",
       "125. 'EncOCpolIIPVal'\n",
       "126. 'EncOCctcfPVal'\n",
       "127. 'EncOCmycPVal'\n",
       "128. 'EncOCDNaseSig'\n",
       "129. 'EncOCFaireSig'\n",
       "130. 'EncOCpolIISig'\n",
       "131. 'EncOCctcfSig'\n",
       "132. 'EncOCmycSig'\n",
       "133. 'Grantham'\n",
       "134. 'Dist2Mutation'\n",
       "135. 'Freq100bp'\n",
       "136. 'Rare100bp'\n",
       "137. 'Sngl100bp'\n",
       "138. 'Freq1000bp'\n",
       "139. 'Rare1000bp'\n",
       "140. 'Sngl1000bp'\n",
       "141. 'Freq10000bp'\n",
       "142. 'Rare10000bp'\n",
       "143. 'Sngl10000bp'\n",
       "144. 'dbscSNV.ada_score'\n",
       "145. 'dbscSNV.rf_score'\n",
       "146. 'RawScore'\n",
       "147. 'PHRED'\n",
       "148. 'num_disease'\n",
       "149. 'disease_interest'\n",
       "150. 'pass_thres_low'\n",
       "151. 'pass_thres'\n",
       "152. 'CADD_score_bool'\n",
       "\n",
       "\n"
      ],
      "text/plain": [
       "  [1] \"X.x\"                \"rowname\"            \"statistic\"         \n",
       "  [4] \"pval\"               \"fdr\"                \"df.test\"           \n",
       "  [7] \"df.dna\"             \"df.rna.full\"        \"df.rna.red\"        \n",
       " [10] \"logFC\"              \"neglog10_p\"         \"neglog10_p_x_logFC\"\n",
       " [13] \"X.1\"                \"name\"               \"X.y\"               \n",
       " [16] \"Linked_SNP\"         \"Chr\"                \"Position\"          \n",
       " [19] \"Index_SNP\"          \"Disease\"            \"DHS_tissue\"        \n",
       " [22] \"eGene\"              \"eQTL_tissue\"        \"Pval\"              \n",
       " [25] \"source\"             \"RS\"                 \"pos\"               \n",
       " [28] \"info\"               \"allele_type\"        \"allele\"            \n",
       " [31] \"seq150_new\"         \"seq21_new\"          \"schizo\"            \n",
       " [34] \"depress\"            \"bipolar\"            \"anxiety\"           \n",
       " [37] \"attent\"             \"personality\"        \"panic\"             \n",
       " [40] \"traum\"              \"autism\"             \"ocd\"               \n",
       " [43] \"Ref\"                \"Alt\"                \"Type\"              \n",
       " [46] \"Length\"             \"AnnoType\"           \"Consequence\"       \n",
       " [49] \"ConsScore\"          \"ConsDetail\"         \"GC\"                \n",
       " [52] \"CpG\"                \"motifECount\"        \"motifEName\"        \n",
       " [55] \"motifEHIPos\"        \"motifEScoreChng\"    \"oAA\"               \n",
       " [58] \"nAA\"                \"GeneID\"             \"FeatureID\"         \n",
       " [61] \"GeneName\"           \"CCDS\"               \"Intron\"            \n",
       " [64] \"Exon\"               \"cDNApos\"            \"relcDNApos\"        \n",
       " [67] \"CDSpos\"             \"relCDSpos\"          \"protPos\"           \n",
       " [70] \"relProtPos\"         \"Domain\"             \"Dst2Splice\"        \n",
       " [73] \"Dst2SplType\"        \"minDistTSS\"         \"minDistTSE\"        \n",
       " [76] \"SIFTcat\"            \"SIFTval\"            \"PolyPhenCat\"       \n",
       " [79] \"PolyPhenVal\"        \"priPhCons\"          \"mamPhCons\"         \n",
       " [82] \"verPhCons\"          \"priPhyloP\"          \"mamPhyloP\"         \n",
       " [85] \"verPhyloP\"          \"bStatistic\"         \"targetScan\"        \n",
       " [88] \"mirSVR.Score\"       \"mirSVR.E\"           \"mirSVR.Aln\"        \n",
       " [91] \"cHmmTssA\"           \"cHmmTssAFlnk\"       \"cHmmTxFlnk\"        \n",
       " [94] \"cHmmTx\"             \"cHmmTxWk\"           \"cHmmEnhG\"          \n",
       " [97] \"cHmmEnh\"            \"cHmmZnfRpts\"        \"cHmmHet\"           \n",
       "[100] \"cHmmTssBiv\"         \"cHmmBivFlnk\"        \"cHmmEnhBiv\"        \n",
       "[103] \"cHmmReprPC\"         \"cHmmReprPCWk\"       \"cHmmQuies\"         \n",
       "[106] \"GerpRS\"             \"GerpRSpval\"         \"GerpN\"             \n",
       "[109] \"GerpS\"              \"TFBS\"               \"TFBSPeaks\"         \n",
       "[112] \"TFBSPeaksMax\"       \"tOverlapMotifs\"     \"motifDist\"         \n",
       "[115] \"Segway\"             \"EncH3K27Ac\"         \"EncH3K4Me1\"        \n",
       "[118] \"EncH3K4Me3\"         \"EncExp\"             \"EncNucleo\"         \n",
       "[121] \"EncOCC\"             \"EncOCCombPVal\"      \"EncOCDNasePVal\"    \n",
       "[124] \"EncOCFairePVal\"     \"EncOCpolIIPVal\"     \"EncOCctcfPVal\"     \n",
       "[127] \"EncOCmycPVal\"       \"EncOCDNaseSig\"      \"EncOCFaireSig\"     \n",
       "[130] \"EncOCpolIISig\"      \"EncOCctcfSig\"       \"EncOCmycSig\"       \n",
       "[133] \"Grantham\"           \"Dist2Mutation\"      \"Freq100bp\"         \n",
       "[136] \"Rare100bp\"          \"Sngl100bp\"          \"Freq1000bp\"        \n",
       "[139] \"Rare1000bp\"         \"Sngl1000bp\"         \"Freq10000bp\"       \n",
       "[142] \"Rare10000bp\"        \"Sngl10000bp\"        \"dbscSNV.ada_score\" \n",
       "[145] \"dbscSNV.rf_score\"   \"RawScore\"           \"PHRED\"             \n",
       "[148] \"num_disease\"        \"disease_interest\"   \"pass_thres_low\"    \n",
       "[151] \"pass_thres\"         \"CADD_score_bool\"   "
      ]
     },
     "metadata": {},
     "output_type": "display_data"
    }
   ],
   "source": [
    "colnames(D10)"
   ]
  },
  {
   "cell_type": "code",
   "execution_count": 13,
   "metadata": {},
   "outputs": [],
   "source": [
    "D0 = D0 %>%select(rowname, statistic, pval, fdr, logFC, Linked_SNP, Chr, Position, Index_SNP, Disease, eGene, eQTL_tissue, Pval, GeneName)\n",
    "D0$day = 'D0'\n",
    "D2 = D2 %>%select(rowname, statistic, pval, fdr, logFC, Linked_SNP, Chr, Position, Index_SNP, Disease, eGene, eQTL_tissue, Pval, GeneName)\n",
    "D2$day = 'D2'\n",
    "D4 = D4 %>%select(rowname, statistic, pval, fdr, logFC, Linked_SNP, Chr, Position, Index_SNP, Disease, eGene, eQTL_tissue, Pval, GeneName)\n",
    "D4$day = 'D4'\n",
    "D10 = D10 %>%select(rowname, statistic, pval, fdr, logFC, Linked_SNP, Chr, Position, Index_SNP, Disease, eGene, eQTL_tissue, Pval, GeneName)\n",
    "D10$day = 'D10'\n"
   ]
  },
  {
   "cell_type": "code",
   "execution_count": 15,
   "metadata": {},
   "outputs": [],
   "source": [
    "time_df = rbind(D0,D2,D4,D10)"
   ]
  },
  {
   "cell_type": "code",
   "execution_count": 25,
   "metadata": {},
   "outputs": [],
   "source": [
    "tf_atac_time = read.csv('/Users/mguo123/Documents/pan_omics_psych/data/processed/fig1/atac/atac_time_heatmap_tfs.csv',row.names=1)\n",
    "diff_tfs = rownames(tf_atac_time)"
   ]
  },
  {
   "cell_type": "code",
   "execution_count": 27,
   "metadata": {},
   "outputs": [
    {
     "data": {
      "text/html": [
       "<ol class=list-inline>\n",
       "\t<li>74</li>\n",
       "\t<li>15</li>\n",
       "</ol>\n"
      ],
      "text/latex": [
       "\\begin{enumerate*}\n",
       "\\item 74\n",
       "\\item 15\n",
       "\\end{enumerate*}\n"
      ],
      "text/markdown": [
       "1. 74\n",
       "2. 15\n",
       "\n",
       "\n"
      ],
      "text/plain": [
       "[1] 74 15"
      ]
     },
     "metadata": {},
     "output_type": "display_data"
    }
   ],
   "source": [
    "time_df_tf = time_df[time_df$GeneName %in%diff_tfs,]\n",
    "dim(time_df_tf)"
   ]
  },
  {
   "cell_type": "code",
   "execution_count": 32,
   "metadata": {},
   "outputs": [
    {
     "data": {
      "text/html": [
       "<ol class=list-inline>\n",
       "\t<li>'ZFHX3'</li>\n",
       "\t<li>'RARB'</li>\n",
       "\t<li>'NFKB1'</li>\n",
       "\t<li>'FOXP1'</li>\n",
       "\t<li>'SOX7'</li>\n",
       "\t<li>'GLIS3'</li>\n",
       "</ol>\n"
      ],
      "text/latex": [
       "\\begin{enumerate*}\n",
       "\\item 'ZFHX3'\n",
       "\\item 'RARB'\n",
       "\\item 'NFKB1'\n",
       "\\item 'FOXP1'\n",
       "\\item 'SOX7'\n",
       "\\item 'GLIS3'\n",
       "\\end{enumerate*}\n"
      ],
      "text/markdown": [
       "1. 'ZFHX3'\n",
       "2. 'RARB'\n",
       "3. 'NFKB1'\n",
       "4. 'FOXP1'\n",
       "5. 'SOX7'\n",
       "6. 'GLIS3'\n",
       "\n",
       "\n"
      ],
      "text/plain": [
       "[1] \"ZFHX3\" \"RARB\"  \"NFKB1\" \"FOXP1\" \"SOX7\"  \"GLIS3\""
      ]
     },
     "metadata": {},
     "output_type": "display_data"
    }
   ],
   "source": [
    "mpra_tfs = as.character(unique(time_df_tf$GeneName))\n",
    "mpra_tfs"
   ]
  },
  {
   "cell_type": "code",
   "execution_count": 57,
   "metadata": {},
   "outputs": [],
   "source": [
    "time_df_tf_sel =time_df_tf%>%\n",
    "    select( GeneName, day, logFC)%>%\n",
    "    group_by(GeneName,day)%>%\n",
    "    summarise(logFC=mean(logFC))%>%\n",
    "    spread(  day,    value=logFC)%>%\n",
    "    column_to_rownames('GeneName')"
   ]
  },
  {
   "cell_type": "code",
   "execution_count": 64,
   "metadata": {},
   "outputs": [
    {
     "data": {
      "text/html": [
       "<table>\n",
       "<caption>A data.frame: 6 × 4</caption>\n",
       "<thead>\n",
       "\t<tr><th></th><th scope=col>D0</th><th scope=col>D10</th><th scope=col>D2</th><th scope=col>D4</th></tr>\n",
       "\t<tr><th></th><th scope=col>&lt;dbl&gt;</th><th scope=col>&lt;dbl&gt;</th><th scope=col>&lt;dbl&gt;</th><th scope=col>&lt;dbl&gt;</th></tr>\n",
       "</thead>\n",
       "<tbody>\n",
       "\t<tr><th scope=row>FOXP1</th><td> 0.1439465</td><td> 0.2369790</td><td>-0.01255710</td><td> 0.23017695</td></tr>\n",
       "\t<tr><th scope=row>GLIS3</th><td>-0.2700004</td><td>-0.3738896</td><td>-0.03263584</td><td>-0.09029058</td></tr>\n",
       "\t<tr><th scope=row>NFKB1</th><td>-0.1359966</td><td>-0.2002008</td><td>-0.08979206</td><td>-0.04135434</td></tr>\n",
       "\t<tr><th scope=row>RARB</th><td> 1.0414257</td><td> 0.9549639</td><td> 0.73586598</td><td> 0.65388166</td></tr>\n",
       "\t<tr><th scope=row>SOX7</th><td>-0.3337257</td><td>-1.7684998</td><td>-1.17825388</td><td>-1.02643931</td></tr>\n",
       "\t<tr><th scope=row>ZFHX3</th><td> 0.8241419</td><td> 0.6175005</td><td> 0.96652588</td><td> 0.78231081</td></tr>\n",
       "</tbody>\n",
       "</table>\n"
      ],
      "text/latex": [
       "A data.frame: 6 × 4\n",
       "\\begin{tabular}{r|llll}\n",
       "  & D0 & D10 & D2 & D4\\\\\n",
       "  & <dbl> & <dbl> & <dbl> & <dbl>\\\\\n",
       "\\hline\n",
       "\tFOXP1 &  0.1439465 &  0.2369790 & -0.01255710 &  0.23017695\\\\\n",
       "\tGLIS3 & -0.2700004 & -0.3738896 & -0.03263584 & -0.09029058\\\\\n",
       "\tNFKB1 & -0.1359966 & -0.2002008 & -0.08979206 & -0.04135434\\\\\n",
       "\tRARB &  1.0414257 &  0.9549639 &  0.73586598 &  0.65388166\\\\\n",
       "\tSOX7 & -0.3337257 & -1.7684998 & -1.17825388 & -1.02643931\\\\\n",
       "\tZFHX3 &  0.8241419 &  0.6175005 &  0.96652588 &  0.78231081\\\\\n",
       "\\end{tabular}\n"
      ],
      "text/markdown": [
       "\n",
       "A data.frame: 6 × 4\n",
       "\n",
       "| <!--/--> | D0 &lt;dbl&gt; | D10 &lt;dbl&gt; | D2 &lt;dbl&gt; | D4 &lt;dbl&gt; |\n",
       "|---|---|---|---|---|\n",
       "| FOXP1 |  0.1439465 |  0.2369790 | -0.01255710 |  0.23017695 |\n",
       "| GLIS3 | -0.2700004 | -0.3738896 | -0.03263584 | -0.09029058 |\n",
       "| NFKB1 | -0.1359966 | -0.2002008 | -0.08979206 | -0.04135434 |\n",
       "| RARB |  1.0414257 |  0.9549639 |  0.73586598 |  0.65388166 |\n",
       "| SOX7 | -0.3337257 | -1.7684998 | -1.17825388 | -1.02643931 |\n",
       "| ZFHX3 |  0.8241419 |  0.6175005 |  0.96652588 |  0.78231081 |\n",
       "\n"
      ],
      "text/plain": [
       "      D0         D10        D2          D4         \n",
       "FOXP1  0.1439465  0.2369790 -0.01255710  0.23017695\n",
       "GLIS3 -0.2700004 -0.3738896 -0.03263584 -0.09029058\n",
       "NFKB1 -0.1359966 -0.2002008 -0.08979206 -0.04135434\n",
       "RARB   1.0414257  0.9549639  0.73586598  0.65388166\n",
       "SOX7  -0.3337257 -1.7684998 -1.17825388 -1.02643931\n",
       "ZFHX3  0.8241419  0.6175005  0.96652588  0.78231081"
      ]
     },
     "metadata": {},
     "output_type": "display_data"
    },
    {
     "data": {
      "image/png": "[encoded data removed]",
      "text/plain": [
       "plot without title"
      ]
     },
     "metadata": {
      "image/png": {
       "height": 420,
       "width": 420
      },
      "text/plain": {
       "height": 420,
       "width": 420
      }
     },
     "output_type": "display_data"
    }
   ],
   "source": [
    "time_df_tf_sel\n",
    "pheatmap(time_df_tf_sel[,c(\"D0\",\"D2\",\"D4\",\"D10\")], cluster_rows=T,cluster_cols=F)"
   ]
  },
  {
   "cell_type": "code",
   "execution_count": 59,
   "metadata": {},
   "outputs": [
    {
     "data": {
      "text/html": [
       "<table>\n",
       "<caption>A data.frame: 6 × 4</caption>\n",
       "<thead>\n",
       "\t<tr><th></th><th scope=col>D0</th><th scope=col>D10</th><th scope=col>D2</th><th scope=col>D4</th></tr>\n",
       "\t<tr><th></th><th scope=col>&lt;dbl&gt;</th><th scope=col>&lt;dbl&gt;</th><th scope=col>&lt;dbl&gt;</th><th scope=col>&lt;dbl&gt;</th></tr>\n",
       "</thead>\n",
       "<tbody>\n",
       "\t<tr><th scope=row>FOXP1</th><td>0.717950727</td><td>0.532870140</td><td>0.97162579</td><td>0.540961782</td></tr>\n",
       "\t<tr><th scope=row>GLIS3</th><td>0.406376372</td><td>0.245061783</td><td>0.92036970</td><td>0.779670164</td></tr>\n",
       "\t<tr><th scope=row>NFKB1</th><td>0.541435617</td><td>0.297443490</td><td>0.40727749</td><td>0.408552566</td></tr>\n",
       "\t<tr><th scope=row>RARB</th><td>0.019748789</td><td>0.013938205</td><td>0.07372053</td><td>0.117054237</td></tr>\n",
       "\t<tr><th scope=row>SOX7</th><td>0.508404572</td><td>0.003717403</td><td>0.01823848</td><td>0.046058205</td></tr>\n",
       "\t<tr><th scope=row>ZFHX3</th><td>0.001608122</td><td>0.051072169</td><td>0.03096138</td><td>0.006875361</td></tr>\n",
       "</tbody>\n",
       "</table>\n"
      ],
      "text/latex": [
       "A data.frame: 6 × 4\n",
       "\\begin{tabular}{r|llll}\n",
       "  & D0 & D10 & D2 & D4\\\\\n",
       "  & <dbl> & <dbl> & <dbl> & <dbl>\\\\\n",
       "\\hline\n",
       "\tFOXP1 & 0.717950727 & 0.532870140 & 0.97162579 & 0.540961782\\\\\n",
       "\tGLIS3 & 0.406376372 & 0.245061783 & 0.92036970 & 0.779670164\\\\\n",
       "\tNFKB1 & 0.541435617 & 0.297443490 & 0.40727749 & 0.408552566\\\\\n",
       "\tRARB & 0.019748789 & 0.013938205 & 0.07372053 & 0.117054237\\\\\n",
       "\tSOX7 & 0.508404572 & 0.003717403 & 0.01823848 & 0.046058205\\\\\n",
       "\tZFHX3 & 0.001608122 & 0.051072169 & 0.03096138 & 0.006875361\\\\\n",
       "\\end{tabular}\n"
      ],
      "text/markdown": [
       "\n",
       "A data.frame: 6 × 4\n",
       "\n",
       "| <!--/--> | D0 &lt;dbl&gt; | D10 &lt;dbl&gt; | D2 &lt;dbl&gt; | D4 &lt;dbl&gt; |\n",
       "|---|---|---|---|---|\n",
       "| FOXP1 | 0.717950727 | 0.532870140 | 0.97162579 | 0.540961782 |\n",
       "| GLIS3 | 0.406376372 | 0.245061783 | 0.92036970 | 0.779670164 |\n",
       "| NFKB1 | 0.541435617 | 0.297443490 | 0.40727749 | 0.408552566 |\n",
       "| RARB | 0.019748789 | 0.013938205 | 0.07372053 | 0.117054237 |\n",
       "| SOX7 | 0.508404572 | 0.003717403 | 0.01823848 | 0.046058205 |\n",
       "| ZFHX3 | 0.001608122 | 0.051072169 | 0.03096138 | 0.006875361 |\n",
       "\n"
      ],
      "text/plain": [
       "      D0          D10         D2         D4         \n",
       "FOXP1 0.717950727 0.532870140 0.97162579 0.540961782\n",
       "GLIS3 0.406376372 0.245061783 0.92036970 0.779670164\n",
       "NFKB1 0.541435617 0.297443490 0.40727749 0.408552566\n",
       "RARB  0.019748789 0.013938205 0.07372053 0.117054237\n",
       "SOX7  0.508404572 0.003717403 0.01823848 0.046058205\n",
       "ZFHX3 0.001608122 0.051072169 0.03096138 0.006875361"
      ]
     },
     "metadata": {},
     "output_type": "display_data"
    }
   ],
   "source": [
    "time_df_tf_sel_p =time_df_tf%>%\n",
    "    select( GeneName, day, pval)%>%\n",
    "    group_by(GeneName,day)%>%\n",
    "    summarise(pval=mean(pval))%>%\n",
    "    spread(  day,    value=pval)%>%\n",
    "    column_to_rownames('GeneName')\n",
    "\n",
    "time_df_tf_sel_p"
   ]
  },
  {
   "cell_type": "code",
   "execution_count": 54,
   "metadata": {},
   "outputs": [
    {
     "data": {
      "image/png": "[encoded data removed]",
      "text/plain": [
       "plot without title"
      ]
     },
     "metadata": {
      "image/png": {
       "height": 420,
       "width": 420
      },
      "text/plain": {
       "height": 420,
       "width": 420
      }
     },
     "output_type": "display_data"
    }
   ],
   "source": [
    "pheatmap(tf_atac_time[mpra_tfs,],cluster_rows=F,cluster_cols=F)"
   ]
  },
  {
   "cell_type": "code",
   "execution_count": 55,
   "metadata": {},
   "outputs": [
    {
     "name": "stderr",
     "output_type": "stream",
     "text": [
      "Warning message in seq.default(min(x, na.rm = T), max(x, na.rm = T), length.out = n + :\n",
      "“NAs introduced by coercion”\n"
     ]
    },
    {
     "ename": "ERROR",
     "evalue": "Error in seq.default(min(x, na.rm = T), max(x, na.rm = T), length.out = n + : 'to' must be a finite number\n",
     "output_type": "error",
     "traceback": [
      "Error in seq.default(min(x, na.rm = T), max(x, na.rm = T), length.out = n + : 'to' must be a finite number\nTraceback:\n",
      "1. pheatmap(time_df_tf_sel_p, cluster_rows = F, cluster_cols = F)",
      "2. generate_breaks(as.vector(mat), length(color))",
      "3. seq(min(x, na.rm = T), max(x, na.rm = T), length.out = n + 1)",
      "4. seq.default(min(x, na.rm = T), max(x, na.rm = T), length.out = n + \n .     1)",
      "5. stop(\"'to' must be a finite number\")"
     ]
    }
   ],
   "source": [
    "pheatmap(time_df_tf_sel_p,cluster_rows=F,cluster_cols=F)"
   ]
  },
  {
   "cell_type": "code",
   "execution_count": null,
   "metadata": {},
   "outputs": [],
   "source": []
  }
 ],
 "metadata": {
  "kernelspec": {
   "display_name": "R",
   "language": "R",
   "name": "ir"
  },
  "language_info": {
   "codemirror_mode": "r",
   "file_extension": ".r",
   "mimetype": "text/x-r-source",
   "name": "R",
   "pygments_lexer": "r",
   "version": "3.6.1"
  }
 },
 "nbformat": 4,
 "nbformat_minor": 4
}
