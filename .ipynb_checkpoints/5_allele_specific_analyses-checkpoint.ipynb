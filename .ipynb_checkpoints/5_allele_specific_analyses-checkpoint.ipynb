{
 "cells": [
  {
   "cell_type": "markdown",
   "metadata": {},
   "source": [
    "# allele_specific_analyses(5)\n",
    "\n",
    "1/10/2021\n",
    "\n",
    "run gatk (see one note for details)\n",
    "\n",
    "now see if overlap with mpra results"
   ]
  },
  {
   "cell_type": "code",
   "execution_count": 1,
   "metadata": {},
   "outputs": [],
   "source": [
    "import pandas as pd \n",
    "import os,sys, glob\n",
    "import pybedtools\n",
    "import scipy.stats as stats\n",
    "import re\n",
    "import numpy as np"
   ]
  },
  {
   "cell_type": "code",
   "execution_count": 50,
   "metadata": {},
   "outputs": [
    {
     "data": {
      "text/plain": [
       "Index(['CHROM', 'POS', 'ID', 'REF', 'ALT', 'QUAL', 'FILTER', 'INFO', 'FORMAT',\n",
       "       'H9D10-B1', 'H9D10-B2', 'rowname'],\n",
       "      dtype='object')"
      ]
     },
     "execution_count": 50,
     "metadata": {},
     "output_type": "execute_result"
    }
   ],
   "source": [
    "vcf_df.loc[0,:].index"
   ]
  },
  {
   "cell_type": "code",
   "execution_count": 51,
   "metadata": {},
   "outputs": [],
   "source": [
    "def read_vcf(path):\n",
    "    with open(path, 'r') as f:\n",
    "        lines = f.readlines()\n",
    "        lines = [l.strip().split('\\t') for l in lines if not l.startswith('##')]\n",
    "    df=  pd.DataFrame(lines[1: ],columns=lines[0]).rename(columns={'#CHROM': 'CHROM'})\n",
    "    if not df['CHROM'][0].startswith('chr'):\n",
    "        df['CHROM'] = 'chr' + df.CHROM.map(str)\n",
    "\n",
    "    df['rowname'] =  df.CHROM + '_' + df.POS.map(str)\n",
    "    print('read',path)\n",
    "    print('shape',df.shape)\n",
    "    return df\n",
    "\n",
    "def preprocess_vcf(row,tissue):\n",
    "    # get info quality metrics\n",
    "    info_str = row['INFO']\n",
    "    info_str_arr = re.split('[=;]',info_str)\n",
    "    qual =  pd.Series(dict(zip(info_str_arr[::2],info_str_arr[1::2] )))\n",
    "    qual = qual[['DP','SOR','FS']]\n",
    "    # get \n",
    "    tissue_cols = [x for x in row.index if re.search('B[1-2]$',x) is not None]    #x.startswith(tissue[:min(len(tissue),4)])]\n",
    "    if len(tissue_cols)==0:\n",
    "        tissue_cols=['sample','sample']\n",
    "#     print('tissue_cols',tissue_cols)\n",
    "    try:\n",
    "        sample_1_info = row[tissue_cols[0]].split(':')\n",
    "        sample_2_info = row[tissue_cols[1]].split(':')\n",
    "\n",
    "        qual['GT_1'] = sample_1_info[0]\n",
    "        qual['GT_2'] = sample_2_info[0]\n",
    "        qual['AD_1_ref'] = int(sample_1_info[1].split(',')[0])\n",
    "        qual['AD_1_alt'] = int(sample_1_info[1].split(',')[1])\n",
    "        qual['AD_2_ref'] = int(sample_2_info[1].split(',')[0])\n",
    "        qual['AD_2_alt'] = int(sample_2_info[1].split(',')[1])\n",
    "    except:\n",
    "        print(row)\n",
    "        print(tissue_cols)\n",
    "        raise\n",
    "    return qual\n",
    "#     format_arr = row['FORMAT'].split(':')\n",
    "#     \n",
    "#     format_series = pd.Series()\n",
    "#     for idx,sample in enumerate(tissue_cols):\n",
    "#         format_arr_sample = [x+\"_\"+str(idx)for x in format_arr]\n",
    "#         format_series=pd.concat([format_series,pd.Series(dict(zip(format_arr_sample,row[sample].split(':'))))])\n",
    "#     return pd.concat([qual,format_series])\n",
    "\n",
    "def filter_vcf(vcf_df):\n",
    "    # filter depth count (DP)>=10\n",
    "    vcf_df = vcf_df[vcf_df.DP.map(int)>=10]\n",
    "    # the allele  only biallelic SNP sites (GT: 0/1) w\n",
    "    vcf_df = vcf_df[(vcf_df.GT_1 =='0/1')& (vcf_df.GT_2 =='0/1')]\n",
    "    \n",
    "    # minimum reference or alternative allele count >=2 (AD)\n",
    "    vcf_df['AD_1_min'] = vcf_df[['AD_1_ref','AD_1_alt']].min(axis=1)\n",
    "    vcf_df = vcf_df[vcf_df.AD_1_min>=2]\n",
    "    vcf_df['AD_2_min'] = vcf_df[['AD_2_ref','AD_2_alt']].min(axis=1)\n",
    "    vcf_df = vcf_df[vcf_df.AD_2_min>=2]\n",
    "    return vcf_df"
   ]
  },
  {
   "cell_type": "markdown",
   "metadata": {},
   "source": [
    "hypergeometric test between two sets\n",
    "- phyper=(overlap-1,list1,PopSize-list1,list2,lower.tail = FALSE, log.p = FALSE)\n",
    "- scipy.stats.hypergeom.cdf(overlap, pop, list1, list2)\n",
    "\n",
    "- \n",
    "phyper=(88,598,23000-598,5500,lower.tail = FALSE, log.p = FALSE)"
   ]
  },
  {
   "cell_type": "code",
   "execution_count": 27,
   "metadata": {},
   "outputs": [],
   "source": [
    "def hypergeometric_test(x, M, n, N):\n",
    "    \"\"\"\n",
    "    The hypergeometric distribution models drawing objects from a bin.\n",
    "    - M is total number of objects\n",
    "    - n is total number of Type I objects. \n",
    "    - x (random variate) represents the number of Type I objects in N drawn without replacement from the total population\n",
    "\n",
    "    - http://en.wikipedia.org/wiki/Hypergeometric_distribution\n",
    "    - https://www.biostars.org/p/66729/\n",
    "    - http://docs.scipy.org/doc/scipy-0.14.0/reference/generated/scipy.stats.hypergeom.html\n",
    "    - http://docs.scipy.org/doc/numpy/reference/generated/numpy.random.hypergeometric.html\n",
    "    - http://stackoverflow.com/questions/6594840/what-are-equivalents-to-rs-phyper-function-in-python\n",
    "    \"\"\"\n",
    "\n",
    "    assert n <= M\n",
    "    assert x <= n\n",
    "    assert N <= M\n",
    "#     pv_le = stats.hypergeom.cdf(x+1, M, n, N)\n",
    "    pv_gt = stats.hypergeom.sf(x-1, M, n, N)# 1-cdf sometimes more accurate\n",
    "    return pv_gt#pv_gt pv_gt \n"
   ]
  },
  {
   "cell_type": "markdown",
   "metadata": {},
   "source": [
    "hyper geometric test 1\n",
    "- check overlap between geneset of all asATAC snp locations with location with all of library snps over background of total # of snps? \n",
    "- check overlap between geneset of asATAC snps (tissue specific) in the library with the mpra hits in the library (tissue specific) \n",
    "- check overlap between geneset of asATAC snps (overall tissues) in the library with the mpra hits in the library all tissues)\n"
   ]
  },
  {
   "cell_type": "code",
   "execution_count": 3,
   "metadata": {},
   "outputs": [],
   "source": [
    "save_dir = 'vcf_files/analyses'\n",
    "if not os.path.exists(save_dir):\n",
    "    os.makedirs(save_dir)"
   ]
  },
  {
   "cell_type": "code",
   "execution_count": 4,
   "metadata": {},
   "outputs": [
    {
     "name": "stderr",
     "output_type": "stream",
     "text": [
      "/Users/mguo123/opt/anaconda3/lib/python3.7/site-packages/IPython/core/interactiveshell.py:3058: DtypeWarning: Columns (63,65) have mixed types. Specify dtype option on import or set low_memory=False.\n",
      "  interactivity=interactivity, compiler=compiler, result=result)\n"
     ]
    },
    {
     "data": {
      "text/html": [
       "<div>\n",
       "<style scoped>\n",
       "    .dataframe tbody tr th:only-of-type {\n",
       "        vertical-align: middle;\n",
       "    }\n",
       "\n",
       "    .dataframe tbody tr th {\n",
       "        vertical-align: top;\n",
       "    }\n",
       "\n",
       "    .dataframe thead th {\n",
       "        text-align: right;\n",
       "    }\n",
       "</style>\n",
       "<table border=\"1\" class=\"dataframe\">\n",
       "  <thead>\n",
       "    <tr style=\"text-align: right;\">\n",
       "      <th></th>\n",
       "      <th>name</th>\n",
       "      <th>X</th>\n",
       "      <th>Linked_SNP</th>\n",
       "      <th>Chr</th>\n",
       "      <th>Position</th>\n",
       "      <th>Index_SNP</th>\n",
       "      <th>Disease</th>\n",
       "      <th>DHS_tissue</th>\n",
       "      <th>eGene</th>\n",
       "      <th>eQTL_tissue</th>\n",
       "      <th>...</th>\n",
       "      <th>dbscSNV.rf_score</th>\n",
       "      <th>RawScore</th>\n",
       "      <th>PHRED</th>\n",
       "      <th>num_disease</th>\n",
       "      <th>disease_interest</th>\n",
       "      <th>pass_thres_low</th>\n",
       "      <th>pass_thres</th>\n",
       "      <th>CADD_score_bool</th>\n",
       "      <th>rowname</th>\n",
       "      <th>stop</th>\n",
       "    </tr>\n",
       "  </thead>\n",
       "  <tbody>\n",
       "    <tr>\n",
       "      <td>1</td>\n",
       "      <td>chr1.111243375.all_alt.G</td>\n",
       "      <td>75004</td>\n",
       "      <td>rs12085135</td>\n",
       "      <td>chr1</td>\n",
       "      <td>111243375</td>\n",
       "      <td>rs12061304</td>\n",
       "      <td>panic disorder</td>\n",
       "      <td>t-helper_17_cell</td>\n",
       "      <td>NaN</td>\n",
       "      <td>NaN</td>\n",
       "      <td>...</td>\n",
       "      <td>NaN</td>\n",
       "      <td>-0.197208</td>\n",
       "      <td>0.728</td>\n",
       "      <td>1</td>\n",
       "      <td>True</td>\n",
       "      <td>True</td>\n",
       "      <td>False</td>\n",
       "      <td>NaN</td>\n",
       "      <td>chr1_111243375</td>\n",
       "      <td>111243376</td>\n",
       "    </tr>\n",
       "    <tr>\n",
       "      <td>2</td>\n",
       "      <td>chr1.111243375.Ref.C</td>\n",
       "      <td>75004</td>\n",
       "      <td>rs12085135</td>\n",
       "      <td>chr1</td>\n",
       "      <td>111243375</td>\n",
       "      <td>rs12061304</td>\n",
       "      <td>panic disorder</td>\n",
       "      <td>t-helper_17_cell</td>\n",
       "      <td>NaN</td>\n",
       "      <td>NaN</td>\n",
       "      <td>...</td>\n",
       "      <td>NaN</td>\n",
       "      <td>-0.197208</td>\n",
       "      <td>0.728</td>\n",
       "      <td>1</td>\n",
       "      <td>True</td>\n",
       "      <td>True</td>\n",
       "      <td>False</td>\n",
       "      <td>NaN</td>\n",
       "      <td>chr1_111243375</td>\n",
       "      <td>111243376</td>\n",
       "    </tr>\n",
       "    <tr>\n",
       "      <td>3</td>\n",
       "      <td>chr1.113938499.all_alt.C</td>\n",
       "      <td>1977</td>\n",
       "      <td>rs74395031</td>\n",
       "      <td>chr1</td>\n",
       "      <td>113938499</td>\n",
       "      <td>rs115870915</td>\n",
       "      <td>type 2 diabetes,Obsessive Compulsive Disorder</td>\n",
       "      <td>astrocyte_of_the_spinal_cord</td>\n",
       "      <td>NaN</td>\n",
       "      <td>NaN</td>\n",
       "      <td>...</td>\n",
       "      <td>NaN</td>\n",
       "      <td>0.309426</td>\n",
       "      <td>7.336</td>\n",
       "      <td>1</td>\n",
       "      <td>True</td>\n",
       "      <td>True</td>\n",
       "      <td>True</td>\n",
       "      <td>NaN</td>\n",
       "      <td>chr1_113938499</td>\n",
       "      <td>113938500</td>\n",
       "    </tr>\n",
       "    <tr>\n",
       "      <td>4</td>\n",
       "      <td>chr1.113938499.Ref.T</td>\n",
       "      <td>1977</td>\n",
       "      <td>rs74395031</td>\n",
       "      <td>chr1</td>\n",
       "      <td>113938499</td>\n",
       "      <td>rs115870915</td>\n",
       "      <td>type 2 diabetes,Obsessive Compulsive Disorder</td>\n",
       "      <td>astrocyte_of_the_spinal_cord</td>\n",
       "      <td>NaN</td>\n",
       "      <td>NaN</td>\n",
       "      <td>...</td>\n",
       "      <td>NaN</td>\n",
       "      <td>0.309426</td>\n",
       "      <td>7.336</td>\n",
       "      <td>1</td>\n",
       "      <td>True</td>\n",
       "      <td>True</td>\n",
       "      <td>True</td>\n",
       "      <td>NaN</td>\n",
       "      <td>chr1_113938499</td>\n",
       "      <td>113938500</td>\n",
       "    </tr>\n",
       "    <tr>\n",
       "      <td>5</td>\n",
       "      <td>chr1.11712109.all_alt.T</td>\n",
       "      <td>569</td>\n",
       "      <td>rs2103665</td>\n",
       "      <td>chr1</td>\n",
       "      <td>11712109</td>\n",
       "      <td>rs115049252</td>\n",
       "      <td>schizo</td>\n",
       "      <td>spleen</td>\n",
       "      <td>NaN</td>\n",
       "      <td>NaN</td>\n",
       "      <td>...</td>\n",
       "      <td>NaN</td>\n",
       "      <td>0.193843</td>\n",
       "      <td>5.751</td>\n",
       "      <td>1</td>\n",
       "      <td>False</td>\n",
       "      <td>True</td>\n",
       "      <td>True</td>\n",
       "      <td>NaN</td>\n",
       "      <td>chr1_11712109</td>\n",
       "      <td>11712110</td>\n",
       "    </tr>\n",
       "  </tbody>\n",
       "</table>\n",
       "<p>5 rows × 141 columns</p>\n",
       "</div>"
      ],
      "text/plain": [
       "                       name      X  Linked_SNP   Chr   Position    Index_SNP  \\\n",
       "1  chr1.111243375.all_alt.G  75004  rs12085135  chr1  111243375   rs12061304   \n",
       "2      chr1.111243375.Ref.C  75004  rs12085135  chr1  111243375   rs12061304   \n",
       "3  chr1.113938499.all_alt.C   1977  rs74395031  chr1  113938499  rs115870915   \n",
       "4      chr1.113938499.Ref.T   1977  rs74395031  chr1  113938499  rs115870915   \n",
       "5   chr1.11712109.all_alt.T    569   rs2103665  chr1   11712109  rs115049252   \n",
       "\n",
       "                                         Disease  \\\n",
       "1                                 panic disorder   \n",
       "2                                 panic disorder   \n",
       "3  type 2 diabetes,Obsessive Compulsive Disorder   \n",
       "4  type 2 diabetes,Obsessive Compulsive Disorder   \n",
       "5                                         schizo   \n",
       "\n",
       "                     DHS_tissue eGene eQTL_tissue  ...  dbscSNV.rf_score  \\\n",
       "1              t-helper_17_cell   NaN         NaN  ...               NaN   \n",
       "2              t-helper_17_cell   NaN         NaN  ...               NaN   \n",
       "3  astrocyte_of_the_spinal_cord   NaN         NaN  ...               NaN   \n",
       "4  astrocyte_of_the_spinal_cord   NaN         NaN  ...               NaN   \n",
       "5                        spleen   NaN         NaN  ...               NaN   \n",
       "\n",
       "   RawScore  PHRED  num_disease disease_interest pass_thres_low pass_thres  \\\n",
       "1 -0.197208  0.728            1             True           True      False   \n",
       "2 -0.197208  0.728            1             True           True      False   \n",
       "3  0.309426  7.336            1             True           True       True   \n",
       "4  0.309426  7.336            1             True           True       True   \n",
       "5  0.193843  5.751            1            False           True       True   \n",
       "\n",
       "  CADD_score_bool         rowname       stop  \n",
       "1             NaN  chr1_111243375  111243376  \n",
       "2             NaN  chr1_111243375  111243376  \n",
       "3             NaN  chr1_113938499  113938500  \n",
       "4             NaN  chr1_113938499  113938500  \n",
       "5             NaN   chr1_11712109   11712110  \n",
       "\n",
       "[5 rows x 141 columns]"
      ]
     },
     "execution_count": 4,
     "metadata": {},
     "output_type": "execute_result"
    }
   ],
   "source": [
    "lib_df  = pd.read_csv('~/Google Drive/1_khavari/noncancer_project/psych_lib_info.csv',index_col=0)\n",
    "lib_df['rowname'] = lib_df.Chr + '_' + lib_df.Position.map(str)\n",
    "lib_df['stop'] = lib_df.Position.map(int) + 1\n",
    "lib_df_bed_df = lib_df[['Chr','Position','stop','rowname']]\n",
    "lib_df_bed = pybedtools.BedTool.from_dataframe(lib_df_bed_df)\n",
    "lib_df[:5]"
   ]
  },
  {
   "cell_type": "code",
   "execution_count": 5,
   "metadata": {},
   "outputs": [
    {
     "data": {
      "text/html": [
       "<div>\n",
       "<style scoped>\n",
       "    .dataframe tbody tr th:only-of-type {\n",
       "        vertical-align: middle;\n",
       "    }\n",
       "\n",
       "    .dataframe tbody tr th {\n",
       "        vertical-align: top;\n",
       "    }\n",
       "\n",
       "    .dataframe thead th {\n",
       "        text-align: right;\n",
       "    }\n",
       "</style>\n",
       "<table border=\"1\" class=\"dataframe\">\n",
       "  <thead>\n",
       "    <tr style=\"text-align: right;\">\n",
       "      <th></th>\n",
       "      <th>anxiety</th>\n",
       "      <th>attent</th>\n",
       "      <th>autism</th>\n",
       "      <th>bipolar</th>\n",
       "      <th>depress</th>\n",
       "      <th>ocd</th>\n",
       "      <th>panic</th>\n",
       "      <th>personality</th>\n",
       "      <th>schizo</th>\n",
       "      <th>traum</th>\n",
       "      <th>rowname</th>\n",
       "      <th>GeneName</th>\n",
       "      <th>tissue</th>\n",
       "      <th>pval</th>\n",
       "      <th>fdr</th>\n",
       "      <th>logFC</th>\n",
       "      <th>DHS_tissue</th>\n",
       "      <th>PHRED</th>\n",
       "      <th>ngene</th>\n",
       "      <th>Linked_SNP</th>\n",
       "    </tr>\n",
       "  </thead>\n",
       "  <tbody>\n",
       "    <tr>\n",
       "      <td>0</td>\n",
       "      <td>0</td>\n",
       "      <td>0</td>\n",
       "      <td>0</td>\n",
       "      <td>0</td>\n",
       "      <td>0</td>\n",
       "      <td>0</td>\n",
       "      <td>0</td>\n",
       "      <td>0</td>\n",
       "      <td>1</td>\n",
       "      <td>0</td>\n",
       "      <td>chr4_103750316</td>\n",
       "      <td>UBE2D3</td>\n",
       "      <td>AST1</td>\n",
       "      <td>2.777193e-23</td>\n",
       "      <td>6.129265e-20</td>\n",
       "      <td>4.841936</td>\n",
       "      <td>astrocyte_of_the_hippocampus</td>\n",
       "      <td>5.118</td>\n",
       "      <td>UBE2D3</td>\n",
       "      <td>rs223385</td>\n",
       "    </tr>\n",
       "    <tr>\n",
       "      <td>1</td>\n",
       "      <td>0</td>\n",
       "      <td>0</td>\n",
       "      <td>0</td>\n",
       "      <td>0</td>\n",
       "      <td>0</td>\n",
       "      <td>0</td>\n",
       "      <td>0</td>\n",
       "      <td>0</td>\n",
       "      <td>1</td>\n",
       "      <td>0</td>\n",
       "      <td>chr4_103750316</td>\n",
       "      <td>UBE2D3</td>\n",
       "      <td>AST1</td>\n",
       "      <td>2.777193e-23</td>\n",
       "      <td>6.129265e-20</td>\n",
       "      <td>4.841936</td>\n",
       "      <td>astrocyte_of_the_hippocampus</td>\n",
       "      <td>5.118</td>\n",
       "      <td>UBE2D3</td>\n",
       "      <td>rs223385</td>\n",
       "    </tr>\n",
       "    <tr>\n",
       "      <td>2</td>\n",
       "      <td>0</td>\n",
       "      <td>0</td>\n",
       "      <td>0</td>\n",
       "      <td>0</td>\n",
       "      <td>0</td>\n",
       "      <td>0</td>\n",
       "      <td>0</td>\n",
       "      <td>0</td>\n",
       "      <td>1</td>\n",
       "      <td>0</td>\n",
       "      <td>chr4_103750316</td>\n",
       "      <td>UBE2D3</td>\n",
       "      <td>AST1</td>\n",
       "      <td>2.777193e-23</td>\n",
       "      <td>6.129265e-20</td>\n",
       "      <td>4.841936</td>\n",
       "      <td>astrocyte_of_the_hippocampus</td>\n",
       "      <td>5.118</td>\n",
       "      <td>UBE2D3</td>\n",
       "      <td>rs223385</td>\n",
       "    </tr>\n",
       "    <tr>\n",
       "      <td>3</td>\n",
       "      <td>0</td>\n",
       "      <td>0</td>\n",
       "      <td>0</td>\n",
       "      <td>0</td>\n",
       "      <td>0</td>\n",
       "      <td>0</td>\n",
       "      <td>0</td>\n",
       "      <td>0</td>\n",
       "      <td>1</td>\n",
       "      <td>0</td>\n",
       "      <td>chr4_103750316</td>\n",
       "      <td>UBE2D3</td>\n",
       "      <td>AST1</td>\n",
       "      <td>2.777193e-23</td>\n",
       "      <td>6.129265e-20</td>\n",
       "      <td>4.841936</td>\n",
       "      <td>astrocyte_of_the_hippocampus</td>\n",
       "      <td>5.118</td>\n",
       "      <td>UBE2D3</td>\n",
       "      <td>rs223385</td>\n",
       "    </tr>\n",
       "    <tr>\n",
       "      <td>4</td>\n",
       "      <td>0</td>\n",
       "      <td>0</td>\n",
       "      <td>0</td>\n",
       "      <td>0</td>\n",
       "      <td>1</td>\n",
       "      <td>0</td>\n",
       "      <td>0</td>\n",
       "      <td>0</td>\n",
       "      <td>0</td>\n",
       "      <td>0</td>\n",
       "      <td>chr7_12261911</td>\n",
       "      <td>TMEM106B</td>\n",
       "      <td>AST1</td>\n",
       "      <td>4.156023e-22</td>\n",
       "      <td>4.586171e-19</td>\n",
       "      <td>3.258018</td>\n",
       "      <td>common_myeloid_progenitor,_cd34-positive</td>\n",
       "      <td>2.275</td>\n",
       "      <td>TMEM106B</td>\n",
       "      <td>rs11509880</td>\n",
       "    </tr>\n",
       "  </tbody>\n",
       "</table>\n",
       "</div>"
      ],
      "text/plain": [
       "   anxiety  attent  autism  bipolar  depress  ocd  panic  personality  schizo  \\\n",
       "0        0       0       0        0        0    0      0            0       1   \n",
       "1        0       0       0        0        0    0      0            0       1   \n",
       "2        0       0       0        0        0    0      0            0       1   \n",
       "3        0       0       0        0        0    0      0            0       1   \n",
       "4        0       0       0        0        1    0      0            0       0   \n",
       "\n",
       "   traum         rowname  GeneName tissue          pval           fdr  \\\n",
       "0      0  chr4_103750316    UBE2D3   AST1  2.777193e-23  6.129265e-20   \n",
       "1      0  chr4_103750316    UBE2D3   AST1  2.777193e-23  6.129265e-20   \n",
       "2      0  chr4_103750316    UBE2D3   AST1  2.777193e-23  6.129265e-20   \n",
       "3      0  chr4_103750316    UBE2D3   AST1  2.777193e-23  6.129265e-20   \n",
       "4      0   chr7_12261911  TMEM106B   AST1  4.156023e-22  4.586171e-19   \n",
       "\n",
       "      logFC                                DHS_tissue  PHRED     ngene  \\\n",
       "0  4.841936              astrocyte_of_the_hippocampus  5.118    UBE2D3   \n",
       "1  4.841936              astrocyte_of_the_hippocampus  5.118    UBE2D3   \n",
       "2  4.841936              astrocyte_of_the_hippocampus  5.118    UBE2D3   \n",
       "3  4.841936              astrocyte_of_the_hippocampus  5.118    UBE2D3   \n",
       "4  3.258018  common_myeloid_progenitor,_cd34-positive  2.275  TMEM106B   \n",
       "\n",
       "   Linked_SNP  \n",
       "0    rs223385  \n",
       "1    rs223385  \n",
       "2    rs223385  \n",
       "3    rs223385  \n",
       "4  rs11509880  "
      ]
     },
     "execution_count": 5,
     "metadata": {},
     "output_type": "execute_result"
    }
   ],
   "source": [
    "mpra_res_df = pd.read_csv('D_mpraanalyze_barcode_allelic/final_df_filt.csv',index_col=0)\n",
    "mpra_res_df = mpra_res_df.merge(lib_df[['Linked_SNP','rowname']],how='left',on='rowname' )\n",
    "mpra_res_df[:5]"
   ]
  },
  {
   "cell_type": "code",
   "execution_count": 6,
   "metadata": {},
   "outputs": [],
   "source": [
    "mpra_res_df.tissue.unique()\n",
    "# from asATAC to tissue\n",
    "mpra_tissue_mapper = {\n",
    "    'H9_D2':'H9D2',\n",
    "    'SLC':'SLC',\n",
    "    'SL':'SL',\n",
    "    'Astrocytes':'AST1',\n",
    "    'H9_D10':'H9D10',\n",
    "    'H9_D0':'H9D0'\n",
    "}"
   ]
  },
  {
   "cell_type": "code",
   "execution_count": 7,
   "metadata": {},
   "outputs": [
    {
     "data": {
      "text/plain": [
       "637"
      ]
     },
     "execution_count": 7,
     "metadata": {},
     "output_type": "execute_result"
    }
   ],
   "source": [
    "mpra_rownames_sig = list(mpra_res_df.rowname.unique())\n",
    "len(mpra_rownames_sig)\n"
   ]
  },
  {
   "cell_type": "code",
   "execution_count": 8,
   "metadata": {},
   "outputs": [
    {
     "name": "stdout",
     "output_type": "stream",
     "text": [
      "637 2221\n"
     ]
    }
   ],
   "source": [
    "num_mpra_sig_hits = mpra_res_df.rowname.unique().shape[0]\n",
    "num_lib_tested = lib_df.rowname.unique().shape[0]\n",
    "print(num_mpra_sig_hits, num_lib_tested)"
   ]
  },
  {
   "cell_type": "markdown",
   "metadata": {},
   "source": [
    "# 1. atac"
   ]
  },
  {
   "cell_type": "code",
   "execution_count": 117,
   "metadata": {},
   "outputs": [
    {
     "data": {
      "text/plain": [
       "['/Users/mguo123/Documents/pan_omics_psych/data/interim/merged/atac/H9_D4_merged.bed',\n",
       " '/Users/mguo123/Documents/pan_omics_psych/data/interim/merged/atac/SLC_D0_merged.bed',\n",
       " '/Users/mguo123/Documents/pan_omics_psych/data/interim/merged/atac/SL_D0_merged.bed',\n",
       " '/Users/mguo123/Documents/pan_omics_psych/data/interim/merged/atac/SLC_D2_merged.bed',\n",
       " '/Users/mguo123/Documents/pan_omics_psych/data/interim/merged/atac/SL_D2_merged.bed',\n",
       " '/Users/mguo123/Documents/pan_omics_psych/data/interim/merged/atac/H9_D28_merged.bed',\n",
       " '/Users/mguo123/Documents/pan_omics_psych/data/interim/merged/atac/H9_D0_merged.bed',\n",
       " '/Users/mguo123/Documents/pan_omics_psych/data/interim/merged/atac/Astrocytes_merged.bed',\n",
       " '/Users/mguo123/Documents/pan_omics_psych/data/interim/merged/atac/H9_D2_merged.bed',\n",
       " '/Users/mguo123/Documents/pan_omics_psych/data/interim/merged/atac/H9_D10_merged.bed']"
      ]
     },
     "execution_count": 117,
     "metadata": {},
     "output_type": "execute_result"
    }
   ],
   "source": [
    "atac_dir = '/Users/mguo123/Documents/pan_omics_psych/data/interim/merged/atac/'\n",
    "atac_bed_files = glob.glob(os.path.join(atac_dir, '*bed'))\n",
    "atac_bed_files"
   ]
  },
  {
   "cell_type": "code",
   "execution_count": 354,
   "metadata": {},
   "outputs": [
    {
     "data": {
      "text/plain": [
       "158    chr3_50374568\n",
       "159    chr3_50388607\n",
       "Name: name, dtype: object"
      ]
     },
     "execution_count": 354,
     "metadata": {},
     "output_type": "execute_result"
    }
   ],
   "source": [
    "atac_file = '/Users/mguo123/Documents/pan_omics_psych/data/interim/merged/atac/SL_D0_merged.bed'\n",
    "tissue_mapper = {\n",
    "    'H9_D2':'H9D2',\n",
    "    'SLC_D0':'SLC',\n",
    "    'SL_D0':'SL',\n",
    "    'Astrocytes':'AST1',\n",
    "    'H9_D10':'H9D10',\n",
    "    'H9_D0':'H9D0'\n",
    "}\n",
    "tissue = os.path.basename(atac_file).split('_merged')[0]\n",
    "atac_bed = pybedtools.BedTool(atac_file)\n",
    "lib_df_bed_atac = lib_df_bed.intersect(atac_bed).to_dataframe()\n",
    "lib_df_bed_atac  =lib_df_bed_atac[['name']].drop_duplicates().reset_index(drop=True)\n",
    "lib_df_bed_atac['tissue'] = tissue_mapper[tissue]\n",
    "lib_df_bed_atac.name[lib_df_bed_atac.name.str.startswith('chr3_503')]"
   ]
  },
  {
   "cell_type": "code",
   "execution_count": 356,
   "metadata": {},
   "outputs": [
    {
     "data": {
      "text/plain": [
       "224    chr3_50374568\n",
       "225    chr3_50388607\n",
       "Name: rowname, dtype: object"
      ]
     },
     "execution_count": 356,
     "metadata": {},
     "output_type": "execute_result"
    }
   ],
   "source": [
    "lib_atac_df.rowname[lib_atac_df.rowname.str.startswith('chr3_503')]"
   ]
  },
  {
   "cell_type": "code",
   "execution_count": 152,
   "metadata": {},
   "outputs": [
    {
     "name": "stdout",
     "output_type": "stream",
     "text": [
      "Astrocytes\n",
      "lib_atac_df (165, 2)\n",
      "H9_D0\n",
      "lib_atac_df (394, 2)\n",
      "H9_D10\n",
      "lib_atac_df (587, 2)\n",
      "H9_D28\n",
      "H9_D28 not considered\n",
      "H9_D2\n",
      "lib_atac_df (816, 2)\n",
      "H9_D4\n",
      "H9_D4 not considered\n",
      "SLC_D0\n",
      "lib_atac_df (1088, 2)\n",
      "SLC_D2\n",
      "SLC_D2 not considered\n",
      "SL_D0\n",
      "lib_atac_df (1343, 2)\n",
      "SL_D2\n",
      "SL_D2 not considered\n"
     ]
    }
   ],
   "source": [
    "# aside get a table which lists for all the snps whether it's in an atac peak and which tissues\n",
    "tissue_mapper = {\n",
    "    'H9_D2':'H9D2',\n",
    "    'SLC_D0':'SLC',\n",
    "    'SL_D0':'SL',\n",
    "    'Astrocytes':'AST1',\n",
    "    'H9_D10':'H9D10',\n",
    "    'H9_D0':'H9D0'\n",
    "}\n",
    "\n",
    "lib_atac_df = pd.DataFrame()\n",
    "for atac_file in sorted(atac_bed_files):\n",
    "    tissue = os.path.basename(atac_file).split('_merged')[0]\n",
    "    print(tissue)\n",
    "    if tissue not in tissue_mapper.keys():\n",
    "        print(tissue, 'not considered')\n",
    "        continue\n",
    "    atac_bed = pybedtools.BedTool(atac_file)\n",
    "    lib_df_bed_atac = lib_df_bed.intersect(atac_bed).to_dataframe()\n",
    "    lib_df_bed_atac  =lib_df_bed_atac[['name']].drop_duplicates().reset_index(drop=True)\n",
    "    lib_df_bed_atac['tissue'] = tissue_mapper[tissue]\n",
    "    lib_atac_df = pd.concat([lib_atac_df, lib_df_bed_atac])\n",
    "    print('lib_atac_df', lib_atac_df.shape)\n",
    "    \n",
    "lib_atac_df = lib_atac_df.groupby('name').agg({'tissue':'|'.join}).reset_index()\n",
    "lib_atac_df.columns = ['rowname','atac_tissues']\n",
    "lib_atac_df['bool_in_atac_pk'] = True\n",
    "lib_atac_df.to_csv('mpra_enrichment/lib_atac_annotation.csv')"
   ]
  },
  {
   "cell_type": "code",
   "execution_count": 355,
   "metadata": {},
   "outputs": [
    {
     "data": {
      "text/html": [
       "<div>\n",
       "<style scoped>\n",
       "    .dataframe tbody tr th:only-of-type {\n",
       "        vertical-align: middle;\n",
       "    }\n",
       "\n",
       "    .dataframe tbody tr th {\n",
       "        vertical-align: top;\n",
       "    }\n",
       "\n",
       "    .dataframe thead th {\n",
       "        text-align: right;\n",
       "    }\n",
       "</style>\n",
       "<table border=\"1\" class=\"dataframe\">\n",
       "  <thead>\n",
       "    <tr style=\"text-align: right;\">\n",
       "      <th></th>\n",
       "      <th>rowname</th>\n",
       "      <th>atac_tissues</th>\n",
       "      <th>bool_in_atac_pk</th>\n",
       "    </tr>\n",
       "  </thead>\n",
       "  <tbody>\n",
       "    <tr>\n",
       "      <td>0</td>\n",
       "      <td>chr10_104953007</td>\n",
       "      <td>AST1|H9D0|H9D10|H9D2|SLC|SL</td>\n",
       "      <td>True</td>\n",
       "    </tr>\n",
       "    <tr>\n",
       "      <td>1</td>\n",
       "      <td>chr10_104953094</td>\n",
       "      <td>AST1|H9D0|H9D10|H9D2|SLC|SL</td>\n",
       "      <td>True</td>\n",
       "    </tr>\n",
       "    <tr>\n",
       "      <td>2</td>\n",
       "      <td>chr10_106569207</td>\n",
       "      <td>H9D0|H9D2</td>\n",
       "      <td>True</td>\n",
       "    </tr>\n",
       "    <tr>\n",
       "      <td>3</td>\n",
       "      <td>chr10_133912613</td>\n",
       "      <td>SLC</td>\n",
       "      <td>True</td>\n",
       "    </tr>\n",
       "    <tr>\n",
       "      <td>4</td>\n",
       "      <td>chr10_62060128</td>\n",
       "      <td>SL</td>\n",
       "      <td>True</td>\n",
       "    </tr>\n",
       "    <tr>\n",
       "      <td>...</td>\n",
       "      <td>...</td>\n",
       "      <td>...</td>\n",
       "      <td>...</td>\n",
       "    </tr>\n",
       "    <tr>\n",
       "      <td>375</td>\n",
       "      <td>chr9_26892654</td>\n",
       "      <td>AST1|H9D0|H9D10|H9D2|SLC|SL</td>\n",
       "      <td>True</td>\n",
       "    </tr>\n",
       "    <tr>\n",
       "      <td>376</td>\n",
       "      <td>chr9_26892974</td>\n",
       "      <td>SLC|SL</td>\n",
       "      <td>True</td>\n",
       "    </tr>\n",
       "    <tr>\n",
       "      <td>377</td>\n",
       "      <td>chr9_34048755</td>\n",
       "      <td>AST1|H9D0|H9D10|H9D2|SLC|SL</td>\n",
       "      <td>True</td>\n",
       "    </tr>\n",
       "    <tr>\n",
       "      <td>378</td>\n",
       "      <td>chr9_34126788</td>\n",
       "      <td>AST1|H9D0|H9D10|H9D2|SLC|SL</td>\n",
       "      <td>True</td>\n",
       "    </tr>\n",
       "    <tr>\n",
       "      <td>379</td>\n",
       "      <td>chr9_94877836</td>\n",
       "      <td>AST1|H9D0|H9D10|H9D2|SLC|SL</td>\n",
       "      <td>True</td>\n",
       "    </tr>\n",
       "  </tbody>\n",
       "</table>\n",
       "<p>380 rows × 3 columns</p>\n",
       "</div>"
      ],
      "text/plain": [
       "             rowname                 atac_tissues  bool_in_atac_pk\n",
       "0    chr10_104953007  AST1|H9D0|H9D10|H9D2|SLC|SL             True\n",
       "1    chr10_104953094  AST1|H9D0|H9D10|H9D2|SLC|SL             True\n",
       "2    chr10_106569207                    H9D0|H9D2             True\n",
       "3    chr10_133912613                          SLC             True\n",
       "4     chr10_62060128                           SL             True\n",
       "..               ...                          ...              ...\n",
       "375    chr9_26892654  AST1|H9D0|H9D10|H9D2|SLC|SL             True\n",
       "376    chr9_26892974                       SLC|SL             True\n",
       "377    chr9_34048755  AST1|H9D0|H9D10|H9D2|SLC|SL             True\n",
       "378    chr9_34126788  AST1|H9D0|H9D10|H9D2|SLC|SL             True\n",
       "379    chr9_94877836  AST1|H9D0|H9D10|H9D2|SLC|SL             True\n",
       "\n",
       "[380 rows x 3 columns]"
      ]
     },
     "execution_count": 355,
     "metadata": {},
     "output_type": "execute_result"
    }
   ],
   "source": [
    "lib_atac_df"
   ]
  },
  {
   "cell_type": "code",
   "execution_count": 118,
   "metadata": {},
   "outputs": [
    {
     "data": {
      "text/plain": [
       "['vcf_files/atac/SL_D2_postvqsr.vcf',\n",
       " 'vcf_files/atac/SLC_D2_postvqsr.vcf',\n",
       " 'vcf_files/atac/H9_D2_postvqsr.vcf',\n",
       " 'vcf_files/atac/SLC_postvqsr.vcf',\n",
       " 'vcf_files/atac/H9_D4_postvqsr.vcf',\n",
       " 'vcf_files/atac/SL_postvqsr.vcf',\n",
       " 'vcf_files/atac/H9_D28_postvqsr.vcf',\n",
       " 'vcf_files/atac/Astrocytes_postvqsr.vcf',\n",
       " 'vcf_files/atac/H9_D10_postvqsr.vcf',\n",
       " 'vcf_files/atac/H9_D0_postvqsr.vcf']"
      ]
     },
     "execution_count": 118,
     "metadata": {},
     "output_type": "execute_result"
    }
   ],
   "source": [
    "vcf_files = glob.glob('vcf_files/atac/*vcf')\n",
    "vcf_files "
   ]
  },
  {
   "cell_type": "code",
   "execution_count": 119,
   "metadata": {},
   "outputs": [
    {
     "name": "stdout",
     "output_type": "stream",
     "text": [
      "SL_D2\n",
      "SLC_D2\n",
      "H9_D2\n",
      "SLC\n",
      "H9_D4\n",
      "SL\n",
      "H9_D28\n",
      "Astrocytes\n",
      "H9_D10\n",
      "H9_D0\n"
     ]
    }
   ],
   "source": [
    "for vcf_file in vcf_files:\n",
    "    tissue = os.path.basename(vcf_file).split('_post')[0]\n",
    "    print(tissue)"
   ]
  },
  {
   "cell_type": "code",
   "execution_count": 120,
   "metadata": {},
   "outputs": [],
   "source": [
    "atac_tissue_mapper = {\n",
    "    'SL_D2':'SL_D2',\n",
    "    'SLC_D2':'SLC_D2',\n",
    "    'H9_D2':'H9_D2',\n",
    "    'SLC':'SLC_D0',\n",
    "    'H9_D4':'H9_D4',\n",
    "    'SL':'SL_D0',\n",
    "    'H9_D28':'H9_D28',\n",
    "    'Astrocytes':'Astrocytes',\n",
    "    'H9_D10':'H9_D10',\n",
    "    'H9_D0':'H9_D0'\n",
    "}"
   ]
  },
  {
   "cell_type": "code",
   "execution_count": 121,
   "metadata": {},
   "outputs": [],
   "source": [
    "### FROM TESTING\n",
    "# vcf_df[:5]"
   ]
  },
  {
   "cell_type": "code",
   "execution_count": 327,
   "metadata": {},
   "outputs": [],
   "source": []
  },
  {
   "cell_type": "code",
   "execution_count": 332,
   "metadata": {},
   "outputs": [
    {
     "name": "stdout",
     "output_type": "stream",
     "text": [
      "************\n",
      "Astrocytes\n",
      "read vcf_files/atac/Astrocytes_postvqsr.vcf\n",
      "shape (32821, 11)\n",
      "num_vcf_hits PRE FILTER 32821\n",
      "num_vcf_hits POST FILTER 11901\n",
      "background library hits that are asATAC 2221 52 0.02341287708239532\n",
      "mpra sig library hits in tissue  66\n",
      "overlap: 1\n",
      "hypergeometric test between being asATAC and MPRA hit over backgroun of being in mpra_dataset 0.7955131726464193\n",
      "hypergeometric test between being asATAC and MPRA hit over backgroun of being in an asatac 0.2515904235615534\n"
     ]
    },
    {
     "name": "stderr",
     "output_type": "stream",
     "text": [
      "/Users/mguo123/opt/anaconda3/lib/python3.7/site-packages/ipykernel_launcher.py:14: SettingWithCopyWarning: \n",
      "A value is trying to be set on a copy of a slice from a DataFrame.\n",
      "Try using .loc[row_indexer,col_indexer] = value instead\n",
      "\n",
      "See the caveats in the documentation: http://pandas.pydata.org/pandas-docs/stable/user_guide/indexing.html#returning-a-view-versus-a-copy\n",
      "  \n"
     ]
    },
    {
     "name": "stdout",
     "output_type": "stream",
     "text": [
      "atac filter 5068 out of 11901 allele-specific atac 0.42584656751533484\n",
      "atac filter 165 out of 2221 mpra alleles tested 0.07429085997298514\n",
      "atac filter 57 out of 637 mpra alleles sig 0.08948194662480377\n",
      "background library hits-atac filt 165 33 0.2\n",
      "mpra sig library hits-atac filt 57 14 0.24561403508771928\n",
      "mpra sig library hits in tissue atac filt  66\n",
      "overlap atac: 1\n",
      "hypergeometric test between being asATAC and MPRA hit over backgroun of being asatac 0.8890752667719778\n",
      "************\n",
      "H9_D0\n",
      "read vcf_files/atac/H9_D0_postvqsr.vcf\n",
      "shape (15022, 11)\n"
     ]
    },
    {
     "name": "stderr",
     "output_type": "stream",
     "text": [
      "/Users/mguo123/opt/anaconda3/lib/python3.7/site-packages/pandas/core/series.py:1152: FutureWarning: \n",
      "Passing list-likes to .loc or [] with any missing label will raise\n",
      "KeyError in the future, you can use .reindex() as an alternative.\n",
      "\n",
      "See the documentation here:\n",
      "https://pandas.pydata.org/pandas-docs/stable/user_guide/indexing.html#deprecate-loc-reindex-listlike\n",
      "  return self.loc[key]\n"
     ]
    },
    {
     "name": "stdout",
     "output_type": "stream",
     "text": [
      "num_vcf_hits PRE FILTER 15022\n",
      "num_vcf_hits POST FILTER 2468\n",
      "background library hits that are asATAC 2221 10 0.004502476361999099\n",
      "mpra sig library hits in tissue  105\n",
      "overlap: 1\n",
      "hypergeometric test between being asATAC and MPRA hit over backgroun of being in mpra_dataset 0.3844928112731949\n",
      "hypergeometric test between being asATAC and MPRA hit over backgroun of being in an asatac 0.35310637539015116\n"
     ]
    },
    {
     "name": "stderr",
     "output_type": "stream",
     "text": [
      "/Users/mguo123/opt/anaconda3/lib/python3.7/site-packages/ipykernel_launcher.py:14: SettingWithCopyWarning: \n",
      "A value is trying to be set on a copy of a slice from a DataFrame.\n",
      "Try using .loc[row_indexer,col_indexer] = value instead\n",
      "\n",
      "See the caveats in the documentation: http://pandas.pydata.org/pandas-docs/stable/user_guide/indexing.html#returning-a-view-versus-a-copy\n",
      "  \n"
     ]
    },
    {
     "name": "stdout",
     "output_type": "stream",
     "text": [
      "atac filter 2275 out of 2468 allele-specific atac 0.9217990275526742\n",
      "atac filter 229 out of 2221 mpra alleles tested 0.10310670868977938\n",
      "atac filter 68 out of 637 mpra alleles sig 0.10675039246467818\n",
      "background library hits-atac filt 229 10 0.043668122270742356\n",
      "mpra sig library hits-atac filt 68 8 0.11764705882352941\n",
      "mpra sig library hits in tissue atac filt  105\n",
      "overlap atac: 1\n",
      "hypergeometric test between being asATAC and MPRA hit over backgroun of being asatac 0.9999889980980896\n",
      "************\n",
      "H9_D10\n",
      "read vcf_files/atac/H9_D10_postvqsr.vcf\n",
      "shape (44757, 11)\n"
     ]
    },
    {
     "name": "stderr",
     "output_type": "stream",
     "text": [
      "/Users/mguo123/opt/anaconda3/lib/python3.7/site-packages/pandas/core/series.py:1152: FutureWarning: \n",
      "Passing list-likes to .loc or [] with any missing label will raise\n",
      "KeyError in the future, you can use .reindex() as an alternative.\n",
      "\n",
      "See the documentation here:\n",
      "https://pandas.pydata.org/pandas-docs/stable/user_guide/indexing.html#deprecate-loc-reindex-listlike\n",
      "  return self.loc[key]\n"
     ]
    },
    {
     "name": "stdout",
     "output_type": "stream",
     "text": [
      "num_vcf_hits PRE FILTER 44757\n",
      "num_vcf_hits POST FILTER 15145\n"
     ]
    },
    {
     "name": "stderr",
     "output_type": "stream",
     "text": [
      "/Users/mguo123/opt/anaconda3/lib/python3.7/site-packages/ipykernel_launcher.py:14: SettingWithCopyWarning: \n",
      "A value is trying to be set on a copy of a slice from a DataFrame.\n",
      "Try using .loc[row_indexer,col_indexer] = value instead\n",
      "\n",
      "See the caveats in the documentation: http://pandas.pydata.org/pandas-docs/stable/user_guide/indexing.html#returning-a-view-versus-a-copy\n",
      "  \n"
     ]
    },
    {
     "name": "stdout",
     "output_type": "stream",
     "text": [
      "background library hits that are asATAC 2221 39 0.017559657811796487\n",
      "mpra sig library hits in tissue  153\n",
      "overlap: 1\n",
      "hypergeometric test between being asATAC and MPRA hit over backgroun of being in mpra_dataset 0.9397125613908669\n",
      "hypergeometric test between being asATAC and MPRA hit over backgroun of being in an asatac 0.3273265042941059\n",
      "atac filter 9707 out of 15145 allele-specific atac 0.6409376031693629\n",
      "atac filter 193 out of 2221 mpra alleles tested 0.08689779378658262\n",
      "atac filter 63 out of 637 mpra alleles sig 0.0989010989010989\n",
      "background library hits-atac filt 193 30 0.15544041450777202\n",
      "mpra sig library hits-atac filt 63 11 0.1746031746031746\n",
      "mpra sig library hits in tissue atac filt  153\n",
      "overlap atac: 1\n",
      "hypergeometric test between being asATAC and MPRA hit over backgroun of being asatac 0.9548263249512454\n",
      "************\n",
      "H9_D28\n",
      "read vcf_files/atac/H9_D28_postvqsr.vcf\n",
      "shape (42795, 11)\n"
     ]
    },
    {
     "name": "stderr",
     "output_type": "stream",
     "text": [
      "/Users/mguo123/opt/anaconda3/lib/python3.7/site-packages/pandas/core/series.py:1152: FutureWarning: \n",
      "Passing list-likes to .loc or [] with any missing label will raise\n",
      "KeyError in the future, you can use .reindex() as an alternative.\n",
      "\n",
      "See the documentation here:\n",
      "https://pandas.pydata.org/pandas-docs/stable/user_guide/indexing.html#deprecate-loc-reindex-listlike\n",
      "  return self.loc[key]\n"
     ]
    },
    {
     "name": "stdout",
     "output_type": "stream",
     "text": [
      "num_vcf_hits PRE FILTER 42795\n",
      "num_vcf_hits POST FILTER 9649\n"
     ]
    },
    {
     "name": "stderr",
     "output_type": "stream",
     "text": [
      "/Users/mguo123/opt/anaconda3/lib/python3.7/site-packages/ipykernel_launcher.py:14: SettingWithCopyWarning: \n",
      "A value is trying to be set on a copy of a slice from a DataFrame.\n",
      "Try using .loc[row_indexer,col_indexer] = value instead\n",
      "\n",
      "See the caveats in the documentation: http://pandas.pydata.org/pandas-docs/stable/user_guide/indexing.html#returning-a-view-versus-a-copy\n",
      "  \n"
     ]
    },
    {
     "name": "stdout",
     "output_type": "stream",
     "text": [
      "background library hits that are asATAC 2221 23 0.010355695632597929\n",
      "atac filter 6556 out of 9649 allele-specific atac 0.6794486475282413\n",
      "atac filter 148 out of 2221 mpra alleles tested 0.06663665015758667\n",
      "atac filter 50 out of 637 mpra alleles sig 0.07849293563579278\n",
      "background library hits-atac filt 148 21 0.14189189189189189\n",
      "mpra sig library hits-atac filt 50 9 0.18\n",
      "************\n",
      "H9_D2\n",
      "read vcf_files/atac/H9_D2_postvqsr.vcf\n",
      "shape (74976, 11)\n"
     ]
    },
    {
     "name": "stderr",
     "output_type": "stream",
     "text": [
      "/Users/mguo123/opt/anaconda3/lib/python3.7/site-packages/pandas/core/series.py:1152: FutureWarning: \n",
      "Passing list-likes to .loc or [] with any missing label will raise\n",
      "KeyError in the future, you can use .reindex() as an alternative.\n",
      "\n",
      "See the documentation here:\n",
      "https://pandas.pydata.org/pandas-docs/stable/user_guide/indexing.html#deprecate-loc-reindex-listlike\n",
      "  return self.loc[key]\n"
     ]
    },
    {
     "name": "stdout",
     "output_type": "stream",
     "text": [
      "num_vcf_hits PRE FILTER 74976\n"
     ]
    },
    {
     "name": "stderr",
     "output_type": "stream",
     "text": [
      "/Users/mguo123/opt/anaconda3/lib/python3.7/site-packages/ipykernel_launcher.py:14: SettingWithCopyWarning: \n",
      "A value is trying to be set on a copy of a slice from a DataFrame.\n",
      "Try using .loc[row_indexer,col_indexer] = value instead\n",
      "\n",
      "See the caveats in the documentation: http://pandas.pydata.org/pandas-docs/stable/user_guide/indexing.html#returning-a-view-versus-a-copy\n",
      "  \n"
     ]
    },
    {
     "name": "stdout",
     "output_type": "stream",
     "text": [
      "num_vcf_hits POST FILTER 26105\n",
      "background library hits that are asATAC 2221 55 0.024763619990995047\n",
      "mpra sig library hits in tissue  86\n",
      "overlap: 5\n",
      "hypergeometric test between being asATAC and MPRA hit over backgroun of being in mpra_dataset 0.058973163399260266\n",
      "hypergeometric test between being asATAC and MPRA hit over backgroun of being in an asatac 1.0541139866532874e-06\n",
      "atac filter 16624 out of 26105 allele-specific atac 0.6368128710974909\n",
      "atac filter 229 out of 2221 mpra alleles tested 0.10310670868977938\n",
      "atac filter 65 out of 637 mpra alleles sig 0.10204081632653061\n",
      "background library hits-atac filt 229 43 0.18777292576419213\n",
      "mpra sig library hits-atac filt 65 15 0.23076923076923078\n",
      "mpra sig library hits in tissue atac filt  86\n",
      "overlap atac: 4\n",
      "hypergeometric test between being asATAC and MPRA hit over backgroun of being asatac 0.030996558889753525\n",
      "************\n",
      "H9_D4\n",
      "read vcf_files/atac/H9_D4_postvqsr.vcf\n",
      "shape (42267, 11)\n"
     ]
    },
    {
     "name": "stderr",
     "output_type": "stream",
     "text": [
      "/Users/mguo123/opt/anaconda3/lib/python3.7/site-packages/pandas/core/series.py:1152: FutureWarning: \n",
      "Passing list-likes to .loc or [] with any missing label will raise\n",
      "KeyError in the future, you can use .reindex() as an alternative.\n",
      "\n",
      "See the documentation here:\n",
      "https://pandas.pydata.org/pandas-docs/stable/user_guide/indexing.html#deprecate-loc-reindex-listlike\n",
      "  return self.loc[key]\n"
     ]
    },
    {
     "name": "stdout",
     "output_type": "stream",
     "text": [
      "num_vcf_hits PRE FILTER 42267\n",
      "num_vcf_hits POST FILTER 14982\n"
     ]
    },
    {
     "name": "stderr",
     "output_type": "stream",
     "text": [
      "/Users/mguo123/opt/anaconda3/lib/python3.7/site-packages/ipykernel_launcher.py:14: SettingWithCopyWarning: \n",
      "A value is trying to be set on a copy of a slice from a DataFrame.\n",
      "Try using .loc[row_indexer,col_indexer] = value instead\n",
      "\n",
      "See the caveats in the documentation: http://pandas.pydata.org/pandas-docs/stable/user_guide/indexing.html#returning-a-view-versus-a-copy\n",
      "  \n"
     ]
    },
    {
     "name": "stdout",
     "output_type": "stream",
     "text": [
      "background library hits that are asATAC 2221 42 0.01891040072039622\n",
      "atac filter 11733 out of 14982 allele-specific atac 0.7831397677212655\n",
      "atac filter 233 out of 2221 mpra alleles tested 0.10490769923457902\n",
      "atac filter 70 out of 637 mpra alleles sig 0.10989010989010989\n",
      "background library hits-atac filt 233 33 0.14163090128755365\n",
      "mpra sig library hits-atac filt 70 11 0.15714285714285714\n",
      "************\n",
      "SLC_D2\n",
      "read vcf_files/atac/SLC_D2_postvqsr.vcf\n",
      "shape (91542, 11)\n"
     ]
    },
    {
     "name": "stderr",
     "output_type": "stream",
     "text": [
      "/Users/mguo123/opt/anaconda3/lib/python3.7/site-packages/pandas/core/series.py:1152: FutureWarning: \n",
      "Passing list-likes to .loc or [] with any missing label will raise\n",
      "KeyError in the future, you can use .reindex() as an alternative.\n",
      "\n",
      "See the documentation here:\n",
      "https://pandas.pydata.org/pandas-docs/stable/user_guide/indexing.html#deprecate-loc-reindex-listlike\n",
      "  return self.loc[key]\n"
     ]
    },
    {
     "name": "stdout",
     "output_type": "stream",
     "text": [
      "num_vcf_hits PRE FILTER 91542\n"
     ]
    },
    {
     "name": "stderr",
     "output_type": "stream",
     "text": [
      "/Users/mguo123/opt/anaconda3/lib/python3.7/site-packages/ipykernel_launcher.py:14: SettingWithCopyWarning: \n",
      "A value is trying to be set on a copy of a slice from a DataFrame.\n",
      "Try using .loc[row_indexer,col_indexer] = value instead\n",
      "\n",
      "See the caveats in the documentation: http://pandas.pydata.org/pandas-docs/stable/user_guide/indexing.html#returning-a-view-versus-a-copy\n",
      "  \n"
     ]
    },
    {
     "name": "stdout",
     "output_type": "stream",
     "text": [
      "num_vcf_hits POST FILTER 43523\n",
      "background library hits that are asATAC 2221 83 0.037370553804592525\n",
      "atac filter 31537 out of 43523 allele-specific atac 0.7246053810628863\n",
      "atac filter 306 out of 2221 mpra alleles tested 0.13777577667717245\n",
      "atac filter 87 out of 637 mpra alleles sig 0.13657770800627944\n",
      "background library hits-atac filt 306 72 0.23529411764705882\n",
      "mpra sig library hits-atac filt 87 22 0.25287356321839083\n",
      "************\n",
      "SLC\n",
      "read vcf_files/atac/SLC_postvqsr.vcf\n",
      "shape (39330, 11)\n"
     ]
    },
    {
     "name": "stderr",
     "output_type": "stream",
     "text": [
      "/Users/mguo123/opt/anaconda3/lib/python3.7/site-packages/pandas/core/series.py:1152: FutureWarning: \n",
      "Passing list-likes to .loc or [] with any missing label will raise\n",
      "KeyError in the future, you can use .reindex() as an alternative.\n",
      "\n",
      "See the documentation here:\n",
      "https://pandas.pydata.org/pandas-docs/stable/user_guide/indexing.html#deprecate-loc-reindex-listlike\n",
      "  return self.loc[key]\n"
     ]
    },
    {
     "name": "stdout",
     "output_type": "stream",
     "text": [
      "num_vcf_hits PRE FILTER 39330\n",
      "num_vcf_hits POST FILTER 11580\n"
     ]
    },
    {
     "name": "stderr",
     "output_type": "stream",
     "text": [
      "/Users/mguo123/opt/anaconda3/lib/python3.7/site-packages/ipykernel_launcher.py:14: SettingWithCopyWarning: \n",
      "A value is trying to be set on a copy of a slice from a DataFrame.\n",
      "Try using .loc[row_indexer,col_indexer] = value instead\n",
      "\n",
      "See the caveats in the documentation: http://pandas.pydata.org/pandas-docs/stable/user_guide/indexing.html#returning-a-view-versus-a-copy\n",
      "  \n"
     ]
    },
    {
     "name": "stdout",
     "output_type": "stream",
     "text": [
      "background library hits that are asATAC 2221 26 0.01170643854119766\n",
      "mpra sig library hits in tissue  335\n",
      "overlap: 7\n",
      "hypergeometric test between being asATAC and MPRA hit over backgroun of being in mpra_dataset 0.08410862100906615\n",
      "hypergeometric test between being asATAC and MPRA hit over backgroun of being in an asatac 6.520177721656143e-06\n",
      "atac filter 9867 out of 11580 allele-specific atac 0.8520725388601036\n",
      "atac filter 272 out of 2221 mpra alleles tested 0.12246735704637551\n",
      "atac filter 80 out of 637 mpra alleles sig 0.12558869701726844\n",
      "background library hits-atac filt 272 25 0.09191176470588236\n",
      "mpra sig library hits-atac filt 80 11 0.1375\n",
      "mpra sig library hits in tissue atac filt  335\n",
      "overlap atac: 7\n",
      "hypergeometric test between being asATAC and MPRA hit over backgroun of being asatac 0.8222241931860619\n",
      "************\n",
      "SL_D2\n",
      "read vcf_files/atac/SL_D2_postvqsr.vcf\n",
      "shape (84177, 11)\n"
     ]
    },
    {
     "name": "stderr",
     "output_type": "stream",
     "text": [
      "/Users/mguo123/opt/anaconda3/lib/python3.7/site-packages/pandas/core/series.py:1152: FutureWarning: \n",
      "Passing list-likes to .loc or [] with any missing label will raise\n",
      "KeyError in the future, you can use .reindex() as an alternative.\n",
      "\n",
      "See the documentation here:\n",
      "https://pandas.pydata.org/pandas-docs/stable/user_guide/indexing.html#deprecate-loc-reindex-listlike\n",
      "  return self.loc[key]\n"
     ]
    },
    {
     "name": "stdout",
     "output_type": "stream",
     "text": [
      "num_vcf_hits PRE FILTER 84177\n"
     ]
    },
    {
     "name": "stderr",
     "output_type": "stream",
     "text": [
      "/Users/mguo123/opt/anaconda3/lib/python3.7/site-packages/ipykernel_launcher.py:14: SettingWithCopyWarning: \n",
      "A value is trying to be set on a copy of a slice from a DataFrame.\n",
      "Try using .loc[row_indexer,col_indexer] = value instead\n",
      "\n",
      "See the caveats in the documentation: http://pandas.pydata.org/pandas-docs/stable/user_guide/indexing.html#returning-a-view-versus-a-copy\n",
      "  \n"
     ]
    },
    {
     "name": "stdout",
     "output_type": "stream",
     "text": [
      "num_vcf_hits POST FILTER 34287\n",
      "background library hits that are asATAC 2221 72 0.03241782980639352\n",
      "atac filter 23319 out of 34287 allele-specific atac 0.6801119958001575\n",
      "atac filter 268 out of 2221 mpra alleles tested 0.12066636650157586\n",
      "atac filter 76 out of 637 mpra alleles sig 0.11930926216640503\n",
      "background library hits-atac filt 268 55 0.20522388059701493\n",
      "mpra sig library hits-atac filt 76 17 0.2236842105263158\n",
      "************\n",
      "SL\n",
      "read vcf_files/atac/SL_postvqsr.vcf\n",
      "shape (24478, 11)\n"
     ]
    },
    {
     "name": "stderr",
     "output_type": "stream",
     "text": [
      "/Users/mguo123/opt/anaconda3/lib/python3.7/site-packages/pandas/core/series.py:1152: FutureWarning: \n",
      "Passing list-likes to .loc or [] with any missing label will raise\n",
      "KeyError in the future, you can use .reindex() as an alternative.\n",
      "\n",
      "See the documentation here:\n",
      "https://pandas.pydata.org/pandas-docs/stable/user_guide/indexing.html#deprecate-loc-reindex-listlike\n",
      "  return self.loc[key]\n"
     ]
    },
    {
     "name": "stdout",
     "output_type": "stream",
     "text": [
      "num_vcf_hits PRE FILTER 24478\n",
      "num_vcf_hits POST FILTER 5566\n"
     ]
    },
    {
     "name": "stderr",
     "output_type": "stream",
     "text": [
      "/Users/mguo123/opt/anaconda3/lib/python3.7/site-packages/ipykernel_launcher.py:14: SettingWithCopyWarning: \n",
      "A value is trying to be set on a copy of a slice from a DataFrame.\n",
      "Try using .loc[row_indexer,col_indexer] = value instead\n",
      "\n",
      "See the caveats in the documentation: http://pandas.pydata.org/pandas-docs/stable/user_guide/indexing.html#returning-a-view-versus-a-copy\n",
      "  \n"
     ]
    },
    {
     "name": "stdout",
     "output_type": "stream",
     "text": [
      "background library hits that are asATAC 2221 19 0.008554705087798289\n",
      "mpra sig library hits in tissue  71\n",
      "overlap: 1\n",
      "hypergeometric test between being asATAC and MPRA hit over backgroun of being in mpra_dataset 0.4619809627848931\n",
      "hypergeometric test between being asATAC and MPRA hit over backgroun of being in an asatac 0.2167640397506155\n",
      "atac filter 4862 out of 5566 allele-specific atac 0.8735177865612648\n",
      "atac filter 255 out of 2221 mpra alleles tested 0.11481314723097703\n",
      "atac filter 76 out of 637 mpra alleles sig 0.11930926216640503\n",
      "background library hits-atac filt 255 17 0.06666666666666667\n",
      "mpra sig library hits-atac filt 76 8 0.10526315789473684\n",
      "mpra sig library hits in tissue atac filt  71\n",
      "overlap atac: 1\n",
      "hypergeometric test between being asATAC and MPRA hit over backgroun of being asatac 0.9787958113094275\n",
      "CPU times: user 33min 6s, sys: 5.6 s, total: 33min 12s\n",
      "Wall time: 33min 2s\n"
     ]
    }
   ],
   "source": [
    "%%time\n",
    "asatac_lib_df = pd.DataFrame()\n",
    "vcf_df_all = pd.DataFrame()\n",
    "for vcf_file in sorted(vcf_files):\n",
    "    tissue = os.path.basename(vcf_file).split('_post')[0]\n",
    "    print('************')\n",
    "    print(tissue)\n",
    "    vcf_df = read_vcf(vcf_file)\n",
    "    vcf_df = pd.concat([vcf_df, vcf_df.apply(lambda x:preprocess_vcf(x,tissue),axis=1)], axis=1)\n",
    "    num_vcf_hits = vcf_df.shape[0]\n",
    "    print('num_vcf_hits PRE FILTER', num_vcf_hits)  \n",
    "    vcf_df = filter_vcf(vcf_df)\n",
    "    num_vcf_hits_postfilt = vcf_df.shape[0]\n",
    "    vcf_bed_df = vcf_df[['CHROM','POS','rowname']]\n",
    "    vcf_bed_df['stop'] = vcf_df.POS.map(int) + 1\n",
    "    vcf_bed_df = vcf_bed_df[['CHROM','POS','stop','rowname']]\n",
    "    vcf_bed_df.columns = ['chr','start','stop','name']\n",
    "    print('num_vcf_hits POST FILTER', num_vcf_hits_postfilt)      \n",
    "    vcf_df_all = pd.concat([vcf_df_all, vcf_df])\n",
    "\n",
    "    vcf_df_lib = vcf_df.merge(lib_df, how='inner',on='rowname')\n",
    "    lib_hits = vcf_df_lib.rowname.unique()\n",
    "    num_lib_hits = lib_hits.shape[0]\n",
    "    print('background library hits that are asATAC', num_lib_tested,num_lib_hits, num_lib_hits/ num_lib_tested)\n",
    "    \n",
    "    if tissue in mpra_tissue_mapper:\n",
    "        mpra_res_df_tissue = mpra_res_df[mpra_res_df.tissue==mpra_tissue_mapper[tissue]]\n",
    "        mpra_hits_tissue = mpra_res_df_tissue.rowname.unique()\n",
    "        num_mpra_hits_tissue= mpra_hits_tissue.shape[0]\n",
    "#         mpra_sig_df_lib = vcf_df.merge(mpra_res_df_tissue, how='inner',on='rowname')\n",
    "\n",
    "        num_mpra_asatac_hits = len(set(lib_hits).intersection(set(mpra_hits_tissue)))\n",
    "        asatac_lib_df_tissue=pd.DataFrame()\n",
    "        asatac_lib_df_tissue['rowname'] = sorted(set(lib_hits).intersection(set(mpra_hits_tissue)))\n",
    "        asatac_lib_df_tissue['tissue'] =  mpra_tissue_mapper[tissue]\n",
    "        asatac_lib_df = pd.concat([asatac_lib_df, asatac_lib_df_tissue])\n",
    "        # do a hypergeometric test between being asATAC and being an mpra hit over a background of being in the mpra dataset\n",
    "    \n",
    "        print('mpra sig library hits in tissue ', num_mpra_hits_tissue)\n",
    "        print('overlap:', num_mpra_asatac_hits)\n",
    "#         oddsratio, pvalue = stats.fisher_exact([[num_lib_hits, num_lib_tested- num_lib_hits],\n",
    "#                                                 [num_mpra_hits, num_mpra_sig_hits - num_mpra_hits]])\n",
    "#         print('fisher for mpra and as annotation association', pvalue, oddsratio)\n",
    "        phyper =  hypergeometric_test(num_mpra_asatac_hits, num_lib_tested, num_mpra_hits_tissue, num_lib_hits)\n",
    "        #stats.hypergeom.cdf(num_mpra_asatac_hits, num_lib_tested, num_lib_hits, num_mpra_hits)\n",
    "        print('hypergeometric test between being asATAC and MPRA hit over backgroun of being in mpra_dataset', phyper )\n",
    "        phyper =  hypergeometric_test(num_mpra_asatac_hits, num_vcf_hits_postfilt, num_mpra_hits_tissue, num_lib_hits)\n",
    "        print('hypergeometric test between being asATAC and MPRA hit over backgroun of being in an asatac', phyper )\n",
    "    \n",
    "    ## filter through atac\n",
    "    atac_tissue = atac_tissue_mapper[tissue]\n",
    "    atac_bed_file = os.path.join(atac_dir, atac_tissue+'_merged.bed')\n",
    "    if not os.path.exists(atac_bed_file):\n",
    "        print('atac file',atac_bed_file, 'does not exist')\n",
    "        continue\n",
    "    atac_bed = pybedtools.BedTool(atac_bed_file)\n",
    "\n",
    "    vcf_bed_df_atac = pybedtools.BedTool.from_dataframe(vcf_bed_df).intersect(atac_bed).to_dataframe()\n",
    "    num_atac_vcf = vcf_bed_df_atac.name.unique().shape[0]\n",
    "    print('atac filter', num_atac_vcf, 'out of', vcf_bed_df.shape[0], 'allele-specific atac', num_atac_vcf/vcf_bed_df.shape[0])\n",
    "    lib_df_bed_atac = lib_df_bed.intersect(atac_bed).to_dataframe()\n",
    "    lib_atac  = lib_df_bed_atac.name.unique()\n",
    "    num_lib_atac = lib_atac.shape[0]\n",
    "    print('atac filter', num_lib_atac, 'out of', num_lib_tested, 'mpra alleles tested', num_lib_atac/num_lib_tested)\n",
    "    mpra_atac = lib_df_bed_atac[lib_df_bed_atac.name.isin(mpra_rownames_sig)].name.unique()\n",
    "    num_mpra_atac = mpra_atac.shape[0]\n",
    "    print('atac filter', num_mpra_atac, 'out of', num_mpra_sig_hits, 'mpra alleles sig',num_mpra_atac/num_mpra_sig_hits)\n",
    "    \n",
    "    vcf_df_lib_atac = vcf_bed_df_atac.merge(lib_df, how='inner',left_on='name',right_on='rowname')\n",
    "    num_lib_hits_atac = vcf_df_lib_atac.rowname.unique().shape[0]\n",
    "    mpra_sig_df_lib_atac = vcf_bed_df_atac.merge(mpra_res_df, how='inner',left_on='name',right_on='rowname')\n",
    "    num_mpra_hits_atac = mpra_sig_df_lib_atac.rowname.unique().shape[0]\n",
    "    \n",
    "    print('background library hits-atac filt', num_lib_atac,num_lib_hits_atac, num_lib_hits_atac/ num_lib_atac)\n",
    "    print('mpra sig library hits-atac filt', num_mpra_atac,num_mpra_hits_atac, num_mpra_hits_atac/ num_mpra_atac)\n",
    "    if tissue in mpra_tissue_mapper:\n",
    "        mpra_hits_tissue_atac = set(mpra_hits_tissue).intersection(set(lib_atac))\n",
    "        num_mpra_hits_tissue_atac= mpra_hits_tissue.shape[0]\n",
    "#         mpra_sig_df_lib = vcf_df.merge(mpra_res_df_tissue, how='inner',on='rowname')\n",
    "\n",
    "        num_mpra_asatac_filtatac_hits = len(set(lib_hits).intersection(set(mpra_hits_tissue_atac)))\n",
    "        # do a hypergeometric test between being asATAC and being an mpra hit over a background of being in the mpra dataset\n",
    "\n",
    "        print('mpra sig library hits in tissue atac filt ', num_mpra_hits_tissue_atac)\n",
    "        print('overlap atac:', num_mpra_asatac_filtatac_hits)\n",
    "#         oddsratio, pvalue = stats.fisher_exact([[num_lib_hits, num_lib_tested- num_lib_hits],\n",
    "#                                                 [num_mpra_hits, num_mpra_sig_hits - num_mpra_hits]])\n",
    "#         print('fisher for mpra and as annotation association', pvalue, oddsratio)\n",
    "        phyper =  hypergeometric_test(num_mpra_asatac_filtatac_hits, num_atac_vcf, num_mpra_hits_tissue_atac, num_lib_atac)\n",
    "        #stats.hypergeom.cdf(num_mpra_asatac_hits, num_lib_tested, num_lib_hits, num_mpra_hits)\n",
    "        print('hypergeometric test between being asATAC and MPRA hit over backgroun of being asatac', phyper )\n",
    "\n",
    "\n",
    "        "
   ]
  },
  {
   "cell_type": "markdown",
   "metadata": {},
   "source": [
    "we can see by the % that the mpra significant hits are overenriched compared to library background\n",
    "- choice of library background can be changed to all gwas non cancer hits??? (will do next \n",
    "\n",
    "NOTE FISHER IS NOT THE RIGHT WAY TO DO IT!!! WIll need to fix ##TODO fix fisher #s\n",
    "\n",
    "\n",
    "that means that MPRA signal is semi effected by "
   ]
  },
  {
   "cell_type": "code",
   "execution_count": 333,
   "metadata": {},
   "outputs": [],
   "source": [
    "vcf_df_all.to_csv('vcf_files/vcf_df_filt_atac_all.csv')"
   ]
  },
  {
   "cell_type": "code",
   "execution_count": 334,
   "metadata": {},
   "outputs": [],
   "source": [
    "asatac_lib_df = asatac_lib_df.sort_values('tissue').groupby('rowname').agg({'tissue':'|'.join}).reset_index()\n",
    "asatac_lib_df.columns = ['rowname','tissue_asatac']\n",
    "asatac_lib_df['bool_is_asatac'] = True\n",
    "asatac_lib_df.to_csv('mpra_enrichment/lib_asatac_annotation_postfilter.csv')"
   ]
  },
  {
   "cell_type": "markdown",
   "metadata": {},
   "source": [
    "# 2. Hichip"
   ]
  },
  {
   "cell_type": "code",
   "execution_count": 57,
   "metadata": {},
   "outputs": [
    {
     "data": {
      "text/plain": [
       "['/Users/mguo123/Documents/pan_omics_psych/data/interim/merged/anchors_bed_sort/SL_D2_sort.bed',\n",
       " '/Users/mguo123/Documents/pan_omics_psych/data/interim/merged/anchors_bed_sort/SLC_D2_sort.bed',\n",
       " '/Users/mguo123/Documents/pan_omics_psych/data/interim/merged/anchors_bed_sort/H9_D28_sort.bed',\n",
       " '/Users/mguo123/Documents/pan_omics_psych/data/interim/merged/anchors_bed_sort/H9_D10_sort.bed',\n",
       " '/Users/mguo123/Documents/pan_omics_psych/data/interim/merged/anchors_bed_sort/H9_D2_sort.bed',\n",
       " '/Users/mguo123/Documents/pan_omics_psych/data/interim/merged/anchors_bed_sort/Astrocytes_sort.bed',\n",
       " '/Users/mguo123/Documents/pan_omics_psych/data/interim/merged/anchors_bed_sort/SL_D0_sort.bed',\n",
       " '/Users/mguo123/Documents/pan_omics_psych/data/interim/merged/anchors_bed_sort/SLC_D0_sort.bed',\n",
       " '/Users/mguo123/Documents/pan_omics_psych/data/interim/merged/anchors_bed_sort/H9_D0_sort.bed']"
      ]
     },
     "execution_count": 57,
     "metadata": {},
     "output_type": "execute_result"
    }
   ],
   "source": [
    "hichip_peaks_dir = '/Users/mguo123/Documents/pan_omics_psych/data/processed/fig2_hichip/hichip_diffloop/'\n",
    "hichip_bed_files = glob.glob(os.path.join(hichip_peaks_dir, '*anchor.bed'))\n",
    "hichip_peaks_dir = '/Users/mguo123/Documents/pan_omics_psych/data/interim/merged/anchors_bed_sort/'\n",
    "hichip_bed_files = glob.glob(os.path.join(hichip_peaks_dir, '*_sort.bed'))\n",
    "hichip_bed_files"
   ]
  },
  {
   "cell_type": "code",
   "execution_count": 58,
   "metadata": {},
   "outputs": [
    {
     "name": "stdout",
     "output_type": "stream",
     "text": [
      "Astrocytes\n",
      "H9_D0\n",
      "H9_D10\n",
      "H9_D28\n",
      "H9_D2\n",
      "SLC_D0\n",
      "SLC_D2\n",
      "SL_D0\n",
      "SL_D2\n"
     ]
    }
   ],
   "source": [
    "for hichip_file in sorted(hichip_bed_files):\n",
    "    tissue = os.path.basename(hichip_file).split('_sort')[0]\n",
    "    print(tissue)\n",
    "    "
   ]
  },
  {
   "cell_type": "code",
   "execution_count": 59,
   "metadata": {},
   "outputs": [
    {
     "name": "stdout",
     "output_type": "stream",
     "text": [
      "H9_D0\n",
      "lib_hichip_df (1493, 2)\n",
      "SLC_D0\n",
      "lib_hichip_df (3156, 2)\n",
      "SL_D0\n",
      "lib_hichip_df (4623, 2)\n",
      "Astrocytes\n",
      "Astrocytes not considered\n",
      "H9_D2\n",
      "lib_hichip_df (6530, 2)\n",
      "H9_D10\n",
      "lib_hichip_df (7830, 2)\n",
      "H9_D28\n",
      "H9_D28 not considered\n",
      "SLC_D2\n",
      "SLC_D2 not considered\n",
      "SL_D2\n",
      "SL_D2 not considered\n"
     ]
    }
   ],
   "source": [
    "# aside get a table which lists for all the snps whether it's in a hichip anchor peak and which tissues\n",
    "tissue_mapper = {\n",
    "    'H9_D2':'H9D2',\n",
    "    'SLC_D0':'SLC',\n",
    "    'SL_D0':'SL',\n",
    "    'Astro':'AST1',\n",
    "    'H9_D10':'H9D10',\n",
    "    'H9_D0':'H9D0'\n",
    "}\n",
    "\n",
    "lib_hichip_df = pd.DataFrame()\n",
    "for hichip_file in hichip_bed_files[::-1]:# sorted(hichip_bed_files):\n",
    "    tissue = os.path.basename(hichip_file).split('_sort')[0]\n",
    "    print(tissue)\n",
    "    if tissue not in tissue_mapper.keys():\n",
    "        print(tissue, 'not considered')\n",
    "        continue\n",
    "    hichip_bed = pybedtools.BedTool(hichip_file).to_dataframe()\n",
    "    if type(hichip_bed['chrom'][0])==int:\n",
    "        hichip_bed['chrom'] = 'chr' + hichip_bed.chrom.map(str)\n",
    "        hichip_bed = pybedtools.BedTool.from_dataframe(hichip_bed)\n",
    "    else:\n",
    "        hichip_bed = pybedtools.BedTool(hichip_file)\n",
    "    lib_df_bed_hichip = lib_df_bed.intersect(hichip_bed).to_dataframe()\n",
    "    lib_df_bed_hichip  =lib_df_bed_hichip[['name']].drop_duplicates().reset_index(drop=True)\n",
    "    lib_df_bed_hichip['tissue'] = tissue_mapper[tissue]\n",
    "    lib_hichip_df = pd.concat([lib_hichip_df, lib_df_bed_hichip])\n",
    "    print('lib_hichip_df', lib_hichip_df.shape)\n",
    "    \n",
    "lib_hichip_df = lib_hichip_df.groupby('name').agg({'tissue':'|'.join}).reset_index()\n",
    "lib_hichip_df.columns = ['rowname','hichip_tissues']\n",
    "lib_hichip_df['bool_in_hichip_pk'] = True\n",
    "lib_hichip_df.to_csv('mpra_enrichment/lib_hichip_annotation.csv')"
   ]
  },
  {
   "cell_type": "code",
   "execution_count": 60,
   "metadata": {},
   "outputs": [
    {
     "data": {
      "text/plain": [
       "['vcf_files/hichip/H9D10_postvqsr.vcf',\n",
       " 'vcf_files/hichip/SLC_postvqsr.vcf',\n",
       " 'vcf_files/hichip/SL_postvqsr.vcf',\n",
       " 'vcf_files/hichip/Astrocytes_postvqsr.vcf',\n",
       " 'vcf_files/hichip/H9D28_postvqsr.vcf',\n",
       " 'vcf_files/hichip/H9_D0_postvqsr.vcf']"
      ]
     },
     "execution_count": 60,
     "metadata": {},
     "output_type": "execute_result"
    }
   ],
   "source": [
    "vcf_files_hichip = glob.glob('vcf_files/hichip/*vcf')\n",
    "vcf_files_hichip"
   ]
  },
  {
   "cell_type": "code",
   "execution_count": 61,
   "metadata": {},
   "outputs": [
    {
     "name": "stdout",
     "output_type": "stream",
     "text": [
      "H9D10\n",
      "SLC\n",
      "SL\n",
      "Astrocytes\n",
      "H9D28\n",
      "H9_D0\n"
     ]
    }
   ],
   "source": [
    "for vcf_file in vcf_files_hichip:\n",
    "    tissue = os.path.basename(vcf_file).split('_post')[0]\n",
    "    print(tissue)"
   ]
  },
  {
   "cell_type": "code",
   "execution_count": 62,
   "metadata": {},
   "outputs": [],
   "source": [
    "hichip_tissue_mapper = {\n",
    "    'SLC':'SLC_D0',\n",
    "    'SL':'SL_D0',\n",
    "    'Astrocytes':'Astrocytes',\n",
    "    'H9_D10':'H9_D10',\n",
    "    'H9_D0':'H9_D0',\n",
    "    'H9_D2':'H9_D2'\n",
    "}"
   ]
  },
  {
   "cell_type": "code",
   "execution_count": 63,
   "metadata": {},
   "outputs": [
    {
     "name": "stdout",
     "output_type": "stream",
     "text": [
      "************\n",
      "Astrocytes\n",
      "read vcf_files/hichip/Astrocytes_postvqsr.vcf\n",
      "shape (56617, 12)\n"
     ]
    },
    {
     "name": "stderr",
     "output_type": "stream",
     "text": [
      "/Users/mguo123/opt/anaconda3/lib/python3.7/site-packages/pandas/core/series.py:1152: FutureWarning: \n",
      "Passing list-likes to .loc or [] with any missing label will raise\n",
      "KeyError in the future, you can use .reindex() as an alternative.\n",
      "\n",
      "See the documentation here:\n",
      "https://pandas.pydata.org/pandas-docs/stable/user_guide/indexing.html#deprecate-loc-reindex-listlike\n",
      "  return self.loc[key]\n"
     ]
    },
    {
     "name": "stdout",
     "output_type": "stream",
     "text": [
      "num_vcf_hits PRE FILTER 56617\n",
      "num_vcf_hits POST FILTER 5606\n"
     ]
    },
    {
     "name": "stderr",
     "output_type": "stream",
     "text": [
      "/Users/mguo123/opt/anaconda3/lib/python3.7/site-packages/ipykernel_launcher.py:14: SettingWithCopyWarning: \n",
      "A value is trying to be set on a copy of a slice from a DataFrame.\n",
      "Try using .loc[row_indexer,col_indexer] = value instead\n",
      "\n",
      "See the caveats in the documentation: http://pandas.pydata.org/pandas-docs/stable/user_guide/indexing.html#returning-a-view-versus-a-copy\n",
      "  \n"
     ]
    },
    {
     "name": "stdout",
     "output_type": "stream",
     "text": [
      "background library hits that are asHiChIP 2221 19 0.008554705087798289\n",
      "mpra sig library hits in tissue  66\n",
      "overlap: 1\n",
      "hypergeometric test between being asHiChIP and MPRA hit over backgroun of being in mpra_dataset 0.4375994651543776\n",
      "hypergeometric test between being asHiChIP and MPRA hit over backgroun of being in an ashichip 0.021921425418490494\n",
      "hichip file /Users/mguo123/Documents/pan_omics_psych/data/interim/merged/anchors_bed_sort/Astrocytes_diffloop_anchor.bed does not exist\n",
      "************\n",
      "H9D10\n",
      "read vcf_files/hichip/H9D10_postvqsr.vcf\n",
      "shape (52162, 12)\n",
      "num_vcf_hits PRE FILTER 52162\n",
      "num_vcf_hits POST FILTER 20978\n",
      "background library hits that are asHiChIP 2221 34 0.01530841963079694\n",
      "H9D10 not in hichip tissue mapper\n",
      "************\n",
      "H9D28\n",
      "read vcf_files/hichip/H9D28_postvqsr.vcf\n",
      "shape (4488, 12)\n"
     ]
    },
    {
     "name": "stderr",
     "output_type": "stream",
     "text": [
      "/Users/mguo123/opt/anaconda3/lib/python3.7/site-packages/ipykernel_launcher.py:18: FutureWarning: Sorting because non-concatenation axis is not aligned. A future version\n",
      "of pandas will change to not sort by default.\n",
      "\n",
      "To accept the future behavior, pass 'sort=False'.\n",
      "\n",
      "To retain the current behavior and silence the warning, pass 'sort=True'.\n",
      "\n"
     ]
    },
    {
     "name": "stdout",
     "output_type": "stream",
     "text": [
      "num_vcf_hits PRE FILTER 4488\n",
      "num_vcf_hits POST FILTER 20\n",
      "background library hits that are asHiChIP 2221 0 0.0\n",
      "H9D28 not in hichip tissue mapper\n",
      "************\n",
      "H9_D0\n",
      "read vcf_files/hichip/H9_D0_postvqsr.vcf\n",
      "shape (46802, 12)\n",
      "num_vcf_hits PRE FILTER 46802\n",
      "num_vcf_hits POST FILTER 16948\n",
      "background library hits that are asHiChIP 2221 25 0.01125619090499775\n",
      "mpra sig library hits in tissue  105\n",
      "overlap: 2\n",
      "hypergeometric test between being asHiChIP and MPRA hit over backgroun of being in mpra_dataset 0.3326575244235887\n",
      "hypergeometric test between being asHiChIP and MPRA hit over backgroun of being in an ashichip 0.0014460550902870182\n",
      "hichip file /Users/mguo123/Documents/pan_omics_psych/data/interim/merged/anchors_bed_sort/H9_D0_diffloop_anchor.bed does not exist\n",
      "************\n",
      "SLC\n",
      "read vcf_files/hichip/SLC_postvqsr.vcf\n",
      "shape (42994, 12)\n",
      "num_vcf_hits PRE FILTER 42994\n",
      "num_vcf_hits POST FILTER 17688\n",
      "background library hits that are asHiChIP 2221 27 0.012156686177397569\n",
      "mpra sig library hits in tissue  335\n",
      "overlap: 5\n",
      "hypergeometric test between being asHiChIP and MPRA hit over backgroun of being in mpra_dataset 0.3859969334583386\n",
      "hypergeometric test between being asHiChIP and MPRA hit over backgroun of being in an ashichip 1.9547407030606264e-06\n",
      "hichip file /Users/mguo123/Documents/pan_omics_psych/data/interim/merged/anchors_bed_sort/SLC_D0_diffloop_anchor.bed does not exist\n",
      "************\n",
      "SL\n",
      "read vcf_files/hichip/SL_postvqsr.vcf\n",
      "shape (41382, 12)\n",
      "num_vcf_hits PRE FILTER 41382\n",
      "num_vcf_hits POST FILTER 14730\n",
      "background library hits that are asHiChIP 2221 20 0.009004952723998198\n",
      "mpra sig library hits in tissue  71\n",
      "overlap: 2\n",
      "hypergeometric test between being asHiChIP and MPRA hit over backgroun of being in mpra_dataset 0.132377111196052\n",
      "hypergeometric test between being asHiChIP and MPRA hit over backgroun of being in an ashichip 0.0005405197589069241\n",
      "hichip file /Users/mguo123/Documents/pan_omics_psych/data/interim/merged/anchors_bed_sort/SL_D0_diffloop_anchor.bed does not exist\n",
      "CPU times: user 17min 54s, sys: 1.54 s, total: 17min 56s\n",
      "Wall time: 17min 49s\n"
     ]
    }
   ],
   "source": [
    "%%time\n",
    "ashichip_lib_df = pd.DataFrame()\n",
    "vcf_df_all = pd.DataFrame()\n",
    "for vcf_file in sorted(vcf_files_hichip):\n",
    "    tissue = os.path.basename(vcf_file).split('_post')[0]\n",
    "    print('************')\n",
    "    print(tissue)\n",
    "    vcf_df = read_vcf(vcf_file)\n",
    "    vcf_df = pd.concat([vcf_df, vcf_df.apply(lambda x:preprocess_vcf(x,tissue),axis=1)], axis=1)\n",
    "    num_vcf_hits = vcf_df.shape[0]\n",
    "    print('num_vcf_hits PRE FILTER', num_vcf_hits)  \n",
    "    vcf_df = filter_vcf(vcf_df)\n",
    "    num_vcf_hits_postfilt = vcf_df.shape[0]\n",
    "    vcf_bed_df = vcf_df[['CHROM','POS','rowname']]\n",
    "    vcf_bed_df['stop'] = vcf_df.POS.map(int) + 1\n",
    "    vcf_bed_df = vcf_bed_df[['CHROM','POS','stop','rowname']]\n",
    "    vcf_bed_df.columns = ['chr','start','stop','name']\n",
    "    print('num_vcf_hits POST FILTER', num_vcf_hits_postfilt)      \n",
    "    vcf_df_all = pd.concat([vcf_df_all, vcf_df])\n",
    "\n",
    "    vcf_df_lib = vcf_df.merge(lib_df, how='inner',on='rowname')\n",
    "    lib_hits = vcf_df_lib.rowname.unique()\n",
    "    num_lib_hits = lib_hits.shape[0]\n",
    "    print('background library hits that are asHiChIP', num_lib_tested,num_lib_hits, num_lib_hits/ num_lib_tested)\n",
    "    \n",
    "    if tissue in mpra_tissue_mapper:\n",
    "        mpra_res_df_tissue = mpra_res_df[mpra_res_df.tissue==mpra_tissue_mapper[tissue]]\n",
    "        mpra_hits_tissue = mpra_res_df_tissue.rowname.unique()\n",
    "        num_mpra_hits_tissue= mpra_hits_tissue.shape[0]\n",
    "#         mpra_sig_df_lib = vcf_df.merge(mpra_res_df_tissue, how='inner',on='rowname')\n",
    "\n",
    "        num_mpra_ashichip_hits = len(set(lib_hits).intersection(set(mpra_hits_tissue)))\n",
    "        ashichip_lib_df_tissue=pd.DataFrame()\n",
    "        ashichip_lib_df_tissue['rowname'] = sorted(set(lib_hits).intersection(set(mpra_hits_tissue)))\n",
    "        ashichip_lib_df_tissue['tissue'] =  mpra_tissue_mapper[tissue]\n",
    "        ashichip_lib_df = pd.concat([ashichip_lib_df, ashichip_lib_df_tissue])\n",
    "        # do a hypergeometric test between being asHiChIP and being an mpra hit over a background of being in the mpra dataset\n",
    "    \n",
    "        print('mpra sig library hits in tissue ', num_mpra_hits_tissue)\n",
    "        print('overlap:', num_mpra_ashichip_hits)\n",
    "#         oddsratio, pvalue = stats.fisher_exact([[num_lib_hits, num_lib_tested- num_lib_hits],\n",
    "#                                                 [num_mpra_hits, num_mpra_sig_hits - num_mpra_hits]])\n",
    "#         print('fisher for mpra and as annotation association', pvalue, oddsratio)\n",
    "        phyper =  hypergeometric_test(num_mpra_ashichip_hits, num_lib_tested, num_mpra_hits_tissue, num_lib_hits)\n",
    "        #stats.hypergeom.cdf(num_mpra_ashichip_hits, num_lib_tested, num_lib_hits, num_mpra_hits)\n",
    "        print('hypergeometric test between being asHiChIP and MPRA hit over backgroun of being in mpra_dataset', phyper )\n",
    "        phyper =  hypergeometric_test(num_mpra_ashichip_hits, num_vcf_hits, num_mpra_hits_tissue, num_lib_hits)\n",
    "        print('hypergeometric test between being asHiChIP and MPRA hit over backgroun of being in an ashichip', phyper )\n",
    "    \n",
    "    ## filter through hichip\n",
    "    if  tissue not in hichip_tissue_mapper:\n",
    "        print(tissue,'not in hichip tissue mapper')\n",
    "        continue\n",
    "    hichip_tissue = hichip_tissue_mapper[tissue]\n",
    "    hichip_bed_file = os.path.join(hichip_peaks_dir, hichip_tissue+'_diffloop_anchor.bed')\n",
    "    if not os.path.exists(hichip_bed_file):\n",
    "        print('hichip file',hichip_bed_file, 'does not exist')\n",
    "        continue\n",
    "    hichip_bed = pybedtools.BedTool(hichip_bed_file).to_dataframe()\n",
    "    if type(hichip_bed['chrom'][0])==int:\n",
    "        hichip_bed['chrom'] = 'chr' + hichip_bed.chrom.map(str)\n",
    "        hichip_bed = pybedtools.BedTool.from_dataframe(hichip_bed)\n",
    "    else:\n",
    "        hichip_bed = pybedtools.BedTool(hichip_bed_file)\n",
    "        \n",
    "    vcf_bed_df_hichip = pybedtools.BedTool.from_dataframe(vcf_bed_df).intersect(hichip_bed).to_dataframe()\n",
    "    num_hichip_vcf = vcf_bed_df_hichip.name.unique().shape[0]\n",
    "    print('hichip filter', num_hichip_vcf, 'out of', vcf_bed_df.shape[0], 'allele-specific hichip', num_hichip_vcf/vcf_bed_df.shape[0])\n",
    "    lib_df_bed_hichip = lib_df_bed.intersect(hichip_bed).to_dataframe()\n",
    "    lib_hichip  = lib_df_bed_hichip.name.unique()\n",
    "    num_lib_hichip = lib_hichip.shape[0]\n",
    "    print('hichip filter', num_lib_hichip, 'out of', num_lib_tested, 'mpra alleles tested', num_lib_hichip/num_lib_tested)\n",
    "    mpra_hichip = lib_df_bed_hichip[lib_df_bed_hichip.name.isin(mpra_rownames_sig)].name.unique()\n",
    "    num_mpra_hichip = mpra_hichip.shape[0]\n",
    "    print('hichip filter', num_mpra_hichip, 'out of', num_mpra_sig_hits, 'mpra alleles sig',num_mpra_hichip/num_mpra_sig_hits)\n",
    "    \n",
    "    vcf_df_lib_hichip = vcf_bed_df_hichip.merge(lib_df, how='inner',left_on='name',right_on='rowname')\n",
    "    num_lib_hits_hichip = vcf_df_lib_hichip.rowname.unique().shape[0]\n",
    "    mpra_sig_df_lib_hichip = vcf_bed_df_hichip.merge(mpra_res_df, how='inner',left_on='name',right_on='rowname')\n",
    "    num_mpra_hits_hichip = mpra_sig_df_lib_hichip.rowname.unique().shape[0]\n",
    "    \n",
    "    print('background library hits-hichip filt', num_lib_hichip,num_lib_hits_hichip, num_lib_hits_hichip/ num_lib_hichip)\n",
    "    print('mpra sig library hits-hichip filt', num_mpra_hichip,num_mpra_hits_hichip, num_mpra_hits_hichip/ num_mpra_hichip)\n",
    "    if tissue in mpra_tissue_mapper:\n",
    "        mpra_hits_tissue_hichip = set(mpra_hits_tissue).intersection(set(lib_hichip))\n",
    "        num_mpra_hits_tissue_hichip= mpra_hits_tissue.shape[0]\n",
    "#         mpra_sig_df_lib = vcf_df.merge(mpra_res_df_tissue, how='inner',on='rowname')\n",
    "\n",
    "        num_mpra_ashichip_filthichip_hits = len(set(lib_hits).intersection(set(mpra_hits_tissue_hichip)))\n",
    "        # do a hypergeometric test between being asHiChIP and being an mpra hit over a background of being in the mpra dataset\n",
    "\n",
    "        print('mpra sig library hits in tissue hichip filt ', num_mpra_hits_tissue_hichip)\n",
    "        print('overlap hichip:', num_mpra_ashichip_filthichip_hits)\n",
    "#         oddsratio, pvalue = stats.fisher_exact([[num_lib_hits, num_lib_tested- num_lib_hits],\n",
    "#                                                 [num_mpra_hits, num_mpra_sig_hits - num_mpra_hits]])\n",
    "#         print('fisher for mpra and as annotation association', pvalue, oddsratio)\n",
    "        phyper =  hypergeometric_test(num_mpra_ashichip_filthichip_hits, num_hichip_vcf, num_mpra_hits_tissue_hichip, num_lib_hichip)\n",
    "        #stats.hypergeom.cdf(num_mpra_ashichip_hits, num_lib_tested, num_lib_hits, num_mpra_hits)\n",
    "        print('hypergeometric test between being asHiChIP and MPRA hit over backgroun of being ashichip', phyper )\n",
    "\n"
   ]
  },
  {
   "cell_type": "code",
   "execution_count": 64,
   "metadata": {},
   "outputs": [],
   "source": [
    "vcf_df_all.to_csv('vcf_files/vcf_df_filt_hichip_all.csv')"
   ]
  },
  {
   "cell_type": "code",
   "execution_count": 65,
   "metadata": {},
   "outputs": [],
   "source": [
    "ashichip_lib_df = ashichip_lib_df.sort_values('tissue').groupby('rowname').agg({'tissue':'|'.join}).reset_index()\n",
    "ashichip_lib_df.columns = ['rowname','tissue_ashichip']\n",
    "ashichip_lib_df['bool_is_ashichip'] = True\n",
    "ashichip_lib_df.to_csv('mpra_enrichment/lib_ashichip_annotation_post_filt.csv')"
   ]
  },
  {
   "cell_type": "code",
   "execution_count": 66,
   "metadata": {},
   "outputs": [
    {
     "data": {
      "text/html": [
       "<div>\n",
       "<style scoped>\n",
       "    .dataframe tbody tr th:only-of-type {\n",
       "        vertical-align: middle;\n",
       "    }\n",
       "\n",
       "    .dataframe tbody tr th {\n",
       "        vertical-align: top;\n",
       "    }\n",
       "\n",
       "    .dataframe thead th {\n",
       "        text-align: right;\n",
       "    }\n",
       "</style>\n",
       "<table border=\"1\" class=\"dataframe\">\n",
       "  <thead>\n",
       "    <tr style=\"text-align: right;\">\n",
       "      <th></th>\n",
       "      <th>rowname</th>\n",
       "      <th>tissue_ashichip</th>\n",
       "      <th>bool_is_ashichip</th>\n",
       "    </tr>\n",
       "  </thead>\n",
       "  <tbody>\n",
       "    <tr>\n",
       "      <td>0</td>\n",
       "      <td>chr3_52279594</td>\n",
       "      <td>AST1</td>\n",
       "      <td>True</td>\n",
       "    </tr>\n",
       "    <tr>\n",
       "      <td>1</td>\n",
       "      <td>chr4_74864687</td>\n",
       "      <td>SLC</td>\n",
       "      <td>True</td>\n",
       "    </tr>\n",
       "    <tr>\n",
       "      <td>2</td>\n",
       "      <td>chr6_149403469</td>\n",
       "      <td>SLC</td>\n",
       "      <td>True</td>\n",
       "    </tr>\n",
       "    <tr>\n",
       "      <td>3</td>\n",
       "      <td>chr6_27446446</td>\n",
       "      <td>H9D0|SLC</td>\n",
       "      <td>True</td>\n",
       "    </tr>\n",
       "    <tr>\n",
       "      <td>4</td>\n",
       "      <td>chr8_18413457</td>\n",
       "      <td>SL|SLC</td>\n",
       "      <td>True</td>\n",
       "    </tr>\n",
       "    <tr>\n",
       "      <td>5</td>\n",
       "      <td>chr9_121358237</td>\n",
       "      <td>H9D0|SL|SLC</td>\n",
       "      <td>True</td>\n",
       "    </tr>\n",
       "  </tbody>\n",
       "</table>\n",
       "</div>"
      ],
      "text/plain": [
       "          rowname tissue_ashichip  bool_is_ashichip\n",
       "0   chr3_52279594            AST1              True\n",
       "1   chr4_74864687             SLC              True\n",
       "2  chr6_149403469             SLC              True\n",
       "3   chr6_27446446        H9D0|SLC              True\n",
       "4   chr8_18413457          SL|SLC              True\n",
       "5  chr9_121358237     H9D0|SL|SLC              True"
      ]
     },
     "execution_count": 66,
     "metadata": {},
     "output_type": "execute_result"
    }
   ],
   "source": [
    "ashichip_lib_df"
   ]
  },
  {
   "cell_type": "code",
   "execution_count": null,
   "metadata": {},
   "outputs": [],
   "source": []
  },
  {
   "cell_type": "code",
   "execution_count": null,
   "metadata": {},
   "outputs": [],
   "source": []
  }
 ],
 "metadata": {
  "kernelspec": {
   "display_name": "Python 3",
   "language": "python",
   "name": "python3"
  },
  "language_info": {
   "codemirror_mode": {
    "name": "ipython",
    "version": 3
   },
   "file_extension": ".py",
   "mimetype": "text/x-python",
   "name": "python",
   "nbconvert_exporter": "python",
   "pygments_lexer": "ipython3",
   "version": "3.7.4"
  }
 },
 "nbformat": 4,
 "nbformat_minor": 4
}
