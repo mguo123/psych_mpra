{
 "cells": [
  {
   "cell_type": "markdown",
   "metadata": {},
   "source": [
    "# get cgenes\n",
    "\n",
    "07/20/2020\n",
    "\n",
    "modified 12/10/2020"
   ]
  },
  {
   "cell_type": "code",
   "execution_count": 1,
   "metadata": {},
   "outputs": [],
   "source": [
    "import os, glob\n",
    "import pybedtools\n",
    "import subprocess\n",
    "from collections import Counter\n",
    "import matplotlib.pyplot as plt\n",
    "import seaborn as sns\n",
    "import pandas as pd"
   ]
  },
  {
   "cell_type": "code",
   "execution_count": 2,
   "metadata": {},
   "outputs": [],
   "source": [
    "save_dir = 'D_mpraanalyze_barcode_allelic/cgene'\n",
    "if not os.path.exists(save_dir):\n",
    "    os.makedirs(save_dir)"
   ]
  },
  {
   "cell_type": "code",
   "execution_count": 3,
   "metadata": {},
   "outputs": [
    {
     "name": "stdout",
     "output_type": "stream",
     "text": [
      "(4440, 4)\n"
     ]
    },
    {
     "name": "stderr",
     "output_type": "stream",
     "text": [
      "/Users/mguo123/opt/anaconda3/lib/python3.7/site-packages/IPython/core/interactiveshell.py:3058: DtypeWarning: Columns (63,65) have mixed types. Specify dtype option on import or set low_memory=False.\n",
      "  interactivity=interactivity, compiler=compiler, result=result)\n",
      "/Users/mguo123/opt/anaconda3/lib/python3.7/site-packages/ipykernel_launcher.py:5: SettingWithCopyWarning: \n",
      "A value is trying to be set on a copy of a slice from a DataFrame.\n",
      "Try using .loc[row_indexer,col_indexer] = value instead\n",
      "\n",
      "See the caveats in the documentation: http://pandas.pydata.org/pandas-docs/stable/user_guide/indexing.html#returning-a-view-versus-a-copy\n",
      "  \"\"\"\n"
     ]
    }
   ],
   "source": [
    "snp_list_file = '../../psych_lib_info.csv'\n",
    "snp_list_df = pd.read_csv(snp_list_file,index_col=0)\n",
    "snp_list_bed_df = snp_list_df[['Chr','Position','name']]\n",
    "snp_list_bed_df.columns = ['chr', 'start', 'name']\n",
    "snp_list_bed_df['stop'] = snp_list_bed_df.start + 1\n",
    "snp_list_bed_df  = snp_list_bed_df[['chr','start', 'stop','name']]\n",
    "print(snp_list_bed_df.shape)\n",
    "snp_list_bed_df[:5]\n",
    "snp_list_bed = pybedtools.BedTool.from_dataframe(snp_list_bed_df).sort()"
   ]
  },
  {
   "cell_type": "code",
   "execution_count": 4,
   "metadata": {},
   "outputs": [
    {
     "data": {
      "text/plain": [
       "['SL_D2_sort.bed',\n",
       " 'SLC_D2_sort.bed',\n",
       " 'H9_D28_sort.bed',\n",
       " 'H9_D10_sort.bed',\n",
       " 'H9_D2_sort.bed',\n",
       " 'Astrocytes_sort.bed',\n",
       " 'SL_D0_sort.bed',\n",
       " 'SLC_D0_sort.bed',\n",
       " 'H9_D0_sort.bed']"
      ]
     },
     "execution_count": 4,
     "metadata": {},
     "output_type": "execute_result"
    }
   ],
   "source": [
    "anchors_dir = '/Users/mguo123/Documents/pan_omics_psych/data/interim/merged/anchors_bed_sort/'\n",
    "os.listdir(anchors_dir)"
   ]
  },
  {
   "cell_type": "code",
   "execution_count": 5,
   "metadata": {},
   "outputs": [],
   "source": [
    "loop_dir = '/Users/mguo123/Documents/pan_omics_psych/data/interim/merged/loops'\n",
    "os.listdir(loop_dir)\n",
    "def make_loop_df(loop_file):\n",
    "    \"\"\"\n",
    "    from hichip_df make hichip df that's bidirectionary target <-> source\n",
    "\n",
    "\n",
    "    Arguments\n",
    "        loop_file : <str> like '../data/interim/merged/loops/GDSD3.loops.csv'\n",
    "\n",
    "    return: loop_df_bi <DataFrame> with colummns ['target','source','count']\n",
    "\n",
    "    \"\"\"\n",
    "    # loop_file = '../data/interim/merged/loops/GDSD3.loops.csv'\n",
    "    loop_df = pd.read_csv(loop_file,index_col=0)\n",
    "    loop_df_rev = loop_df.copy()\n",
    "    loop_df_rev.columns = ['target','source','count']\n",
    "    loop_df_bi = pd.concat([loop_df, loop_df_rev],sort=False)\n",
    "    return loop_df_bi"
   ]
  },
  {
   "cell_type": "code",
   "execution_count": 7,
   "metadata": {},
   "outputs": [],
   "source": [
    "save_prefix = 'D_mpraanalyze_barcode_allelic/cgenes_'"
   ]
  },
  {
   "cell_type": "code",
   "execution_count": 8,
   "metadata": {},
   "outputs": [
    {
     "data": {
      "text/plain": [
       "['D_mpraanalyze_barcode_allelic/mpraanalyze_SL_comp_filt.csv',\n",
       " 'D_mpraanalyze_barcode_allelic/mpraanalyze_H9D2_comp_filt.csv',\n",
       " 'D_mpraanalyze_barcode_allelic/mpraanalyze_H9D10_comp_filt.csv',\n",
       " 'D_mpraanalyze_barcode_allelic/mpraanalyze_HEK293_comp_filt.csv',\n",
       " 'D_mpraanalyze_barcode_allelic/mpraanalyze_AST1_comp_filt.csv',\n",
       " 'D_mpraanalyze_barcode_allelic/mpraanalyze_H9D4_comp_filt.csv',\n",
       " 'D_mpraanalyze_barcode_allelic/mpraanalyze_H9D0_comp_filt.csv',\n",
       " 'D_mpraanalyze_barcode_allelic/mpraanalyze_SLC_comp_filt.csv']"
      ]
     },
     "execution_count": 8,
     "metadata": {},
     "output_type": "execute_result"
    }
   ],
   "source": [
    "glob.glob('D_mpraanalyze_barcode_allelic/mpraanalyze*comp_filt.csv')"
   ]
  },
  {
   "cell_type": "code",
   "execution_count": 9,
   "metadata": {},
   "outputs": [],
   "source": [
    "tissue_mapping = {'Astrocytes':'AST1',\n",
    "    'H9_D0':'H9D0','H9_D2':'H9D2','H9_D4':'H9D4','H9_D10':'H9D10',\n",
    "    'SL':'SL','SLC':'SLC'\n",
    "}"
   ]
  },
  {
   "cell_type": "markdown",
   "metadata": {},
   "source": [
    "### annotate tissue anchors with snps"
   ]
  },
  {
   "cell_type": "code",
   "execution_count": 10,
   "metadata": {},
   "outputs": [
    {
     "name": "stdout",
     "output_type": "stream",
     "text": [
      "SL_D2 D_mpraanalyze_barcode_allelic/cgene/SL_D2_snp_anchor_annon.bed\n",
      "SLC_D2 D_mpraanalyze_barcode_allelic/cgene/SLC_D2_snp_anchor_annon.bed\n",
      "H9_D28 D_mpraanalyze_barcode_allelic/cgene/H9_D28_snp_anchor_annon.bed\n",
      "H9_D10 D_mpraanalyze_barcode_allelic/cgene/H9_D10_snp_anchor_annon.bed\n",
      "H9_D2 D_mpraanalyze_barcode_allelic/cgene/H9_D2_snp_anchor_annon.bed\n",
      "Astrocytes D_mpraanalyze_barcode_allelic/cgene/Astrocytes_snp_anchor_annon.bed\n",
      "SL_D0 D_mpraanalyze_barcode_allelic/cgene/SL_D0_snp_anchor_annon.bed\n",
      "SLC_D0 D_mpraanalyze_barcode_allelic/cgene/SLC_D0_snp_anchor_annon.bed\n",
      "H9_D0 D_mpraanalyze_barcode_allelic/cgene/H9_D0_snp_anchor_annon.bed\n"
     ]
    }
   ],
   "source": [
    "for file in os.listdir(anchors_dir):\n",
    "    tissue = file.split('_sort')[0]\n",
    "    output_bedfile = os.path.join(save_dir, tissue + '_snp_anchor_annon.bed')\n",
    "    print(tissue, output_bedfile)\n",
    "    db_bed = pybedtools.BedTool(os.path.join(anchors_dir, tissue+'_sort.bed'))\n",
    "    output_bed = snp_list_bed.intersect(db_bed, wo=True, sorted=True, names='db')\n",
    "    output_bed.saveas(output_bedfile)\n",
    "    output_bed.to_dataframe()"
   ]
  },
  {
   "cell_type": "markdown",
   "metadata": {},
   "source": [
    "# 1. closer look at egenes"
   ]
  },
  {
   "cell_type": "code",
   "execution_count": 11,
   "metadata": {},
   "outputs": [
    {
     "data": {
      "text/plain": [
       "(133, 151)"
      ]
     },
     "execution_count": 11,
     "metadata": {},
     "output_type": "execute_result"
    }
   ],
   "source": [
    "tissue = 'AST1'\n",
    "mpraanalyze_file = 'mpraanalyze_'+tissue+'_comp_filt.csv'\n",
    "mpra_df = pd.read_csv(mpraanalyze_file,index_col=0)\n",
    "mpra_df.shape"
   ]
  },
  {
   "cell_type": "code",
   "execution_count": 12,
   "metadata": {},
   "outputs": [
    {
     "data": {
      "text/plain": [
       "Text(0.5, 1.0, 'Fraction coming from each disease: AST1')"
      ]
     },
     "execution_count": 12,
     "metadata": {},
     "output_type": "execute_result"
    },
    {
     "data": {
      "image/png": "[encoded data removed]",
      "text/plain": [
       "<Figure size 432x288 with 1 Axes>"
      ]
     },
     "metadata": {
      "needs_background": "light"
     },
     "output_type": "display_data"
    }
   ],
   "source": [
    "fig = plt.figure()\n",
    "pd.Series(mpra_df[['schizo',\n",
    "       'depress', 'bipolar', 'anxiety', 'attent', 'personality', 'panic',\n",
    "       'traum', 'autism', 'ocd']].sum(axis=0)/snp_list_df[['schizo',\n",
    "       'depress', 'bipolar', 'anxiety', 'attent', 'personality', 'panic',\n",
    "       'traum', 'autism', 'ocd']].sum(axis=0)).plot.bar()\n",
    "plt.title('Fraction coming from each disease: '+tissue)"
   ]
  },
  {
   "cell_type": "code",
   "execution_count": null,
   "metadata": {},
   "outputs": [],
   "source": []
  },
  {
   "cell_type": "code",
   "execution_count": 14,
   "metadata": {},
   "outputs": [
    {
     "data": {
      "image/png": "[encoded data removed]",
      "text/plain": [
       "<Figure size 432x288 with 1 Axes>"
      ]
     },
     "metadata": {
      "needs_background": "light"
     },
     "output_type": "display_data"
    },
    {
     "data": {
      "image/png": "[encoded data removed]",
      "text/plain": [
       "<Figure size 432x288 with 1 Axes>"
      ]
     },
     "metadata": {
      "needs_background": "light"
     },
     "output_type": "display_data"
    },
    {
     "data": {
      "image/png": "[encoded data removed]",
      "text/plain": [
       "<Figure size 432x288 with 1 Axes>"
      ]
     },
     "metadata": {
      "needs_background": "light"
     },
     "output_type": "display_data"
    },
    {
     "data": {
      "image/png": "[encoded data removed]",
      "text/plain": [
       "<Figure size 432x288 with 1 Axes>"
      ]
     },
     "metadata": {
      "needs_background": "light"
     },
     "output_type": "display_data"
    },
    {
     "data": {
      "image/png": "[encoded data removed]",
      "text/plain": [
       "<Figure size 432x288 with 1 Axes>"
      ]
     },
     "metadata": {
      "needs_background": "light"
     },
     "output_type": "display_data"
    },
    {
     "data": {
      "image/png": "[encoded data removed]",
      "text/plain": [
       "<Figure size 432x288 with 1 Axes>"
      ]
     },
     "metadata": {
      "needs_background": "light"
     },
     "output_type": "display_data"
    },
    {
     "data": {
      "image/png": "[encoded data removed]",
      "text/plain": [
       "<Figure size 432x288 with 1 Axes>"
      ]
     },
     "metadata": {
      "needs_background": "light"
     },
     "output_type": "display_data"
    }
   ],
   "source": [
    "tissue_egene = {}\n",
    "gene_df_all = pd.DataFrame()\n",
    "for tissue in tissue_mapping.values():\n",
    "    mpraanalyze_file = 'D_mpraanalyze_barcode_allelic/mpraanalyze_'+tissue+'_comp_filt.csv'\n",
    "    mpra_df = pd.read_csv(mpraanalyze_file,index_col=0)\n",
    "    gene_df = pd.DataFrame({'gene':mpra_df.GeneName.dropna().unique()})\n",
    "    gene_df['tissue'] = tissue\n",
    "    gene_df['present'] = 1\n",
    "    gene_df_all = pd.concat([gene_df_all, gene_df],axis=0)\n",
    "    fig = plt.figure()\n",
    "    pd.Series(mpra_df[['schizo',\n",
    "           'depress', 'bipolar', 'anxiety', 'attent', 'personality', 'panic',\n",
    "           'traum', 'autism', 'ocd']].sum(axis=0)/snp_list_df[['schizo',\n",
    "           'depress', 'bipolar', 'anxiety', 'attent', 'personality', 'panic',\n",
    "           'traum', 'autism', 'ocd']].sum(axis=0)).plot.bar()\n",
    "    plt.title('Fraction coming from each disease: '+tissue)"
   ]
  },
  {
   "cell_type": "code",
   "execution_count": 15,
   "metadata": {},
   "outputs": [],
   "source": [
    "gene_df_all.pivot('gene','tissue','present').fillna(0).to_csv('egene_by_tissue_mat.csv')"
   ]
  },
  {
   "cell_type": "code",
   "execution_count": 16,
   "metadata": {},
   "outputs": [
    {
     "data": {
      "text/plain": [
       "{'pval': 0.9848479964495822,\n",
       " 'fdr': 1.0,\n",
       " 'motifEScoreChng': 0.7944829031217108,\n",
       " 'cDNApos': 0.3299115648773254,\n",
       " 'CDSpos': 0.3368035285532249,\n",
       " 'protPos': 0.33693043228399966,\n",
       " 'Dst2Splice': 0.2915213911222686,\n",
       " 'GerpRSpval': 0.28689859938041135,\n",
       " 'dbscSNV.ada_score': 0.9999999999999998}"
      ]
     },
     "execution_count": 16,
     "metadata": {},
     "output_type": "execute_result"
    }
   ],
   "source": [
    "dict(mpra_df.corr().loc['fdr',][mpra_df.corr().loc['fdr',]>.2])"
   ]
  },
  {
   "cell_type": "code",
   "execution_count": 17,
   "metadata": {},
   "outputs": [
    {
     "data": {
      "text/plain": [
       "<matplotlib.axes._subplots.AxesSubplot at 0x7fa91016ce10>"
      ]
     },
     "execution_count": 17,
     "metadata": {},
     "output_type": "execute_result"
    },
    {
     "data": {
      "image/png": "[encoded data removed]",
      "text/plain": [
       "<Figure size 432x288 with 1 Axes>"
      ]
     },
     "metadata": {
      "needs_background": "light"
     },
     "output_type": "display_data"
    }
   ],
   "source": [
    "sns.scatterplot(data = mpra_df, x= 'logFC', y='PHRED')"
   ]
  },
  {
   "cell_type": "markdown",
   "metadata": {},
   "source": [
    "# 2. create snp - to anchor gene link"
   ]
  },
  {
   "cell_type": "code",
   "execution_count": 18,
   "metadata": {},
   "outputs": [
    {
     "data": {
      "text/plain": [
       "['/Users/mguo123/Documents/pan_omics_psych/data/interim/annon/promoter_anchors/promoter_H9_D2_annon.bed',\n",
       " '/Users/mguo123/Documents/pan_omics_psych/data/interim/annon/promoter_anchors/promoter_Astrocytes_annon.bed',\n",
       " '/Users/mguo123/Documents/pan_omics_psych/data/interim/annon/promoter_anchors/promoter_H9_D10_annon.bed',\n",
       " '/Users/mguo123/Documents/pan_omics_psych/data/interim/annon/promoter_anchors/promoter_H9_D28_annon.bed',\n",
       " '/Users/mguo123/Documents/pan_omics_psych/data/interim/annon/promoter_anchors/promoter_SLC_D0_annon.bed',\n",
       " '/Users/mguo123/Documents/pan_omics_psych/data/interim/annon/promoter_anchors/promoter_SL_D0_annon.bed',\n",
       " '/Users/mguo123/Documents/pan_omics_psych/data/interim/annon/promoter_anchors/promoter_H9_D0_annon.bed',\n",
       " '/Users/mguo123/Documents/pan_omics_psych/data/interim/annon/promoter_anchors/promoter_SLC_D2_annon.bed',\n",
       " '/Users/mguo123/Documents/pan_omics_psych/data/interim/annon/promoter_anchors/promoter_SL_D2_annon.bed']"
      ]
     },
     "execution_count": 18,
     "metadata": {},
     "output_type": "execute_result"
    }
   ],
   "source": [
    "glob.glob('/Users/mguo123/Documents/pan_omics_psych/data/interim/annon/promoter_anchors/*')"
   ]
  },
  {
   "cell_type": "code",
   "execution_count": 47,
   "metadata": {},
   "outputs": [
    {
     "name": "stdout",
     "output_type": "stream",
     "text": [
      "Astrocytes\n",
      "H9_D0\n",
      "H9_D10\n",
      "H9_D28\n",
      "H9_D2\n",
      "SLC_D0\n",
      "SLC_D2\n",
      "SL_D0\n",
      "SL_D2\n"
     ]
    }
   ],
   "source": [
    "tissues = []\n",
    "for anchor_promoter_file in sorted(glob.glob('/Users/mguo123/Documents/pan_omics_psych/data/interim/annon/promoter_anchors/*')):\n",
    "    tissue = os.path.basename(anchor_promoter_file).split('promoter_')[-1].split('_annon')[0]\n",
    "    print(tissue)\n",
    "    tissues.append(tissue)"
   ]
  },
  {
   "cell_type": "markdown",
   "metadata": {},
   "source": [
    "#### example"
   ]
  },
  {
   "cell_type": "code",
   "execution_count": 19,
   "metadata": {},
   "outputs": [],
   "source": [
    "anchor_promoter_file = '/Users/mguo123/Documents/pan_omics_psych/data/interim/annon/promoter_anchors/promoter_H9_D2_annon.bed'\n",
    "tissue = os.path.basename(anchor_promoter_file).split('promoter_')[-1].split('_annon')[0]\n",
    "anchor_promoter_annon_df =  pybedtools.BedTool(anchor_promoter_file).to_dataframe()\n",
    "anchor_promoter_annon_df.columns = ['chr_p','start_p','stop_p','TSS','chr_f','start_f','stop_f','anchor','overlap']\n",
    "\n",
    "anchor_annon_df_filt = anchor_promoter_annon_df.sort_values('overlap', ascending=False).drop_duplicates(['TSS','anchor']).sort_index()\n",
    "anchor_annon_df_filt = anchor_annon_df_filt[['anchor','TSS']]"
   ]
  },
  {
   "cell_type": "code",
   "execution_count": 20,
   "metadata": {},
   "outputs": [],
   "source": [
    "snp_annon_file = os.path.join(save_dir,tissue + '_snp_anchor_annon.bed')\n",
    "snp_annon_df =  pybedtools.BedTool(snp_annon_file).to_dataframe()\n",
    "snp_annon_df = snp_annon_df[['thickEnd', 'name']]\n",
    "snp_annon_df.columns = ['p_loc', 'name']"
   ]
  },
  {
   "cell_type": "code",
   "execution_count": 21,
   "metadata": {},
   "outputs": [],
   "source": [
    "snp_df_anchor = snp_annon_df.merge(anchor_annon_df_filt,how='inner', left_on='p_loc',right_on='anchor')\n",
    "# snp_df_anchor = get_foot_counts(snp_df_anchor)"
   ]
  },
  {
   "cell_type": "code",
   "execution_count": 22,
   "metadata": {},
   "outputs": [],
   "source": [
    "# snp_df_anchor.groupby('snpname').agg()"
   ]
  },
  {
   "cell_type": "code",
   "execution_count": 23,
   "metadata": {},
   "outputs": [
    {
     "name": "stderr",
     "output_type": "stream",
     "text": [
      "/Users/mguo123/opt/anaconda3/lib/python3.7/site-packages/numpy/lib/arraysetops.py:568: FutureWarning: elementwise comparison failed; returning scalar instead, but in the future will perform elementwise comparison\n",
      "  mask |= (ar1 == a)\n"
     ]
    }
   ],
   "source": [
    "loop_file = os.path.join(loop_dir, tissue+'.loops.csv')\n",
    "# read in loops, then \"annotate\" the source TSS regions the loop anchors\n",
    "loop_df_bi = make_loop_df(loop_file)\n",
    "loop_df_bi = loop_df_bi.merge(anchor_annon_df_filt,how='inner',left_on='source',right_on='anchor' )\n"
   ]
  },
  {
   "cell_type": "code",
   "execution_count": 24,
   "metadata": {},
   "outputs": [],
   "source": [
    "# get footprints of the \"annotated-with-TSS\" looped regions, then make the counts DataFrame\n",
    "snp_df_loop = snp_annon_df.merge(loop_df_bi,how='inner', left_on='p_loc',right_on='target')\n",
    "# foot_count_loop = get_foot_counts(foot_df_loop)\n"
   ]
  },
  {
   "cell_type": "code",
   "execution_count": 42,
   "metadata": {},
   "outputs": [
    {
     "data": {
      "text/html": [
       "<div>\n",
       "<style scoped>\n",
       "    .dataframe tbody tr th:only-of-type {\n",
       "        vertical-align: middle;\n",
       "    }\n",
       "\n",
       "    .dataframe tbody tr th {\n",
       "        vertical-align: top;\n",
       "    }\n",
       "\n",
       "    .dataframe thead th {\n",
       "        text-align: right;\n",
       "    }\n",
       "</style>\n",
       "<table border=\"1\" class=\"dataframe\">\n",
       "  <thead>\n",
       "    <tr style=\"text-align: right;\">\n",
       "      <th></th>\n",
       "      <th>name</th>\n",
       "      <th>cgenes_anchor</th>\n",
       "      <th>cgene_count_anchor</th>\n",
       "      <th>cgenes_loop</th>\n",
       "      <th>cgene_count_loop</th>\n",
       "    </tr>\n",
       "  </thead>\n",
       "  <tbody>\n",
       "    <tr>\n",
       "      <td>0</td>\n",
       "      <td>chr1.11712109.Ref.C</td>\n",
       "      <td>FBXO2|FBXO6</td>\n",
       "      <td>2.0</td>\n",
       "      <td>UBE4B|APITD1|APITD1-CORT|APITD1|APITD1-CORT|CO...</td>\n",
       "      <td>60</td>\n",
       "    </tr>\n",
       "    <tr>\n",
       "      <td>1</td>\n",
       "      <td>chr1.11712109.all_alt.T</td>\n",
       "      <td>FBXO2|FBXO6</td>\n",
       "      <td>2.0</td>\n",
       "      <td>UBE4B|APITD1|APITD1-CORT|APITD1|APITD1-CORT|CO...</td>\n",
       "      <td>60</td>\n",
       "    </tr>\n",
       "    <tr>\n",
       "      <td>2</td>\n",
       "      <td>chr1.11850365.Ref.T</td>\n",
       "      <td>CLCN6|MTHFR</td>\n",
       "      <td>2.0</td>\n",
       "      <td>UBE4B|C1orf127|MASP2|SRM|EXOSC10|ANGPTL7|MTOR|...</td>\n",
       "      <td>51</td>\n",
       "    </tr>\n",
       "    <tr>\n",
       "      <td>3</td>\n",
       "      <td>chr1.11850365.all_alt.G</td>\n",
       "      <td>CLCN6|MTHFR</td>\n",
       "      <td>2.0</td>\n",
       "      <td>UBE4B|C1orf127|MASP2|SRM|EXOSC10|ANGPTL7|MTOR|...</td>\n",
       "      <td>51</td>\n",
       "    </tr>\n",
       "    <tr>\n",
       "      <td>4</td>\n",
       "      <td>chr1.11850927.Ref.C</td>\n",
       "      <td>CLCN6|MTHFR</td>\n",
       "      <td>2.0</td>\n",
       "      <td>UBE4B|C1orf127|MASP2|SRM|EXOSC10|ANGPTL7|MTOR|...</td>\n",
       "      <td>51</td>\n",
       "    </tr>\n",
       "    <tr>\n",
       "      <td>...</td>\n",
       "      <td>...</td>\n",
       "      <td>...</td>\n",
       "      <td>...</td>\n",
       "      <td>...</td>\n",
       "      <td>...</td>\n",
       "    </tr>\n",
       "    <tr>\n",
       "      <td>3805</td>\n",
       "      <td>chr9.82310898.all_alt.A</td>\n",
       "      <td></td>\n",
       "      <td>0.0</td>\n",
       "      <td>GNAQ|GNAQ|CEP78|CEP78|PSAT1|TLE4|TLE4</td>\n",
       "      <td>7</td>\n",
       "    </tr>\n",
       "    <tr>\n",
       "      <td>3806</td>\n",
       "      <td>chr9.94251806.Ref.G</td>\n",
       "      <td></td>\n",
       "      <td>0.0</td>\n",
       "      <td>DIRAS2|SYK|AUH|NFIL3|NFIL3|ROR2|SPTLC1|IARS|IA...</td>\n",
       "      <td>25</td>\n",
       "    </tr>\n",
       "    <tr>\n",
       "      <td>3807</td>\n",
       "      <td>chr9.94251806.all_alt.A</td>\n",
       "      <td></td>\n",
       "      <td>0.0</td>\n",
       "      <td>DIRAS2|SYK|AUH|NFIL3|NFIL3|ROR2|SPTLC1|IARS|IA...</td>\n",
       "      <td>25</td>\n",
       "    </tr>\n",
       "    <tr>\n",
       "      <td>3808</td>\n",
       "      <td>chr9.94877836.Ref.A</td>\n",
       "      <td></td>\n",
       "      <td>0.0</td>\n",
       "      <td>AUH|NFIL3|ROR2|SPTLC1|IARS|IARS|CENPP|NOL8|OGN...</td>\n",
       "      <td>18</td>\n",
       "    </tr>\n",
       "    <tr>\n",
       "      <td>3809</td>\n",
       "      <td>chr9.94877836.all_alt.G</td>\n",
       "      <td></td>\n",
       "      <td>0.0</td>\n",
       "      <td>AUH|NFIL3|ROR2|SPTLC1|IARS|IARS|CENPP|NOL8|OGN...</td>\n",
       "      <td>18</td>\n",
       "    </tr>\n",
       "  </tbody>\n",
       "</table>\n",
       "<p>3810 rows × 5 columns</p>\n",
       "</div>"
      ],
      "text/plain": [
       "                         name cgenes_anchor  cgene_count_anchor  \\\n",
       "0         chr1.11712109.Ref.C   FBXO2|FBXO6                 2.0   \n",
       "1     chr1.11712109.all_alt.T   FBXO2|FBXO6                 2.0   \n",
       "2         chr1.11850365.Ref.T   CLCN6|MTHFR                 2.0   \n",
       "3     chr1.11850365.all_alt.G   CLCN6|MTHFR                 2.0   \n",
       "4         chr1.11850927.Ref.C   CLCN6|MTHFR                 2.0   \n",
       "...                       ...           ...                 ...   \n",
       "3805  chr9.82310898.all_alt.A                               0.0   \n",
       "3806      chr9.94251806.Ref.G                               0.0   \n",
       "3807  chr9.94251806.all_alt.A                               0.0   \n",
       "3808      chr9.94877836.Ref.A                               0.0   \n",
       "3809  chr9.94877836.all_alt.G                               0.0   \n",
       "\n",
       "                                            cgenes_loop  cgene_count_loop  \n",
       "0     UBE4B|APITD1|APITD1-CORT|APITD1|APITD1-CORT|CO...                60  \n",
       "1     UBE4B|APITD1|APITD1-CORT|APITD1|APITD1-CORT|CO...                60  \n",
       "2     UBE4B|C1orf127|MASP2|SRM|EXOSC10|ANGPTL7|MTOR|...                51  \n",
       "3     UBE4B|C1orf127|MASP2|SRM|EXOSC10|ANGPTL7|MTOR|...                51  \n",
       "4     UBE4B|C1orf127|MASP2|SRM|EXOSC10|ANGPTL7|MTOR|...                51  \n",
       "...                                                 ...               ...  \n",
       "3805              GNAQ|GNAQ|CEP78|CEP78|PSAT1|TLE4|TLE4                 7  \n",
       "3806  DIRAS2|SYK|AUH|NFIL3|NFIL3|ROR2|SPTLC1|IARS|IA...                25  \n",
       "3807  DIRAS2|SYK|AUH|NFIL3|NFIL3|ROR2|SPTLC1|IARS|IA...                25  \n",
       "3808  AUH|NFIL3|ROR2|SPTLC1|IARS|IARS|CENPP|NOL8|OGN...                18  \n",
       "3809  AUH|NFIL3|ROR2|SPTLC1|IARS|IARS|CENPP|NOL8|OGN...                18  \n",
       "\n",
       "[3810 rows x 5 columns]"
      ]
     },
     "execution_count": 42,
     "metadata": {},
     "output_type": "execute_result"
    }
   ],
   "source": [
    "snp_anchor_info = snp_df_anchor.groupby('name').agg({'TSS':[lambda x: '|'.join(x), 'count']})\n",
    "snp_anchor_info.columns = ['cgenes_anchor', 'cgene_count_anchor']\n",
    "snp_anchor_info.reset_index(inplace=True)\n",
    "snp_loop_info = snp_df_loop.groupby('name').agg({'TSS':[lambda x: '|'.join(x), 'count']})\n",
    "snp_loop_info.columns = ['cgenes_loop', 'cgene_count_loop']\n",
    "snp_loop_info.reset_index(inplace=True)\n",
    "snp_info_tissue = snp_anchor_info.merge(snp_loop_info, how='outer',on='name')\n",
    "snp_info_tissue.cgenes_anchor.fillna('',inplace=True)\n",
    "snp_info_tissue.cgene_count_anchor.fillna(0,inplace=True)\n",
    "snp_info_tissue.cgenes_loop.fillna('',inplace=True)\n",
    "snp_info_tissue.cgene_count_loop.fillna(0,inplace=True)\n",
    "snp_info_tissue"
   ]
  },
  {
   "cell_type": "code",
   "execution_count": 43,
   "metadata": {},
   "outputs": [
    {
     "data": {
      "text/html": [
       "<div>\n",
       "<style scoped>\n",
       "    .dataframe tbody tr th:only-of-type {\n",
       "        vertical-align: middle;\n",
       "    }\n",
       "\n",
       "    .dataframe tbody tr th {\n",
       "        vertical-align: top;\n",
       "    }\n",
       "\n",
       "    .dataframe thead th {\n",
       "        text-align: right;\n",
       "    }\n",
       "</style>\n",
       "<table border=\"1\" class=\"dataframe\">\n",
       "  <thead>\n",
       "    <tr style=\"text-align: right;\">\n",
       "      <th></th>\n",
       "      <th>cgene_count_anchor</th>\n",
       "      <th>cgene_count_loop</th>\n",
       "    </tr>\n",
       "  </thead>\n",
       "  <tbody>\n",
       "    <tr>\n",
       "      <td>count</td>\n",
       "      <td>3810.000000</td>\n",
       "      <td>3810.000000</td>\n",
       "    </tr>\n",
       "    <tr>\n",
       "      <td>mean</td>\n",
       "      <td>0.267717</td>\n",
       "      <td>39.601575</td>\n",
       "    </tr>\n",
       "    <tr>\n",
       "      <td>std</td>\n",
       "      <td>0.620582</td>\n",
       "      <td>42.729433</td>\n",
       "    </tr>\n",
       "    <tr>\n",
       "      <td>min</td>\n",
       "      <td>0.000000</td>\n",
       "      <td>1.000000</td>\n",
       "    </tr>\n",
       "    <tr>\n",
       "      <td>25%</td>\n",
       "      <td>0.000000</td>\n",
       "      <td>13.000000</td>\n",
       "    </tr>\n",
       "    <tr>\n",
       "      <td>50%</td>\n",
       "      <td>0.000000</td>\n",
       "      <td>24.000000</td>\n",
       "    </tr>\n",
       "    <tr>\n",
       "      <td>75%</td>\n",
       "      <td>0.000000</td>\n",
       "      <td>47.000000</td>\n",
       "    </tr>\n",
       "    <tr>\n",
       "      <td>max</td>\n",
       "      <td>5.000000</td>\n",
       "      <td>293.000000</td>\n",
       "    </tr>\n",
       "  </tbody>\n",
       "</table>\n",
       "</div>"
      ],
      "text/plain": [
       "       cgene_count_anchor  cgene_count_loop\n",
       "count         3810.000000       3810.000000\n",
       "mean             0.267717         39.601575\n",
       "std              0.620582         42.729433\n",
       "min              0.000000          1.000000\n",
       "25%              0.000000         13.000000\n",
       "50%              0.000000         24.000000\n",
       "75%              0.000000         47.000000\n",
       "max              5.000000        293.000000"
      ]
     },
     "execution_count": 43,
     "metadata": {},
     "output_type": "execute_result"
    }
   ],
   "source": [
    "snp_info_tissue.describe()"
   ]
  },
  {
   "cell_type": "code",
   "execution_count": null,
   "metadata": {},
   "outputs": [],
   "source": []
  },
  {
   "cell_type": "markdown",
   "metadata": {},
   "source": [
    "# run all cgenes"
   ]
  },
  {
   "cell_type": "code",
   "execution_count": 49,
   "metadata": {},
   "outputs": [],
   "source": [
    "def get_cgenes(tissue):\n",
    "    print(tissue)\n",
    "    anchor_promoter_file = '/Users/mguo123/Documents/pan_omics_psych/data/interim/annon/promoter_anchors/promoter_'+tissue + '_annon.bed'\n",
    "    anchor_promoter_annon_df =  pybedtools.BedTool(anchor_promoter_file).to_dataframe()\n",
    "    anchor_promoter_annon_df.columns = ['chr_p','start_p','stop_p','TSS','chr_f','start_f','stop_f','anchor','overlap']\n",
    "\n",
    "    anchor_annon_df_filt = anchor_promoter_annon_df.sort_values('overlap', ascending=False).drop_duplicates(['TSS','anchor']).sort_index()\n",
    "    anchor_annon_df_filt = anchor_annon_df_filt[['anchor','TSS']]\n",
    "    \n",
    "    \n",
    "    snp_annon_file = os.path.join(save_dir,tissue + '_snp_anchor_annon.bed')\n",
    "    snp_annon_df =  pybedtools.BedTool(snp_annon_file).to_dataframe()\n",
    "    snp_annon_df = snp_annon_df[['thickEnd', 'name']]\n",
    "    snp_annon_df.columns = ['p_loc', 'name']\n",
    "    \n",
    "    snp_df_anchor = snp_annon_df.merge(anchor_annon_df_filt,how='inner', left_on='p_loc',right_on='anchor')\n",
    "    \n",
    "    \n",
    "    loop_file = os.path.join(loop_dir, tissue+'.loops.csv')\n",
    "    # read in loops, then \"annotate\" the source TSS regions the loop anchors\n",
    "    loop_df_bi = make_loop_df(loop_file)\n",
    "    loop_df_bi = loop_df_bi.merge(anchor_annon_df_filt,how='inner',left_on='source',right_on='anchor' )\n",
    "\n",
    "    snp_df_loop = snp_annon_df.merge(loop_df_bi,how='inner', left_on='p_loc',right_on='target')\n",
    "\n",
    "    snp_anchor_info = snp_df_anchor.groupby('name').agg({'TSS':[lambda x: '|'.join(x), 'count']})\n",
    "    snp_anchor_info.columns = ['cgenes_anchor', 'cgene_count_anchor']\n",
    "    snp_anchor_info.reset_index(inplace=True)\n",
    "    snp_loop_info = snp_df_loop.groupby('name').agg({'TSS':[lambda x: '|'.join(x), 'count']})\n",
    "    snp_loop_info.columns = ['cgenes_loop', 'cgene_count_loop']\n",
    "    snp_loop_info.reset_index(inplace=True)\n",
    "    snp_info_tissue = snp_anchor_info.merge(snp_loop_info, how='outer',on='name')\n",
    "    snp_info_tissue.cgenes_anchor.fillna('',inplace=True)\n",
    "    snp_info_tissue.cgene_count_anchor.fillna(0,inplace=True)\n",
    "    snp_info_tissue.cgenes_loop.fillna('',inplace=True)\n",
    "    snp_info_tissue.cgene_count_loop.fillna(0,inplace=True)\n",
    "    snp_info_tissue.to_csv(os.path.join(save_dir, tissue+'_snp_cgene_info.csv'))"
   ]
  },
  {
   "cell_type": "code",
   "execution_count": 48,
   "metadata": {},
   "outputs": [
    {
     "data": {
      "text/plain": [
       "'D_mpraanalyze_barcode_allelic/cgene'"
      ]
     },
     "execution_count": 48,
     "metadata": {},
     "output_type": "execute_result"
    }
   ],
   "source": [
    "save_dir"
   ]
  },
  {
   "cell_type": "code",
   "execution_count": 50,
   "metadata": {},
   "outputs": [
    {
     "name": "stdout",
     "output_type": "stream",
     "text": [
      "Astrocytes\n"
     ]
    },
    {
     "name": "stderr",
     "output_type": "stream",
     "text": [
      "/Users/mguo123/opt/anaconda3/lib/python3.7/site-packages/numpy/lib/arraysetops.py:568: FutureWarning: elementwise comparison failed; returning scalar instead, but in the future will perform elementwise comparison\n",
      "  mask |= (ar1 == a)\n"
     ]
    },
    {
     "name": "stdout",
     "output_type": "stream",
     "text": [
      "H9_D0\n",
      "H9_D10\n",
      "H9_D28\n",
      "H9_D2\n",
      "SLC_D0\n",
      "SLC_D2\n",
      "SL_D0\n",
      "SL_D2\n"
     ]
    }
   ],
   "source": [
    "for tissue in tissues: \n",
    "    get_cgenes(tissue)"
   ]
  },
  {
   "cell_type": "code",
   "execution_count": null,
   "metadata": {},
   "outputs": [],
   "source": []
  },
  {
   "cell_type": "code",
   "execution_count": 26,
   "metadata": {},
   "outputs": [
    {
     "data": {
      "text/plain": [
       "(174, 151)"
      ]
     },
     "execution_count": 26,
     "metadata": {},
     "output_type": "execute_result"
    }
   ],
   "source": [
    "# mpraanalyze_file = 'D_mpraanalyze_barcode_allelic/mpraanalyze_'+tissue_mapping[tissue]+'_comp_filt.csv'\n",
    "# mpra_df = pd.read_csv(mpraanalyze_file,index_col=0)\n",
    "# mpra_df.shape"
   ]
  },
  {
   "cell_type": "code",
   "execution_count": 27,
   "metadata": {},
   "outputs": [],
   "source": [
    "# cgene_anchors =sorted(snp_df_anchor[snp_df_anchor.name.isin(mpra_df.name)].TSS.unique())"
   ]
  },
  {
   "cell_type": "code",
   "execution_count": 28,
   "metadata": {},
   "outputs": [
    {
     "data": {
      "text/plain": [
       "13"
      ]
     },
     "execution_count": 28,
     "metadata": {},
     "output_type": "execute_result"
    }
   ],
   "source": [
    "# len(cgene_anchors)"
   ]
  },
  {
   "cell_type": "code",
   "execution_count": 29,
   "metadata": {},
   "outputs": [
    {
     "data": {
      "text/plain": [
       "['DEF8',\n",
       " 'EPHX2',\n",
       " 'ERBB2',\n",
       " 'FABP6',\n",
       " 'FAM213A',\n",
       " 'HLA-B',\n",
       " 'NSRP1',\n",
       " 'NT5C2',\n",
       " 'ODF3B',\n",
       " 'PML',\n",
       " 'SHANK2',\n",
       " 'STOML1',\n",
       " 'TYMP']"
      ]
     },
     "execution_count": 29,
     "metadata": {},
     "output_type": "execute_result"
    }
   ],
   "source": [
    "# cgene_anchors"
   ]
  },
  {
   "cell_type": "code",
   "execution_count": 30,
   "metadata": {},
   "outputs": [],
   "source": [
    "cgene_loops = sorted(snp_df_loop[snp_df_loop.name.isin(mpra_df.name)].TSS.unique())"
   ]
  },
  {
   "cell_type": "code",
   "execution_count": 31,
   "metadata": {},
   "outputs": [
    {
     "data": {
      "text/plain": [
       "1497"
      ]
     },
     "execution_count": 31,
     "metadata": {},
     "output_type": "execute_result"
    }
   ],
   "source": [
    "len(cgene_loops)"
   ]
  },
  {
   "cell_type": "code",
   "execution_count": null,
   "metadata": {},
   "outputs": [],
   "source": []
  }
 ],
 "metadata": {
  "kernelspec": {
   "display_name": "Python 3",
   "language": "python",
   "name": "python3"
  },
  "language_info": {
   "codemirror_mode": {
    "name": "ipython",
    "version": 3
   },
   "file_extension": ".py",
   "mimetype": "text/x-python",
   "name": "python",
   "nbconvert_exporter": "python",
   "pygments_lexer": "ipython3",
   "version": "3.7.4"
  }
 },
 "nbformat": 4,
 "nbformat_minor": 4
}
