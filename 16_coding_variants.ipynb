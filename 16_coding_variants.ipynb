{
 "cells": [
  {
   "cell_type": "markdown",
   "metadata": {},
   "source": [
    "# explore coding variant overlap between scz meta study and our paper"
   ]
  },
  {
   "cell_type": "code",
   "execution_count": 36,
   "metadata": {},
   "outputs": [],
   "source": [
    "import glob,os\n",
    "import pandas as pd\n",
    "import mygene\n",
    "import seaborn as sns\n",
    "import matplotlib.pyplot as plt\n",
    "mg = mygene.MyGeneInfo()"
   ]
  },
  {
   "cell_type": "code",
   "execution_count": 5,
   "metadata": {},
   "outputs": [
    {
     "data": {
      "text/plain": [
       "433"
      ]
     },
     "execution_count": 5,
     "metadata": {},
     "output_type": "execute_result"
    }
   ],
   "source": [
    "# # polygenic genesets\n",
    "# gene_files = glob.glob('D_mpraanalyze_barcode_allelic/egene_gtex_psychencode/*txt')\n",
    "# gene_files\n",
    "scz_genes = pd.read_table('D_mpraanalyze_barcode_allelic/egene_gtex_psychencode/SCZ.txt', header=None).iloc[:,0].values\n",
    "len(scz_genes)"
   ]
  },
  {
   "cell_type": "markdown",
   "metadata": {},
   "source": [
    "singh data"
   ]
  },
  {
   "cell_type": "code",
   "execution_count": 17,
   "metadata": {},
   "outputs": [
    {
     "name": "stdout",
     "output_type": "stream",
     "text": [
      "querying 1-210...done.\n"
     ]
    }
   ],
   "source": []
  },
  {
   "cell_type": "code",
   "execution_count": 27,
   "metadata": {},
   "outputs": [
    {
     "name": "stdout",
     "output_type": "stream",
     "text": [
      "querying 1-1000...done.\n",
      "querying 1001-2000...done.\n",
      "querying 2001-3000...done.\n",
      "querying 3001-4000...done.\n",
      "querying 4001-5000...done.\n",
      "querying 5001-6000...done.\n",
      "querying 6001-7000...done.\n",
      "querying 7001-8000...done.\n",
      "querying 8001-9000...done.\n",
      "querying 9001-10000...done.\n",
      "querying 10001-11000...done.\n",
      "querying 11001-12000...done.\n",
      "querying 12001-13000...done.\n",
      "querying 13001-14000...done.\n",
      "querying 14001-15000...done.\n",
      "querying 15001-16000...done.\n",
      "querying 16001-17000...done.\n",
      "querying 17001-18000...done.\n",
      "querying 18001-18321...done.\n",
      "(18321, 16)\n",
      "CPU times: user 266 ms, sys: 41.6 ms, total: 307 ms\n",
      "Wall time: 47.4 s\n"
     ]
    }
   ],
   "source": [
    "%%time\n",
    "singh_df = pd.read_csv('coding_variants/meta_results_2021_04_22_12_33_17_sing.csv')#.fillna(0)\n",
    "symbols = [x.get('symbol','') for x in mg.getgenes(singh_df.Gene, fields='name,symbol,entrezgene,taxid')]\n",
    "singh_df['symbol'] = symbols\n",
    "print(singh_df.shape)\n"
   ]
  },
  {
   "cell_type": "code",
   "execution_count": 49,
   "metadata": {},
   "outputs": [
    {
     "data": {
      "text/html": [
       "<div>\n",
       "<style scoped>\n",
       "    .dataframe tbody tr th:only-of-type {\n",
       "        vertical-align: middle;\n",
       "    }\n",
       "\n",
       "    .dataframe tbody tr th {\n",
       "        vertical-align: top;\n",
       "    }\n",
       "\n",
       "    .dataframe thead th {\n",
       "        text-align: right;\n",
       "    }\n",
       "</style>\n",
       "<table border=\"1\" class=\"dataframe\">\n",
       "  <thead>\n",
       "    <tr style=\"text-align: right;\">\n",
       "      <th></th>\n",
       "      <th>Gene</th>\n",
       "      <th>Description</th>\n",
       "      <th>Case PTV</th>\n",
       "      <th>Control PTV</th>\n",
       "      <th>Case Missense (MPC ≥ 3)</th>\n",
       "      <th>Control Missense (MPC ≥ 3)</th>\n",
       "      <th>Case Missense (2 ≤ MPC &lt; 3)</th>\n",
       "      <th>Control Missense (2 ≤ MPC &lt; 3)</th>\n",
       "      <th>De novo PTV</th>\n",
       "      <th>De Novo Missense (MPC ≥ 3)</th>\n",
       "      <th>De Novo Missense (2 ≤ MPC &lt; 3)</th>\n",
       "      <th>P meta</th>\n",
       "      <th>Q meta</th>\n",
       "      <th>OR (Class I)</th>\n",
       "      <th>OR (Class II)</th>\n",
       "      <th>symbol</th>\n",
       "    </tr>\n",
       "  </thead>\n",
       "  <tbody>\n",
       "    <tr>\n",
       "      <td>0</td>\n",
       "      <td>ENSG00000099381</td>\n",
       "      <td>SET domain containing 1A, histone lysine methy...</td>\n",
       "      <td>15.0</td>\n",
       "      <td>3.0</td>\n",
       "      <td>3.0</td>\n",
       "      <td>4.0</td>\n",
       "      <td>11</td>\n",
       "      <td>10</td>\n",
       "      <td>3.0</td>\n",
       "      <td>NaN</td>\n",
       "      <td>NaN</td>\n",
       "      <td>2.000000e-12</td>\n",
       "      <td>3.620000e-08</td>\n",
       "      <td>10.3</td>\n",
       "      <td>4.42</td>\n",
       "      <td>SETD1A</td>\n",
       "    </tr>\n",
       "    <tr>\n",
       "      <td>1</td>\n",
       "      <td>ENSG00000055130</td>\n",
       "      <td>cullin 1</td>\n",
       "      <td>8.0</td>\n",
       "      <td>1.0</td>\n",
       "      <td>2.0</td>\n",
       "      <td>0.0</td>\n",
       "      <td>7</td>\n",
       "      <td>16</td>\n",
       "      <td>3.0</td>\n",
       "      <td>NaN</td>\n",
       "      <td>NaN</td>\n",
       "      <td>2.010000e-09</td>\n",
       "      <td>1.820000e-05</td>\n",
       "      <td>44.2</td>\n",
       "      <td>1.76</td>\n",
       "      <td>CUL1</td>\n",
       "    </tr>\n",
       "    <tr>\n",
       "      <td>2</td>\n",
       "      <td>ENSG00000130227</td>\n",
       "      <td>exportin 7</td>\n",
       "      <td>12.0</td>\n",
       "      <td>1.0</td>\n",
       "      <td>1.0</td>\n",
       "      <td>1.0</td>\n",
       "      <td>10</td>\n",
       "      <td>32</td>\n",
       "      <td>1.0</td>\n",
       "      <td>NaN</td>\n",
       "      <td>NaN</td>\n",
       "      <td>7.180000e-09</td>\n",
       "      <td>4.340000e-05</td>\n",
       "      <td>28.1</td>\n",
       "      <td>1.25</td>\n",
       "      <td>XPO7</td>\n",
       "    </tr>\n",
       "    <tr>\n",
       "      <td>3</td>\n",
       "      <td>ENSG00000038382</td>\n",
       "      <td>trio Rho guanine nucleotide exchange factor</td>\n",
       "      <td>18.0</td>\n",
       "      <td>16.0</td>\n",
       "      <td>0.0</td>\n",
       "      <td>0.0</td>\n",
       "      <td>24</td>\n",
       "      <td>102</td>\n",
       "      <td>2.0</td>\n",
       "      <td>NaN</td>\n",
       "      <td>NaN</td>\n",
       "      <td>6.350000e-08</td>\n",
       "      <td>2.880000e-04</td>\n",
       "      <td>5.02</td>\n",
       "      <td>0.944</td>\n",
       "      <td>TRIO</td>\n",
       "    </tr>\n",
       "    <tr>\n",
       "      <td>4</td>\n",
       "      <td>ENSG00000006283</td>\n",
       "      <td>calcium voltage-gated channel subunit alpha1 G</td>\n",
       "      <td>10.0</td>\n",
       "      <td>13.0</td>\n",
       "      <td>8.0</td>\n",
       "      <td>4.0</td>\n",
       "      <td>55</td>\n",
       "      <td>134</td>\n",
       "      <td>NaN</td>\n",
       "      <td>NaN</td>\n",
       "      <td>1.0</td>\n",
       "      <td>4.570000e-07</td>\n",
       "      <td>1.540000e-03</td>\n",
       "      <td>4.25</td>\n",
       "      <td>1.68</td>\n",
       "      <td>CACNA1G</td>\n",
       "    </tr>\n",
       "  </tbody>\n",
       "</table>\n",
       "</div>"
      ],
      "text/plain": [
       "              Gene                                        Description  \\\n",
       "0  ENSG00000099381  SET domain containing 1A, histone lysine methy...   \n",
       "1  ENSG00000055130                                           cullin 1   \n",
       "2  ENSG00000130227                                         exportin 7   \n",
       "3  ENSG00000038382        trio Rho guanine nucleotide exchange factor   \n",
       "4  ENSG00000006283     calcium voltage-gated channel subunit alpha1 G   \n",
       "\n",
       "   Case PTV  Control PTV  Case Missense (MPC ≥ 3)  Control Missense (MPC ≥ 3)  \\\n",
       "0      15.0          3.0                      3.0                         4.0   \n",
       "1       8.0          1.0                      2.0                         0.0   \n",
       "2      12.0          1.0                      1.0                         1.0   \n",
       "3      18.0         16.0                      0.0                         0.0   \n",
       "4      10.0         13.0                      8.0                         4.0   \n",
       "\n",
       "   Case Missense (2 ≤ MPC < 3)  Control Missense (2 ≤ MPC < 3)  De novo PTV  \\\n",
       "0                           11                              10          3.0   \n",
       "1                            7                              16          3.0   \n",
       "2                           10                              32          1.0   \n",
       "3                           24                             102          2.0   \n",
       "4                           55                             134          NaN   \n",
       "\n",
       "   De Novo Missense (MPC ≥ 3)  De Novo Missense (2 ≤ MPC < 3)        P meta  \\\n",
       "0                         NaN                             NaN  2.000000e-12   \n",
       "1                         NaN                             NaN  2.010000e-09   \n",
       "2                         NaN                             NaN  7.180000e-09   \n",
       "3                         NaN                             NaN  6.350000e-08   \n",
       "4                         NaN                             1.0  4.570000e-07   \n",
       "\n",
       "         Q meta OR (Class I) OR (Class II)   symbol  \n",
       "0  3.620000e-08         10.3          4.42   SETD1A  \n",
       "1  1.820000e-05         44.2          1.76     CUL1  \n",
       "2  4.340000e-05         28.1          1.25     XPO7  \n",
       "3  2.880000e-04         5.02         0.944     TRIO  \n",
       "4  1.540000e-03         4.25          1.68  CACNA1G  "
      ]
     },
     "execution_count": 49,
     "metadata": {},
     "output_type": "execute_result"
    }
   ],
   "source": [
    "singh_df[:5]"
   ]
  },
  {
   "cell_type": "code",
   "execution_count": 30,
   "metadata": {},
   "outputs": [
    {
     "name": "stdout",
     "output_type": "stream",
     "text": [
      "(32, 16)\n"
     ]
    },
    {
     "data": {
      "text/plain": [
       "array(['SETD1A', 'CUL1', 'XPO7', 'TRIO', 'CACNA1G', 'SP4', 'GRIA3',\n",
       "       'GRIN2A', 'HERC1', 'RB1CC1', 'HCN4', 'AKAP11', 'ZNF136', 'SRRM2',\n",
       "       'NR3C2', 'ZMYM2', 'FAM120A', 'SLF2', 'KDM6B', 'DNM3', 'ASH1L',\n",
       "       'STAG1', 'H1-4', 'PREP', 'MAGEC1', 'MAGI2', 'DAGLA', 'OR4P4',\n",
       "       'SLC22A11', 'ANKRD12', 'SV2A', 'EIF2S3'], dtype=object)"
      ]
     },
     "execution_count": 30,
     "metadata": {},
     "output_type": "execute_result"
    }
   ],
   "source": [
    "singh_df_filt = singh_df[singh_df['Q meta']<0.05]\n",
    "\n",
    "print(singh_df_filt.shape)\n",
    "\n",
    "# singh_df_filt[:5]\n",
    "singh_df_filt.symbol.values"
   ]
  },
  {
   "cell_type": "code",
   "execution_count": 31,
   "metadata": {},
   "outputs": [],
   "source": [
    "singh_df.to_csv('coding_variants/singh_wsym.csv')\n",
    "singh_df_filt.to_csv('coding_variants/singh_wsym_fdr05.csv')"
   ]
  },
  {
   "cell_type": "code",
   "execution_count": 35,
   "metadata": {},
   "outputs": [
    {
     "name": "stdout",
     "output_type": "stream",
     "text": [
      "433\n",
      "355\n"
     ]
    }
   ],
   "source": [
    "print(len(scz_genes))\n",
    "print(len(set(singh_df.symbol).intersection(scz_genes)))"
   ]
  },
  {
   "cell_type": "code",
   "execution_count": 37,
   "metadata": {},
   "outputs": [],
   "source": [
    "singh_df_scz = singh_df[singh_df.symbol.isin(scz_genes)]"
   ]
  },
  {
   "cell_type": "code",
   "execution_count": 62,
   "metadata": {},
   "outputs": [
    {
     "data": {
      "text/plain": [
       "<matplotlib.axes._subplots.AxesSubplot at 0x7fbbca7b9c90>"
      ]
     },
     "execution_count": 62,
     "metadata": {},
     "output_type": "execute_result"
    },
    {
     "data": {
      "image/png": "[encoded data removed]",
      "text/plain": [
       "<Figure size 432x288 with 1 Axes>"
      ]
     },
     "metadata": {
      "needs_background": "light"
     },
     "output_type": "display_data"
    }
   ],
   "source": [
    "sns.lineplot(data=singh_df.reset_index(), x='index', y='Q meta',color='black')\n"
   ]
  },
  {
   "cell_type": "code",
   "execution_count": 54,
   "metadata": {},
   "outputs": [
    {
     "data": {
      "image/png": "[encoded data removed]",
      "text/plain": [
       "<Figure size 432x288 with 1 Axes>"
      ]
     },
     "metadata": {
      "needs_background": "light"
     },
     "output_type": "display_data"
    }
   ],
   "source": [
    "sns.scatterplot(data=singh_df_scz.reset_index(), x='index', y='Q meta')\n",
    "def label_point(x, y, val, ax):\n",
    "    a = pd.concat({'x': x, 'y': y, 'val': val}, axis=1)\n",
    "    for i, point in a.iterrows():\n",
    "        ax.text(point['x']+.02, point['y'], str(point['val']))\n",
    "\n",
    "singh_df_scz_filt = singh_df_scz.reset_index()\n",
    "singh_df_scz_filt = singh_df_scz_filt[singh_df_scz_filt['Q meta']<.55]\n",
    "label_point(singh_df_scz_filt['index'],\n",
    "            singh_df_scz_filt['Q meta'], \n",
    "            singh_df_scz_filt['symbol'], plt.gca())  \n",
    "plt.show()"
   ]
  },
  {
   "cell_type": "code",
   "execution_count": 43,
   "metadata": {},
   "outputs": [
    {
     "ename": "AttributeError",
     "evalue": "'DataFrame' object has no attribute 'scatter'",
     "output_type": "error",
     "traceback": [
      "\u001b[0;31m---------------------------------------------------------------------------\u001b[0m",
      "\u001b[0;31mAttributeError\u001b[0m                            Traceback (most recent call last)",
      "\u001b[0;32m<ipython-input-43-ba1d32f226b7>\u001b[0m in \u001b[0;36m<module>\u001b[0;34m\u001b[0m\n\u001b[0;32m----> 1\u001b[0;31m \u001b[0msingh_df_scz\u001b[0m\u001b[0;34m.\u001b[0m\u001b[0mreset_index\u001b[0m\u001b[0;34m(\u001b[0m\u001b[0;34m)\u001b[0m\u001b[0;34m.\u001b[0m\u001b[0mscatter\u001b[0m\u001b[0;34m(\u001b[0m\u001b[0mx\u001b[0m\u001b[0;34m=\u001b[0m\u001b[0;34m'index'\u001b[0m\u001b[0;34m,\u001b[0m\u001b[0my\u001b[0m\u001b[0;34m=\u001b[0m\u001b[0;34m'Q meta'\u001b[0m\u001b[0;34m)\u001b[0m\u001b[0;34m\u001b[0m\u001b[0;34m\u001b[0m\u001b[0m\n\u001b[0m",
      "\u001b[0;32m~/opt/anaconda3/lib/python3.7/site-packages/pandas/core/generic.py\u001b[0m in \u001b[0;36m__getattr__\u001b[0;34m(self, name)\u001b[0m\n\u001b[1;32m   5177\u001b[0m             \u001b[0;32mif\u001b[0m \u001b[0mself\u001b[0m\u001b[0;34m.\u001b[0m\u001b[0m_info_axis\u001b[0m\u001b[0;34m.\u001b[0m\u001b[0m_can_hold_identifiers_and_holds_name\u001b[0m\u001b[0;34m(\u001b[0m\u001b[0mname\u001b[0m\u001b[0;34m)\u001b[0m\u001b[0;34m:\u001b[0m\u001b[0;34m\u001b[0m\u001b[0;34m\u001b[0m\u001b[0m\n\u001b[1;32m   5178\u001b[0m                 \u001b[0;32mreturn\u001b[0m \u001b[0mself\u001b[0m\u001b[0;34m[\u001b[0m\u001b[0mname\u001b[0m\u001b[0;34m]\u001b[0m\u001b[0;34m\u001b[0m\u001b[0;34m\u001b[0m\u001b[0m\n\u001b[0;32m-> 5179\u001b[0;31m             \u001b[0;32mreturn\u001b[0m \u001b[0mobject\u001b[0m\u001b[0;34m.\u001b[0m\u001b[0m__getattribute__\u001b[0m\u001b[0;34m(\u001b[0m\u001b[0mself\u001b[0m\u001b[0;34m,\u001b[0m \u001b[0mname\u001b[0m\u001b[0;34m)\u001b[0m\u001b[0;34m\u001b[0m\u001b[0;34m\u001b[0m\u001b[0m\n\u001b[0m\u001b[1;32m   5180\u001b[0m \u001b[0;34m\u001b[0m\u001b[0m\n\u001b[1;32m   5181\u001b[0m     \u001b[0;32mdef\u001b[0m \u001b[0m__setattr__\u001b[0m\u001b[0;34m(\u001b[0m\u001b[0mself\u001b[0m\u001b[0;34m,\u001b[0m \u001b[0mname\u001b[0m\u001b[0;34m,\u001b[0m \u001b[0mvalue\u001b[0m\u001b[0;34m)\u001b[0m\u001b[0;34m:\u001b[0m\u001b[0;34m\u001b[0m\u001b[0;34m\u001b[0m\u001b[0m\n",
      "\u001b[0;31mAttributeError\u001b[0m: 'DataFrame' object has no attribute 'scatter'"
     ]
    }
   ],
   "source": [
    "singh_df_scz.reset_index().(x='index',y='Q meta')"
   ]
  },
  {
   "cell_type": "markdown",
   "metadata": {},
   "source": [
    "# from ripke 2020"
   ]
  },
  {
   "cell_type": "code",
   "execution_count": 64,
   "metadata": {},
   "outputs": [
    {
     "data": {
      "text/html": [
       "<div>\n",
       "<style scoped>\n",
       "    .dataframe tbody tr th:only-of-type {\n",
       "        vertical-align: middle;\n",
       "    }\n",
       "\n",
       "    .dataframe tbody tr th {\n",
       "        vertical-align: top;\n",
       "    }\n",
       "\n",
       "    .dataframe thead th {\n",
       "        text-align: right;\n",
       "    }\n",
       "</style>\n",
       "<table border=\"1\" class=\"dataframe\">\n",
       "  <thead>\n",
       "    <tr style=\"text-align: right;\">\n",
       "      <th></th>\n",
       "      <th>Index.SNP</th>\n",
       "      <th>Ensembl.ID</th>\n",
       "      <th>Symbol.ID</th>\n",
       "      <th>gene_biotype</th>\n",
       "      <th>FINEMAPk3.5</th>\n",
       "      <th>nonsynPP0.10</th>\n",
       "      <th>UTRPP0.10</th>\n",
       "      <th>k3.5singleGene</th>\n",
       "      <th>SMRpsych</th>\n",
       "      <th>SMRfetal</th>\n",
       "      <th>...</th>\n",
       "      <th>adultFUSION.testable</th>\n",
       "      <th>sig.adultFUSION</th>\n",
       "      <th>fetalFUSION.testable</th>\n",
       "      <th>sig.fetalFUSION</th>\n",
       "      <th>EpiXcan.testable.gene.filtered</th>\n",
       "      <th>sig.EpiXcan.gene.filtered</th>\n",
       "      <th>SCHEMA</th>\n",
       "      <th>ASD</th>\n",
       "      <th>DDD</th>\n",
       "      <th>Prioritised</th>\n",
       "    </tr>\n",
       "  </thead>\n",
       "  <tbody>\n",
       "    <tr>\n",
       "      <td>0</td>\n",
       "      <td>rs11121172</td>\n",
       "      <td>ENSG00000142599</td>\n",
       "      <td>RERE</td>\n",
       "      <td>protein_coding</td>\n",
       "      <td>1</td>\n",
       "      <td>0</td>\n",
       "      <td>0</td>\n",
       "      <td>1</td>\n",
       "      <td>0</td>\n",
       "      <td>0</td>\n",
       "      <td>...</td>\n",
       "      <td>1</td>\n",
       "      <td>1</td>\n",
       "      <td>0</td>\n",
       "      <td>0</td>\n",
       "      <td>1</td>\n",
       "      <td>1</td>\n",
       "      <td>0</td>\n",
       "      <td>0</td>\n",
       "      <td>1</td>\n",
       "      <td>1</td>\n",
       "    </tr>\n",
       "    <tr>\n",
       "      <td>1</td>\n",
       "      <td>rs113113059</td>\n",
       "      <td>ENSG00000112659</td>\n",
       "      <td>CUL9</td>\n",
       "      <td>protein_coding</td>\n",
       "      <td>1</td>\n",
       "      <td>1</td>\n",
       "      <td>0</td>\n",
       "      <td>1</td>\n",
       "      <td>1</td>\n",
       "      <td>0</td>\n",
       "      <td>...</td>\n",
       "      <td>0</td>\n",
       "      <td>0</td>\n",
       "      <td>0</td>\n",
       "      <td>0</td>\n",
       "      <td>1</td>\n",
       "      <td>1</td>\n",
       "      <td>0</td>\n",
       "      <td>0</td>\n",
       "      <td>0</td>\n",
       "      <td>1</td>\n",
       "    </tr>\n",
       "    <tr>\n",
       "      <td>2</td>\n",
       "      <td>rs72986630</td>\n",
       "      <td>ENSG00000197933</td>\n",
       "      <td>ZNF823</td>\n",
       "      <td>protein_coding</td>\n",
       "      <td>1</td>\n",
       "      <td>0</td>\n",
       "      <td>1</td>\n",
       "      <td>1</td>\n",
       "      <td>0</td>\n",
       "      <td>0</td>\n",
       "      <td>...</td>\n",
       "      <td>1</td>\n",
       "      <td>1</td>\n",
       "      <td>0</td>\n",
       "      <td>0</td>\n",
       "      <td>1</td>\n",
       "      <td>1</td>\n",
       "      <td>0</td>\n",
       "      <td>0</td>\n",
       "      <td>0</td>\n",
       "      <td>1</td>\n",
       "    </tr>\n",
       "    <tr>\n",
       "      <td>3</td>\n",
       "      <td>rs2022265</td>\n",
       "      <td>ENSG00000065609</td>\n",
       "      <td>SNAP91</td>\n",
       "      <td>protein_coding</td>\n",
       "      <td>1</td>\n",
       "      <td>0</td>\n",
       "      <td>0</td>\n",
       "      <td>1</td>\n",
       "      <td>1</td>\n",
       "      <td>0</td>\n",
       "      <td>...</td>\n",
       "      <td>1</td>\n",
       "      <td>1</td>\n",
       "      <td>0</td>\n",
       "      <td>0</td>\n",
       "      <td>1</td>\n",
       "      <td>1</td>\n",
       "      <td>0</td>\n",
       "      <td>0</td>\n",
       "      <td>0</td>\n",
       "      <td>1</td>\n",
       "    </tr>\n",
       "    <tr>\n",
       "      <td>4</td>\n",
       "      <td>rs4702</td>\n",
       "      <td>ENSG00000140564</td>\n",
       "      <td>FURIN</td>\n",
       "      <td>protein_coding</td>\n",
       "      <td>1</td>\n",
       "      <td>0</td>\n",
       "      <td>1</td>\n",
       "      <td>1</td>\n",
       "      <td>1</td>\n",
       "      <td>0</td>\n",
       "      <td>...</td>\n",
       "      <td>1</td>\n",
       "      <td>1</td>\n",
       "      <td>0</td>\n",
       "      <td>0</td>\n",
       "      <td>1</td>\n",
       "      <td>1</td>\n",
       "      <td>0</td>\n",
       "      <td>0</td>\n",
       "      <td>0</td>\n",
       "      <td>1</td>\n",
       "    </tr>\n",
       "  </tbody>\n",
       "</table>\n",
       "<p>5 rows × 24 columns</p>\n",
       "</div>"
      ],
      "text/plain": [
       "     Index.SNP       Ensembl.ID Symbol.ID    gene_biotype  FINEMAPk3.5  \\\n",
       "0   rs11121172  ENSG00000142599      RERE  protein_coding            1   \n",
       "1  rs113113059  ENSG00000112659      CUL9  protein_coding            1   \n",
       "2   rs72986630  ENSG00000197933    ZNF823  protein_coding            1   \n",
       "3    rs2022265  ENSG00000065609    SNAP91  protein_coding            1   \n",
       "4       rs4702  ENSG00000140564     FURIN  protein_coding            1   \n",
       "\n",
       "   nonsynPP0.10  UTRPP0.10  k3.5singleGene  SMRpsych  SMRfetal  ...  \\\n",
       "0             0          0               1         0         0  ...   \n",
       "1             1          0               1         1         0  ...   \n",
       "2             0          1               1         0         0  ...   \n",
       "3             0          0               1         1         0  ...   \n",
       "4             0          1               1         1         0  ...   \n",
       "\n",
       "   adultFUSION.testable  sig.adultFUSION  fetalFUSION.testable  \\\n",
       "0                     1                1                     0   \n",
       "1                     0                0                     0   \n",
       "2                     1                1                     0   \n",
       "3                     1                1                     0   \n",
       "4                     1                1                     0   \n",
       "\n",
       "   sig.fetalFUSION  EpiXcan.testable.gene.filtered  sig.EpiXcan.gene.filtered  \\\n",
       "0                0                               1                          1   \n",
       "1                0                               1                          1   \n",
       "2                0                               1                          1   \n",
       "3                0                               1                          1   \n",
       "4                0                               1                          1   \n",
       "\n",
       "   SCHEMA  ASD  DDD  Prioritised  \n",
       "0       0    0    1            1  \n",
       "1       0    0    0            1  \n",
       "2       0    0    0            1  \n",
       "3       0    0    0            1  \n",
       "4       0    0    0            1  \n",
       "\n",
       "[5 rows x 24 columns]"
      ]
     },
     "execution_count": 64,
     "metadata": {},
     "output_type": "execute_result"
    }
   ],
   "source": [
    "ripke_2020 = pd.read_excel('/Users/mguo123/Google Drive/1_khavari/papers/tables/Supplementary Table 20 - Prioritised Genes.xlsx',sheet_name='ST20 all criteria')\n",
    "ripke_2020[:5]"
   ]
  },
  {
   "cell_type": "code",
   "execution_count": 68,
   "metadata": {},
   "outputs": [
    {
     "data": {
      "text/plain": [
       "Index.SNP                         rs11121172rs113113059rs72986630rs2022265rs4702...\n",
       "Ensembl.ID                        ENSG00000142599ENSG00000112659ENSG00000197933E...\n",
       "Symbol.ID                         RERECUL9ZNF823SNAP91FURINCACNA1IRP11-73M18.2CY...\n",
       "gene_biotype                      protein_codingprotein_codingprotein_codingprot...\n",
       "FINEMAPk3.5                                                                     569\n",
       "nonsynPP0.10                                                                     12\n",
       "UTRPP0.10                                                                        12\n",
       "k3.5singleGene                                                                   65\n",
       "SMRpsych                                                                         81\n",
       "SMRfetal                                                                         21\n",
       "SMRblood                                                                         33\n",
       "SMRmap                                                                           18\n",
       "SMRsingleGene                                                                    33\n",
       "HI.C.SMR                                                                         30\n",
       "adultFUSION.testable                                                            354\n",
       "sig.adultFUSION                                                                 139\n",
       "fetalFUSION.testable                                                             55\n",
       "sig.fetalFUSION                                                                  33\n",
       "EpiXcan.testable.gene.filtered                                                  321\n",
       "sig.EpiXcan.gene.filtered                                                       132\n",
       "SCHEMA                                                                            4\n",
       "ASD                                                                               8\n",
       "DDD                                                                              22\n",
       "Prioritised                                                                     130\n",
       "dtype: object"
      ]
     },
     "execution_count": 68,
     "metadata": {},
     "output_type": "execute_result"
    }
   ],
   "source": [
    "ripke_2020.sum(axis=0)"
   ]
  },
  {
   "cell_type": "code",
   "execution_count": 69,
   "metadata": {},
   "outputs": [
    {
     "data": {
      "text/plain": [
       "(130, 24)"
      ]
     },
     "execution_count": 69,
     "metadata": {},
     "output_type": "execute_result"
    }
   ],
   "source": [
    "ripke_2020 = ripke_2020[ripke_2020.Prioritised>0]\n",
    "ripke_2020.shape"
   ]
  },
  {
   "cell_type": "code",
   "execution_count": 70,
   "metadata": {},
   "outputs": [
    {
     "data": {
      "text/plain": [
       "{'ATG13',\n",
       " 'CISD2',\n",
       " 'CLCN3',\n",
       " 'DDHD2',\n",
       " 'IMMP2L',\n",
       " 'IRF3',\n",
       " 'LSM1',\n",
       " 'MAN2A1',\n",
       " 'PCCB',\n",
       " 'PCDHA2',\n",
       " 'PCDHA8',\n",
       " 'RERE',\n",
       " 'RNASEH2C',\n",
       " 'SETD6',\n",
       " 'SLC9B1',\n",
       " 'THOC7',\n",
       " 'ZNF823'}"
      ]
     },
     "execution_count": 70,
     "metadata": {},
     "output_type": "execute_result"
    }
   ],
   "source": [
    "set(ripke_2020['Symbol.ID']).intersection(scz_genes)"
   ]
  },
  {
   "cell_type": "markdown",
   "metadata": {},
   "source": [
    "# laramie\n"
   ]
  },
  {
   "cell_type": "code",
   "execution_count": 71,
   "metadata": {},
   "outputs": [
    {
     "data": {
      "text/html": [
       "<div>\n",
       "<style scoped>\n",
       "    .dataframe tbody tr th:only-of-type {\n",
       "        vertical-align: middle;\n",
       "    }\n",
       "\n",
       "    .dataframe tbody tr th {\n",
       "        vertical-align: top;\n",
       "    }\n",
       "\n",
       "    .dataframe thead th {\n",
       "        text-align: right;\n",
       "    }\n",
       "</style>\n",
       "<table border=\"1\" class=\"dataframe\">\n",
       "  <thead>\n",
       "    <tr style=\"text-align: right;\">\n",
       "      <th></th>\n",
       "      <th>Order</th>\n",
       "      <th>Gene_symbol</th>\n",
       "      <th>Meta_analysis_p_value[SCHEMA]__FINEMAP_posterior_probability[Pardinas_2018]__credible_causal_5orless[Lam_2019]</th>\n",
       "      <th>Source</th>\n",
       "    </tr>\n",
       "  </thead>\n",
       "  <tbody>\n",
       "    <tr>\n",
       "      <td>0</td>\n",
       "      <td>1</td>\n",
       "      <td>DRD2</td>\n",
       "      <td>0.6915</td>\n",
       "      <td>Pardinas 2018 FINEMAP posterior probability &gt; ...</td>\n",
       "    </tr>\n",
       "    <tr>\n",
       "      <td>1</td>\n",
       "      <td>2</td>\n",
       "      <td>SETD1A</td>\n",
       "      <td>7.73e-13</td>\n",
       "      <td>SCHEMA browser top variants 1_30_2020</td>\n",
       "    </tr>\n",
       "    <tr>\n",
       "      <td>2</td>\n",
       "      <td>3</td>\n",
       "      <td>GRIN2A</td>\n",
       "      <td>1.42e-07</td>\n",
       "      <td>SCHEMA browser top variants 1_30_2020, GWAS locus</td>\n",
       "    </tr>\n",
       "    <tr>\n",
       "      <td>3</td>\n",
       "      <td>4</td>\n",
       "      <td>SP4</td>\n",
       "      <td>5.08e-07</td>\n",
       "      <td>SCHEMA browser top variants 1_30_2020, GWAS locus</td>\n",
       "    </tr>\n",
       "    <tr>\n",
       "      <td>4</td>\n",
       "      <td>5</td>\n",
       "      <td>KDM6B</td>\n",
       "      <td>1.15e-05</td>\n",
       "      <td>SCHEMA browser top variants 1_30_2020, Gene se...</td>\n",
       "    </tr>\n",
       "    <tr>\n",
       "      <td>...</td>\n",
       "      <td>...</td>\n",
       "      <td>...</td>\n",
       "      <td>...</td>\n",
       "      <td>...</td>\n",
       "    </tr>\n",
       "    <tr>\n",
       "      <td>75</td>\n",
       "      <td>76</td>\n",
       "      <td>CHRNA5</td>\n",
       "      <td>p=1.07E-12, credible causal=4</td>\n",
       "      <td>Lam 2019 credible causal 5 or less</td>\n",
       "    </tr>\n",
       "    <tr>\n",
       "      <td>76</td>\n",
       "      <td>77</td>\n",
       "      <td>CHRNA3</td>\n",
       "      <td>p=1.07E-12, credible causal=4</td>\n",
       "      <td>Lam 2019 credible causal 5 or less</td>\n",
       "    </tr>\n",
       "    <tr>\n",
       "      <td>77</td>\n",
       "      <td>78</td>\n",
       "      <td>CHRNB4</td>\n",
       "      <td>p=1.07E-12, credible causal=4</td>\n",
       "      <td>Lam 2019 credible causal 5 or less</td>\n",
       "    </tr>\n",
       "    <tr>\n",
       "      <td>78</td>\n",
       "      <td>79</td>\n",
       "      <td>PTPRF</td>\n",
       "      <td>p=1.99E-14, credible causal=5</td>\n",
       "      <td>Lam 2019 credible causal 5 or less</td>\n",
       "    </tr>\n",
       "    <tr>\n",
       "      <td>79</td>\n",
       "      <td>80</td>\n",
       "      <td>KDM4A</td>\n",
       "      <td>p=1.99E-14, credible causal=5</td>\n",
       "      <td>Lam 2019 credible causal 5 or less</td>\n",
       "    </tr>\n",
       "  </tbody>\n",
       "</table>\n",
       "<p>80 rows × 4 columns</p>\n",
       "</div>"
      ],
      "text/plain": [
       "    Order Gene_symbol  \\\n",
       "0       1        DRD2   \n",
       "1       2      SETD1A   \n",
       "2       3      GRIN2A   \n",
       "3       4         SP4   \n",
       "4       5       KDM6B   \n",
       "..    ...         ...   \n",
       "75     76      CHRNA5   \n",
       "76     77      CHRNA3   \n",
       "77     78      CHRNB4   \n",
       "78     79       PTPRF   \n",
       "79     80       KDM4A   \n",
       "\n",
       "   Meta_analysis_p_value[SCHEMA]__FINEMAP_posterior_probability[Pardinas_2018]__credible_causal_5orless[Lam_2019]  \\\n",
       "0                                              0.6915                                                               \n",
       "1                                            7.73e-13                                                               \n",
       "2                                            1.42e-07                                                               \n",
       "3                                            5.08e-07                                                               \n",
       "4                                            1.15e-05                                                               \n",
       "..                                                ...                                                               \n",
       "75                      p=1.07E-12, credible causal=4                                                               \n",
       "76                      p=1.07E-12, credible causal=4                                                               \n",
       "77                      p=1.07E-12, credible causal=4                                                               \n",
       "78                      p=1.99E-14, credible causal=5                                                               \n",
       "79                      p=1.99E-14, credible causal=5                                                               \n",
       "\n",
       "                                               Source  \n",
       "0   Pardinas 2018 FINEMAP posterior probability > ...  \n",
       "1               SCHEMA browser top variants 1_30_2020  \n",
       "2   SCHEMA browser top variants 1_30_2020, GWAS locus  \n",
       "3   SCHEMA browser top variants 1_30_2020, GWAS locus  \n",
       "4   SCHEMA browser top variants 1_30_2020, Gene se...  \n",
       "..                                                ...  \n",
       "75                 Lam 2019 credible causal 5 or less  \n",
       "76                 Lam 2019 credible causal 5 or less  \n",
       "77                 Lam 2019 credible causal 5 or less  \n",
       "78                 Lam 2019 credible causal 5 or less  \n",
       "79                 Lam 2019 credible causal 5 or less  \n",
       "\n",
       "[80 rows x 4 columns]"
      ]
     },
     "execution_count": 71,
     "metadata": {},
     "output_type": "execute_result"
    }
   ],
   "source": [
    "known_genes_df = pd.read_excel('coding_variants/Schizophrenia_gene_list_2_24_20_FINAL.xlsx',sheet_name='schizophrenia_list_2_24_20')\n",
    "known_genes_df"
   ]
  },
  {
   "cell_type": "code",
   "execution_count": 72,
   "metadata": {},
   "outputs": [
    {
     "data": {
      "text/plain": [
       "{'C4A', 'SV2A', 'ZNF823'}"
      ]
     },
     "execution_count": 72,
     "metadata": {},
     "output_type": "execute_result"
    }
   ],
   "source": [
    "set(known_genes_df.Gene_symbol).intersection(set(scz_genes))"
   ]
  },
  {
   "cell_type": "code",
   "execution_count": 75,
   "metadata": {},
   "outputs": [
    {
     "name": "stdout",
     "output_type": "stream",
     "text": [
      "False\n"
     ]
    }
   ],
   "source": [
    "print('DAGLA' in scz_genes)"
   ]
  },
  {
   "cell_type": "code",
   "execution_count": 78,
   "metadata": {},
   "outputs": [
    {
     "name": "stdout",
     "output_type": "stream",
     "text": [
      "14\n",
      "AKT1 True\n",
      "C4A True\n",
      "CACNA1G False\n",
      "DAGLA False\n",
      "KDM4A False\n",
      "MAGI2 False\n",
      "MTHFR True\n",
      "PTPRF False\n",
      "R3HDM2 False\n",
      "STAG1 False\n",
      "SV2A True\n",
      "TCF20 False\n",
      "XPO7 False\n",
      "ZNF823 True\n"
     ]
    }
   ],
   "source": [
    "coding_variant_genes = ['AKT1','C4A','CACNA1G','DAGLA','MAGI2','MTHFR','STAG1','SV2A','XPO7','ZNF823','R3HDM2','PTPRF','KDM4A','TCF20']\n",
    "print(len(coding_variant_genes))\n",
    "for x in sorted(coding_variant_genes):\n",
    "    print(x, x in scz_genes)"
   ]
  },
  {
   "cell_type": "code",
   "execution_count": null,
   "metadata": {},
   "outputs": [],
   "source": []
  }
 ],
 "metadata": {
  "kernelspec": {
   "display_name": "Python 3",
   "language": "python",
   "name": "python3"
  },
  "language_info": {
   "codemirror_mode": {
    "name": "ipython",
    "version": 3
   },
   "file_extension": ".py",
   "mimetype": "text/x-python",
   "name": "python",
   "nbconvert_exporter": "python",
   "pygments_lexer": "ipython3",
   "version": "3.7.4"
  }
 },
 "nbformat": 4,
 "nbformat_minor": 4
}
